{
 "cells": [
  {
   "cell_type": "markdown",
   "id": "29702e43-50c2-4ff1-8965-9ee8b147748f",
   "metadata": {},
   "source": [
    "### Jupyter Labの使い方Tips\n",
    "#### **esc +**\n",
    "esc + MでMarkdown，esc + Yでコード，esc + A/Bで現在のセルの上/下にセルを追加，esc + Xでセルをカット\n",
    "#### **その他**\n",
    "JupyterLabのメニュー「View」→「Show Line Numbers」にチェックを入れると、行番号が表示\n",
    "\n",
    "Edit > Clear all outputで全てのセルの出力をクリア"
   ]
  },
  {
   "cell_type": "markdown",
   "id": "4b0f1b3b-dba8-4259-a443-1f81f985b70b",
   "metadata": {},
   "source": [
    "<center>\n",
    "    <h1>1次元圧力拡散方程式</h1>\n",
    "</center>\n",
    "ここでは陰解法による1次元圧力拡散方程式を解くプログラム作成を目指す。離散化手法は陰解法を採用し，離散化式の単位を流量とする。"
   ]
  },
  {
   "cell_type": "markdown",
   "id": "226cc787-5370-41d1-a331-5464def41d46",
   "metadata": {},
   "source": [
    "<h2>支配方程式</h2>\n",
    "密度が一定の，1次元で水平方向に広がる帯水層の質量保存則は\n",
    "$$\n",
    "\\rho \\phi\\left(\n",
    "\\frac{1}{\\rho}\\frac{\\partial \\rho}{\\partial P}+\\frac{1}{\\phi}\\frac{\\partial \\phi}{\\partial P}\n",
    "\\right) \n",
    "\\frac{\\partial P}{\\partial t}\n",
    "= \\rho\\frac{\\partial}{\\partial x}\\frac{k}{\\mu}\\frac{\\partial P}{\\partial x}+\\frac{\\tilde{m}}{V}\\tag{1}\n",
    "$$\n",
    "\n",
    "となる。$\\frac{1}{\\rho}\\frac{\\partial \\rho}{\\partial P}+\\frac{1}{\\phi}\\frac{\\partial \\phi}{\\partial P}=c$（圧縮係数）とおき，両辺を密度$\\rho$で除算すると，\n",
    "\n",
    "$$\n",
    "\\phi c \\frac{\\partial P}{\\partial t}\n",
    "= \\frac{\\partial}{\\partial x}\\frac{k}{\\mu}\\frac{\\partial P}{\\partial x}+\\frac{Q}{V}\\tag{2}\n",
    "$$\n",
    "\n",
    "以下式(2)を離散化して解く\n"
   ]
  },
  {
   "cell_type": "markdown",
   "id": "2aad366d-3dbd-4f5e-bd62-a062a4197440",
   "metadata": {},
   "source": [
    "<h2>問題設定</h2>\n",
    "1次元の圧力拡散方程式を解くが，下図のように断面積Aを持つ直方体状の帯水層を想定する。\n",
    "<center>\n",
    "<img src=\"fig/Aquifer.png\" width = \"600px\"></img>\n",
    "</center>"
   ]
  },
  {
   "cell_type": "markdown",
   "id": "e3a77919-30a1-4ce3-b1c8-94ea2e2cd0e6",
   "metadata": {},
   "source": [
    "<h2>離散化式</h2>\n",
    "$i$ 番目のグリッドにおける離散化式を導出する。グリッドの体積 $V$ を両辺にかけて\n",
    "<br><br>\n",
    "$$\n",
    "V\\phi c \\frac{\\partial P}{\\partial t}\n",
    "= V\\frac{\\partial}{\\partial x}\\frac{k}{\\mu}\\frac{\\partial P}{\\partial x}+Q\\tag{3}\n",
    "$$\n",
    "<br><br>\n",
    "を得る。ただし，$Q$ はソース/シンク項で，坑井による注水/揚水に相当する。\n",
    "<h3>左辺の離散化<h3>\n",
    "数値解析入門で解説した通り<a><"
   ]
  },
  {
   "cell_type": "code",
   "execution_count": null,
   "id": "93d8989d-658d-4aef-afb3-44c8698f13f3",
   "metadata": {},
   "outputs": [],
   "source": []
  }
 ],
 "metadata": {
  "kernelspec": {
   "display_name": "Python 3 (ipykernel)",
   "language": "python",
   "name": "python3"
  },
  "language_info": {
   "codemirror_mode": {
    "name": "ipython",
    "version": 3
   },
   "file_extension": ".py",
   "mimetype": "text/x-python",
   "name": "python",
   "nbconvert_exporter": "python",
   "pygments_lexer": "ipython3",
   "version": "3.9.12"
  }
 },
 "nbformat": 4,
 "nbformat_minor": 5
}
