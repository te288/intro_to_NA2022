{
 "cells": [
  {
   "cell_type": "markdown",
   "id": "ab0752be-ec14-410c-9849-43104634196a",
   "metadata": {},
   "source": [
    "### Jupyter Labの使い方Tips\n",
    "#### **esc +**\n",
    "esc + MでMarkdown，esc + Yでコード，esc + A/Bで現在のセルの上/下にセルを追加，esc + Xでセルをカット\n",
    "#### **その他**\n",
    "JupyterLabのメニュー「View」→「Show Line Numbers」にチェックを入れると、行番号が表示\n",
    "\n",
    "Edit > Clear all outputで全てのセルの出力をクリア"
   ]
  },
  {
   "cell_type": "markdown",
   "id": "b832b095-5ef2-4505-975a-a0e62828d0db",
   "metadata": {},
   "source": [
    "<center>\n",
    "    <h1 style=\"color:blue\"><b>疎行列について</b></h1>\n",
    "</center>\n",
    "先ほどの<a href=\"Pressure1D_implicit.html\">プログラム</a>で使用した係数行列$T$はその大部分が$0$になっており，このような行列を<b>疎行列</b>という。"
   ]
  },
  {
   "cell_type": "markdown",
   "id": "ad7d35aa-3a05-465c-a503-4ad864ae7629",
   "metadata": {},
   "source": []
  }
 ],
 "metadata": {
  "kernelspec": {
   "display_name": "Python 3 (ipykernel)",
   "language": "python",
   "name": "python3"
  },
  "language_info": {
   "codemirror_mode": {
    "name": "ipython",
    "version": 3
   },
   "file_extension": ".py",
   "mimetype": "text/x-python",
   "name": "python",
   "nbconvert_exporter": "python",
   "pygments_lexer": "ipython3",
   "version": "3.9.12"
  }
 },
 "nbformat": 4,
 "nbformat_minor": 5
}
