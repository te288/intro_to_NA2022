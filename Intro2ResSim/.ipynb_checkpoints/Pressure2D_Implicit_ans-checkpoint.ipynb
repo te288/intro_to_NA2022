{
 "cells": [
  {
   "cell_type": "markdown",
   "id": "9c3cdcce-0638-42d0-bc67-d2475156cb2d",
   "metadata": {},
   "source": [
    "### Jupyter Labの使い方Tips\n",
    "#### **esc +**\n",
    "esc + MでMarkdown，esc + Yでコード，esc + A/Bで現在のセルの上/下にセルを追加，esc + Xでセルをカット\n",
    "#### **その他**\n",
    "JupyterLabのメニュー「View」→「Show Line Numbers」にチェックを入れると、行番号が表示\n",
    "\n",
    "Edit > Clear all outputで全てのセルの出力をクリア"
   ]
  },
  {
   "cell_type": "markdown",
   "id": "c6c84edd-8f17-424b-b0b1-e27d3e709335",
   "metadata": {},
   "source": [
    "<center>\n",
    "    <h1 style=\"color:blue\"><b>2次元圧力拡散方程式</b></h1>\n",
    "</center>\n",
    "ここでは陰解法による2次元圧力拡散方程式を解くプログラム作成を目指す。離散化手法は陰解法を採用し，離散化式の単位を流量とする。"
   ]
  },
  {
   "cell_type": "markdown",
   "id": "14a40602-5dcf-421c-acd6-b3c2c6c54dd9",
   "metadata": {},
   "source": [
    "<h2>支配方程式と離散化式</h2>\n",
    "支配方程式は<br>\n",
    "$$\n",
    "\\phi c \\frac{\\partial P}{\\partial t}\n",
    "= \\frac{\\partial}{\\partial x}\\frac{k_{x}}{\\mu}\\frac{\\partial P}{\\partial x}+\\frac{\\partial}{\\partial y}\\frac{k_{y}}{\\mu}\\frac{\\partial P}{\\partial y}+\\frac{Q}{V}\\tag{1}\n",
    "$$"
   ]
  },
  {
   "cell_type": "markdown",
   "id": "64def5d3-7f3f-4c2d-9777-958dad188649",
   "metadata": {},
   "source": [
    "両辺にグリッドの体積$V = h\\Delta x \\Delta y$をかけて有限体積法で離散化すると\n",
    "<br><br>\n",
    "$$\n",
    "-\\left.\\frac{k\\Delta x h}{\\mu\\Delta y}\\right|_{j-\\frac{1}{2}}P^{\\left(n+1\\right)}_{j-1}\n",
    "-\\left.\\frac{k\\Delta y h}{\\mu\\Delta x}\\right|_{i-\\frac{1}{2}}P^{\\left(n+1\\right)}_{i-1}\n",
    "+ \\left(\\left.\\frac{k\\Delta x h}{\\mu\\Delta y}\\right|_{j-\\frac{1}{2}}+\\left.\\frac{k\\Delta y h}{\\mu\\Delta x}\\right|_{i-\\frac{1}{2}}+\\left.\\frac{k\\Delta y h}{\\mu\\Delta x}\\right|_{i+\\frac{1}{2}}+\\left.\\frac{k\\Delta x h}{\\mu\\Delta y}\\right|_{j+\\frac{1}{2}}+\\frac{\\phi c V }{\\Delta t}\\right)P^{\\left(n+1\\right)}_{i}\n",
    "-\\left.\\frac{k\\Delta y h}{\\mu\\Delta x}\\right|_{i+\\frac{1}{2}}P^{\\left(n+1\\right)}_{i+1}\n",
    "-\\left.\\frac{k\\Delta x h}{\\mu\\Delta y}\\right|_{j+\\frac{1}{2}}P^{\\left(n+1\\right)}_{j+1}\n",
    "=\\frac{\\phi c V }{\\Delta t}P^{\\left(n\\right)}_i + Q\\tag{2}\n",
    "$$\n",
    "<br>"
   ]
  },
  {
   "cell_type": "markdown",
   "id": "d085193d-b5a8-48c7-b96d-8eeeabb82639",
   "metadata": {},
   "source": [
    "<h2>グリッドシステム</h2>"
   ]
  },
  {
   "cell_type": "code",
   "execution_count": null,
   "id": "44a002fd-b53a-44ac-8c3a-b2fe64371e95",
   "metadata": {},
   "outputs": [],
   "source": []
  }
 ],
 "metadata": {
  "kernelspec": {
   "display_name": "Python 3 (ipykernel)",
   "language": "python",
   "name": "python3"
  },
  "language_info": {
   "codemirror_mode": {
    "name": "ipython",
    "version": 3
   },
   "file_extension": ".py",
   "mimetype": "text/x-python",
   "name": "python",
   "nbconvert_exporter": "python",
   "pygments_lexer": "ipython3",
   "version": "3.9.12"
  }
 },
 "nbformat": 4,
 "nbformat_minor": 5
}
