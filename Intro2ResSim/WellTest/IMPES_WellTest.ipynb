{
 "cells": [
  {
   "cell_type": "markdown",
   "id": "90cec420-da7c-455c-9ddc-340a33c9df28",
   "metadata": {},
   "source": [
    "圧力一定境界（帯水層）にも対応"
   ]
  },
  {
   "cell_type": "code",
   "execution_count": 20,
   "id": "38b1b07c-d459-45b9-ac78-dc28fe609f14",
   "metadata": {},
   "outputs": [],
   "source": [
    "#import modules\n",
    "import numpy as np\n",
    "from scipy.sparse import spdiags, csr_matrix\n",
    "from ResSimUtils_WellTest import cal_kro_WellTest, cal_krw_WellTest, cal_Ta_WellTest\n",
    "from WellTest_analysis import cal_Pwf\n",
    "from matplotlib import pyplot as plt\n",
    "import warnings"
   ]
  },
  {
   "cell_type": "markdown",
   "id": "b03f8dd1-bf95-445d-80fb-6bc7dbba45ed",
   "metadata": {},
   "source": [
    "<h2>結果の可視化＆保存用関数</h2>"
   ]
  },
  {
   "cell_type": "code",
   "execution_count": 21,
   "id": "ecab1bb0-156b-4956-ac56-9bacf97ab557",
   "metadata": {},
   "outputs": [],
   "source": [
    "# Pressure\n",
    "def ShowResP_Cont(P, t, L, W, Pmin, Pmax, saveflag, showflag, fig):\n",
    "    plt.imshow([P, P], extent = [0, L, 0, W], cmap = 'jet', vmin=Pmin, vmax=Pmax)\n",
    "    plt.xlabel('L[m]')\n",
    "    plt.ylabel('W[m]')\n",
    "    plt.title(\"Reservoir Pressure [Pa]@ {:09.2f}days\".format(t))\n",
    "    plt.colorbar(aspect = 20, orientation= 'horizontal', shrink=1)\n",
    "    if saveflag:\n",
    "        plt.savefig('result_WellTest/ResP_Cont{:09.2f}days.png'.format(t), facecolor=\"white\")\n",
    "    if showflag:\n",
    "        plt.show()\n",
    "        \n",
    "    plt.clf()\n",
    "    return\n",
    "\n",
    "def ShowResP_Plot(x, P, t, L, Pmin, Pmax, saveflag, showflag, fig):\n",
    "  # Function to Plot & Save Pressure\n",
    "  # fig = plt.figure()\n",
    "    plt.plot(x, P, label='{0:09.2f}[day]'.format(t)) \n",
    "    plt.xlabel('x[m]')\n",
    "    plt.ylabel('Water Saturation [-]')\n",
    "    plt.xlim(0, L)\n",
    "    plt.ylim(Pmin, Pmax)\n",
    "    plt.grid()\n",
    "    plt.title('Reservoir Pressure@{0:09.2f}[day]'.format(t))\n",
    "    if saveflag:\n",
    "        plt.savefig('result_WellTest/ResP_Plot{:09.2f}days.png'.format(t), facecolor=\"white\")\n",
    "    if showflag:\n",
    "        plt.show()\n",
    "    plt.clf()\n",
    "    return\n",
    "\n",
    "# Saturation\n",
    "def ShowSw_Cont(Sw, t, L, W, saveflag, showflag, fig):\n",
    "    plt.imshow([Sw, Sw], extent = [0, L, 0, W], cmap = 'jet', vmin=0, vmax=1)\n",
    "    plt.xlabel('L[m]')\n",
    "    plt.ylabel('W[m]')\n",
    "    plt.title(\"Sw Profile@ {:09.2f}days\".format(t))\n",
    "    plt.colorbar(aspect = 20, orientation= 'horizontal', shrink=1)\n",
    "    if saveflag:\n",
    "        plt.savefig('result_WellTest/Sw_Cont{:09.2f}days.png'.format(t), facecolor=\"white\")\n",
    "    if showflag:\n",
    "        plt.show()\n",
    "    plt.clf()\n",
    "    return\n",
    "\n",
    "def ShowSw_Plot(x, Sw, t, L, saveflag, showflag, fig):\n",
    "  # Function to Plot & Save Pressure\n",
    "  # fig = plt.figure()\n",
    "    plt.plot(x, Sw, label='{0:09.2f}[day]'.format(t)) \n",
    "    plt.xlabel('x[m]')\n",
    "    plt.ylabel('Water Saturation [-]')\n",
    "    plt.xlim(0, L)\n",
    "    plt.ylim(0, 1)\n",
    "    plt.grid()\n",
    "    plt.title('Sw Profile@ {0:09.2f}[day]'.format(t))\n",
    "    if saveflag:\n",
    "        plt.savefig('result_WellTest/Sw_Plot{:09.2f}days.png'.format(t), facecolor=\"white\")\n",
    "    if showflag:\n",
    "        plt.show()\n",
    "\n",
    "    plt.clf()\n",
    "    return"
   ]
  },
  {
   "cell_type": "markdown",
   "id": "04b4a596-b9a1-455d-bee4-6d4c5347e6bb",
   "metadata": {},
   "source": [
    "<h2>インプットパラメータ</h2>\n",
    "必ず生産井がモデルの中央のブロックにあることを確認"
   ]
  },
  {
   "cell_type": "code",
   "execution_count": 22,
   "id": "2ba7feac-129f-43c3-b1f3-4ca3fa14a6b2",
   "metadata": {},
   "outputs": [
    {
     "data": {
      "text/plain": [
       "<Figure size 432x288 with 0 Axes>"
      ]
     },
     "metadata": {},
     "output_type": "display_data"
    },
    {
     "data": {
      "text/plain": [
       "<Figure size 432x288 with 0 Axes>"
      ]
     },
     "metadata": {},
     "output_type": "display_data"
    },
    {
     "data": {
      "text/plain": [
       "<Figure size 432x288 with 0 Axes>"
      ]
     },
     "metadata": {},
     "output_type": "display_data"
    },
    {
     "data": {
      "text/plain": [
       "<Figure size 432x288 with 0 Axes>"
      ]
     },
     "metadata": {},
     "output_type": "display_data"
    },
    {
     "data": {
      "image/png": "[encoded data removed]",
      "text/plain": [
       "<Figure size 432x288 with 1 Axes>"
      ]
     },
     "metadata": {
      "needs_background": "light"
     },
     "output_type": "display_data"
    }
   ],
   "source": [
    "####### ----- Reservoir Properties and Simulation control ---- ######\n",
    "# Simulation control Parameters\n",
    "dt       = 1/24/6 # initial time step[day]. time step might be revised to meet CFL condition\n",
    "t_max    = 30 #[day] simulation will continues until t becomes t_max\n",
    "n_max    = 1e8 # maximum interation [-]\n",
    "n_out    = 24*7 # 1000以上がいいと思う。0 means no output while simulation\n",
    "Pmin     = 995 # Pressure lower limit for plot\n",
    "Pmax     = 1000 # Pressure lower limit for plot\n",
    "saveResP_contour = 0    # save png \n",
    "showResP_contour = 0    # show contour\n",
    "\n",
    "saveResP_plot    = 0    # save png \n",
    "showResP_plot    = 0    # show plot\n",
    "\n",
    "saveSw_contour   = 0    # save png\n",
    "showSw_contour   = 0    # show contour\n",
    "\n",
    "saveSw_plot      = 0    # save png \n",
    "showSw_plot      = 0    # show plot\n",
    "\n",
    "fig1             = plt.figure(); # figure for pressure contour\n",
    "fig2             = plt.figure(); # figure for pressure plot\n",
    "fig3             = plt.figure(); # figure for saturation contour\n",
    "fig4             = plt.figure(); # figure for saturation plot\n",
    "\n",
    "# Reservoir Properties\n",
    "Lx = 10000 # Reservoir Length in x direction [ft]\n",
    "Ly = 1 # Reservoir Length in y direction [ft] # to avoid y-\n",
    "h  = 20   # Reservoir tickness in z direction [ft]\n",
    "nx = 31   # number of grid in x direction [-]\n",
    "ny = 1   # number of grid in y direction [-]\n",
    "dx = Lx / nx # grid size in x direction\n",
    "dy = Ly / ny # grid size in y direction\n",
    "perm_x  = 100*np.ones(nx) # Absolute permeability in x direction [mD]\n",
    "# perm_y  = 100*np.ones(ny, nx) # Absolute permeability in y direction [mD]\n",
    "phi_res = 0.3*np.ones(nx) # Porosity of reservoir [-]\n",
    "P_init  = 3900*np.ones(nx) # Initial pressure in reservoir [PSI]\n",
    "\n",
    "# define coordinate system\n",
    "x    = np.zeros(nx)\n",
    "x[0] = 0.5*dx\n",
    "#y = np.np.zeros(ny)\n",
    "#y[0] = 0.5*dy\n",
    "\n",
    "# x coordinate\n",
    "for i in range(1,len(x)):\n",
    "    x[i] = x[i-1] + dx\n",
    "\n",
    "###### ----- Fluid Properties ---- ######\n",
    "# Injected water properties\n",
    "vis_w        = 1.0 # viscosity of water [cp]\n",
    "Bw           = 1.0 # formation volume factor of water\n",
    "cw           = 1e-5 # compressibility of water [psi^-1]\n",
    "Sw_i         = 0.2 # irreducible water saturation\n",
    "Sw_init      = 0*np.ones(nx) # initial water saturation distribution\n",
    "#Sw_init      = np.linspace(0, 1, nx)\n",
    "\n",
    "perm_rw_max  = 1 # maximuam relative perm. of water [-]\n",
    "nw           = 3.0 # exponent of water relative permeability curve [>1]\n",
    "\n",
    "# Oil water Properties\n",
    "vis_o        = 40.0 # viscosity of oil [cp]\n",
    "Bo           = 1.1 # formation volume factor of oil\n",
    "co           = 1e-5 # compressibility of oil [psi^-1]\n",
    "So_r         = 0.2 # residual oil saturation\n",
    "So_init      = 1 - Sw_init # initial oil saturation progile\n",
    "perm_ro_max  = 1 # maximuam relative perm. of oil [-]\n",
    "no           = 3.0 # exponent of oil relative permeability curve [>1]\n",
    "\n",
    "###### ----- Boundary Condition (Aquifer) ---- ######\n",
    "aquiferWest      = 0; # Aquifer exists at x = 0\n",
    "aquiferEast      = 0; # Aquifer exists at x = Lx\n",
    "perm_Aq_w        = 100;\n",
    "perm_Aq_e        = 100;\n",
    "perm_rw_Aq       = np.max(cal_krw_WellTest(np.zeros(2), Sw_i, So_r, perm_rw_max, nw));\n",
    "perm_ro_Aq       = np.max(cal_kro_WellTest(np.ones(2), Sw_i, So_r, perm_rw_max, nw));\n",
    "Pb_w             = 3900;\n",
    "Pb_e             = 3900;\n",
    "\n",
    "###### ----- Well, Production & Injection Information ---- ######\n",
    "# Injection Well Properties\n",
    "# injection wells are controlled by flow rate[ft^3 /day]. Injecters are\n",
    "# composed of water flow rate. Producers are only controlled by total flow\n",
    "# rate.\n",
    "\n",
    "# Injection wells (source term)\n",
    "#Qin = np.zeros(ny, nx) # Injection wells\n",
    "Qin = np.zeros(nx) # Injection wells\n",
    "#loc_Qin  = [16]\n",
    "#Qin[loc_Qin[0]]   = 2*426.5\n",
    "\n",
    "loc_Qin  = [0]\n",
    "Qin[loc_Qin[0]]   = 0\n",
    "\n",
    "# Production Well Properties\n",
    "# production wells are controlled by flow rate[ft^s /day] or constant\n",
    "# Bottom Hole Pressure, Pwf [PSI]. If Pwf is larger than Pi (mean pressure\n",
    "# in CV), the situation is regarded as no production.\n",
    "\n",
    "# Production wells (sink term) controlled by Flow Rate --------------------\n",
    "#Qout = np.zeros(ny, nx) # Production wells\n",
    "Qout = np.zeros(nx)\n",
    "#Qout_loc  = [0, 29]\n",
    "#Qout_name = ['P-1', 'P-2']\n",
    "#Qout[Qout_loc[0]]   = -426.5\n",
    "#Qout[Qout_loc[1]]   = -426.5\n",
    "\n",
    "Qout_loc  = [int((nx-1)/2)]\n",
    "Qout_name = ['P-1']\n",
    "Qout[Qout_loc[0]]   = -701/10 # [res cu ft / day], 125[rbbl/day]\n",
    "\n",
    "\n",
    "t_open  = 1 # after t_shut [day], all of production wells are openedf 0\n",
    "t_shut  = 0 # after t_shut [day], all of production wells are shut down, if 0 , wells are not shut down\n",
    "\n",
    "# Array to hold Production History\n",
    "ProdOil   = np.zeros([len(Qout_loc)]) # numpy array to hold Production History of Oil\n",
    "ProdWater = np.zeros([len(Qout_loc)]) # numpy array to hold Production History of Water\n",
    "ProdResP  = np.zeros([len(Qout_loc)]) # numpy array to hold Pressure Change at reservoir block where Production wells are located\n",
    "t_hist    = []\n",
    "\n",
    "###### ----- Show Relative Permeability Curve ---- ######\n",
    "Sw_sample = np.linspace(0, 1, 1000);\n",
    "krw_sample = cal_krw_WellTest(Sw_sample, Sw_i, So_r, perm_rw_max, nw)\n",
    "kro_sample = cal_kro_WellTest(Sw_sample, Sw_i, So_r, perm_ro_max, no)\n",
    "\n",
    "fig_RelPerm = plt.figure();\n",
    "ax_rp  = fig_RelPerm.add_subplot(1,1,1)\n",
    "ax_rp.plot(Sw_sample, krw_sample, color='#0000cd', label= 'Rel. Perm. Water')\n",
    "ax_rp.plot(Sw_sample, kro_sample, color='#006400', label= 'Rel. Perm. Oil')\n",
    "ax_rp.set_xlim(0, 1)\n",
    "ax_rp.set_ylim(-0.05, 1.05)\n",
    "ax_rp.grid()\n",
    "plt.show()"
   ]
  },
  {
   "cell_type": "code",
   "execution_count": null,
   "id": "0fe86c26-86e4-48b0-9d15-06eebec43ac2",
   "metadata": {},
   "outputs": [],
   "source": []
  },
  {
   "cell_type": "markdown",
   "id": "e1e95212-4013-479a-955f-bf9e8f630a30",
   "metadata": {},
   "source": [
    "<h2>計算部分</h2>"
   ]
  },
  {
   "cell_type": "code",
   "execution_count": 23,
   "id": "2c6a17bd-211e-4636-8b71-c07e61d97822",
   "metadata": {},
   "outputs": [
    {
     "data": {
      "text/plain": [
       "<Figure size 432x288 with 0 Axes>"
      ]
     },
     "metadata": {},
     "output_type": "display_data"
    }
   ],
   "source": [
    "# Initialize Pressure and Saturation\n",
    "p_old  = P_init\n",
    "Sw_old = Sw_init\n",
    "\n",
    "# time step\n",
    "t = 0; n = 0;\n",
    "\n",
    "# Initial Production\n",
    "perm_rw = cal_krw_WellTest(Sw_old, Sw_i, So_r, perm_rw_max, nw)\n",
    "perm_ro = cal_kro_WellTest(Sw_old, Sw_i, So_r, perm_ro_max, no)\n",
    "# calculate fractional flow\n",
    "lam_w = perm_rw / vis_w # mobility of water\n",
    "lam_o = perm_ro / vis_o # mobility of oil\n",
    "\n",
    "fw    = lam_w / (lam_w + lam_o) # fractional flow of water\n",
    "fo    = lam_o / (lam_w + lam_o) # fractional flow of oil\n",
    "\n",
    "# Production History\n",
    "t_hist.append(t)\n",
    "if t_open == 0:\n",
    "    ProdWater[:] = -fw[Qout_loc] * Qout[Qout_loc]\n",
    "    ProdOil[:]   = -(Bw/Bo) * fo[Qout_loc] * Qout[Qout_loc]\n",
    "    ProdResP[:]  = p_old[Qout_loc]\n",
    "else:\n",
    "    ProdWater[:] = 0\n",
    "    ProdOil[:]   = 0\n",
    "    ProdResP[:]  = p_old[Qout_loc]\n",
    "\n",
    "# plot initial states\n",
    "ShowResP_Cont(p_old, t, Lx, Ly, Pmin, Pmax, saveResP_contour, showResP_contour, fig1)\n",
    "ShowResP_Plot(x, p_old, t, Lx, Pmin, Pmax, saveResP_plot, showResP_plot, fig2)\n",
    "ShowSw_Cont(Sw_old, t, Lx, Ly, saveSw_contour, showSw_contour, fig3)\n",
    "ShowSw_Plot(x, Sw_old, t, Lx, saveSw_plot, showSw_plot, fig4)\n"
   ]
  },
  {
   "cell_type": "code",
   "execution_count": 24,
   "id": "727dfbdd-6114-4e5a-8fbf-d55e8061692a",
   "metadata": {},
   "outputs": [
    {
     "data": {
      "text/plain": [
       "1"
      ]
     },
     "execution_count": 24,
     "metadata": {},
     "output_type": "execute_result"
    }
   ],
   "source": [
    "len(t_hist)"
   ]
  },
  {
   "cell_type": "code",
   "execution_count": 25,
   "id": "2f575042-84ba-4129-a707-e22664afccaf",
   "metadata": {},
   "outputs": [
    {
     "data": {
      "text/plain": [
       "1"
      ]
     },
     "execution_count": 25,
     "metadata": {},
     "output_type": "execute_result"
    }
   ],
   "source": [
    "np.size(ProdOil)"
   ]
  },
  {
   "cell_type": "code",
   "execution_count": 26,
   "id": "af6f2e6d-9df8-4a07-b7e6-e8b934e51756",
   "metadata": {},
   "outputs": [
    {
     "name": "stdout",
     "output_type": "stream",
     "text": [
      "Start Simulation\n",
      "000000 th iteration, 000000.00 days\n",
      "000168 th iteration, 000001.17 days\n",
      "000336 th iteration, 000002.33 days\n",
      "000504 th iteration, 000003.50 days\n",
      "000672 th iteration, 000004.67 days\n",
      "000840 th iteration, 000005.83 days\n",
      "001008 th iteration, 000007.00 days\n",
      "001176 th iteration, 000008.17 days\n",
      "001344 th iteration, 000009.33 days\n",
      "001512 th iteration, 000010.50 days\n",
      "001680 th iteration, 000011.67 days\n",
      "001848 th iteration, 000012.83 days\n",
      "002016 th iteration, 000014.00 days\n",
      "002184 th iteration, 000015.17 days\n",
      "002352 th iteration, 000016.33 days\n",
      "002520 th iteration, 000017.50 days\n",
      "002688 th iteration, 000018.67 days\n",
      "002856 th iteration, 000019.83 days\n",
      "003024 th iteration, 000021.00 days\n",
      "003192 th iteration, 000022.17 days\n",
      "003360 th iteration, 000023.33 days\n",
      "003528 th iteration, 000024.50 days\n",
      "003696 th iteration, 000025.67 days\n",
      "003864 th iteration, 000026.83 days\n",
      "004032 th iteration, 000028.00 days\n",
      "004200 th iteration, 000029.17 days\n",
      "End Simulation\n"
     ]
    },
    {
     "data": {
      "text/plain": [
       "<Figure size 432x288 with 0 Axes>"
      ]
     },
     "metadata": {},
     "output_type": "display_data"
    }
   ],
   "source": [
    "# define matrix B and d\n",
    "CV_vol = h*dx*dy\n",
    "B      = spdiags(CV_vol*phi_res*cw/Bw, 0, nx, nx) # Volume accumlation for Pressure Eq.\n",
    "D      = spdiags(Bw/(CV_vol*phi_res), 0, nx, nx) # d for Saturation Eq.\n",
    "Qout_cal = np.zeros(np.size(Qout))\n",
    "\n",
    "# start simulation\n",
    "print('Start Simulation')\n",
    "print('{0:06d} th iteration, {1:09.2f} days'.format(n, t))\n",
    "while True:\n",
    "    #print('p_old', p_old[Qout_loc])\n",
    "    if t_shut > 0:\n",
    "        if t < t_open:\n",
    "            Qout_cal[:] = 0\n",
    "        elif t_open <= t < t_shut:\n",
    "            Qout_cal[:] = Qout\n",
    "        elif t_shut <= t:\n",
    "            Qout_cal[:] = 0     \n",
    "\n",
    "    else:\n",
    "        if t >= t_open:\n",
    "            Qout_cal[:] = Qout\n",
    "\n",
    "    \n",
    "    # compute Relative Permeability\n",
    "    perm_rw = cal_krw_WellTest(Sw_old, Sw_i, So_r, perm_rw_max, nw)\n",
    "    perm_ro = cal_kro_WellTest(Sw_old, Sw_i, So_r, perm_ro_max, no)\n",
    "    \n",
    "    # compute Transmissibility matrix\n",
    "    T_water, bcs_w = cal_Ta_WellTest(perm_x,  perm_rw, h, dx, dy, vis_w, Bw, p_old, nx, \\\n",
    "                         aquiferWest, aquiferEast, Pb_w, Pb_e, perm_Aq_w, perm_Aq_e, perm_rw_Aq)\n",
    "    T_oil, bcs_o   = cal_Ta_WellTest(perm_x,  perm_ro, h, dx, dy, vis_o, Bo, p_old, nx, \\\n",
    "                         aquiferWest, aquiferEast, Pb_w, Pb_e, perm_Aq_w, perm_Aq_e, perm_ro_Aq)\n",
    "    \n",
    "    # solve pressure Eq.\n",
    "    p_new = np.linalg.solve((T_water + Bo/Bw*T_oil + (B.toarray()/dt)),\\\n",
    "                            (np.dot((B.toarray()/dt), p_old)+ Qin + Qout_cal + bcs_w + bcs_o))\n",
    "    \n",
    "    #print('p_new', p_new[Qout_loc])\n",
    "    \n",
    "    # calculate fractional flow\n",
    "    lam_w = perm_rw / vis_w # mobility of water\n",
    "    lam_o = perm_ro / vis_o # mobility of oil\n",
    "    \n",
    "    fw    = lam_w / (lam_w + lam_o) # fractional flow of water\n",
    "    fo    = lam_o / (lam_w + lam_o) # fractional flow of oil\n",
    "    \n",
    "    # solve water-saturation Eq.\n",
    "    Sw_new = Sw_old + (D*dt)*(np.dot(-T_water.toarray(),p_new) + Qin + fw*Qout_cal + bcs_w)\n",
    "    \n",
    "    # check convergence of saturation # it might be better choice to include this if-statement in the output-result if block\n",
    "    if np.max(Sw_new) > 1.0:\n",
    "        warnings.warn('The Maximum Value of Sw is bigger than 1.Stop Simulation')\n",
    "        break\n",
    "    \n",
    "    # update time, pressure, saturation\n",
    "    t += dt\n",
    "    n += 1\n",
    "    p_old  = p_new\n",
    "    Sw_old = Sw_new\n",
    "    \n",
    "    # output result\n",
    "    if n % n_out == 0:\n",
    "        print('{0:06d} th iteration, {1:09.2f} days'.format(n, t))\n",
    "        # Pressure and Saturation Profile\n",
    "        ShowResP_Cont(p_old, t, Lx, Ly, Pmin, Pmax, saveResP_contour, showResP_contour, fig1)\n",
    "        ShowResP_Plot(x, p_old, t, Lx, Pmin, Pmax, saveResP_plot, showResP_plot, fig2)\n",
    "        ShowSw_Cont(Sw_old, t, Lx, Ly, saveSw_contour, showSw_contour, fig3)\n",
    "        ShowSw_Plot(x, Sw_old, t, Lx, saveSw_plot, showSw_plot, fig4)\n",
    "        \n",
    "        # Production History\n",
    "        t_hist.append(t)\n",
    "        ProdWater = np.concatenate([ProdWater, -fw[Qout_loc] * Qout_cal[Qout_loc]], 0)\n",
    "        ProdOil   = np.concatenate([ProdOil,   -(Bw/Bo) * fo[Qout_loc] * Qout_cal[Qout_loc]], 0)\n",
    "        ProdResP  = np.concatenate([ProdResP, p_new[Qout_loc]], 0)\n",
    "    \n",
    "    \n",
    "    # exit infinite loop\n",
    "    if t >= t_max or n >= n_max:\n",
    "        print('End Simulation')\n",
    "        break\n",
    "t_end = t"
   ]
  },
  {
   "cell_type": "markdown",
   "id": "6aeff08c-47ab-454f-8b0e-17b2dd20a044",
   "metadata": {},
   "source": [
    "<h2>生産履歴, Pressure Saturarion Profile</h2>"
   ]
  },
  {
   "cell_type": "code",
   "execution_count": 27,
   "id": "2d9e82f0-27ee-4d8f-8f4c-1d0dee786fac",
   "metadata": {},
   "outputs": [
    {
     "data": {
      "image/png": "[encoded data removed]",
      "text/plain": [
       "<Figure size 432x288 with 2 Axes>"
      ]
     },
     "metadata": {
      "needs_background": "light"
     },
     "output_type": "display_data"
    },
    {
     "data": {
      "text/plain": [
       "<Figure size 432x288 with 0 Axes>"
      ]
     },
     "metadata": {},
     "output_type": "display_data"
    }
   ],
   "source": [
    "ShowResP_Cont(p_old, t, Lx, Ly, Pmin, Pmax, saveResP_contour, 1, fig1)"
   ]
  },
  {
   "cell_type": "code",
   "execution_count": 28,
   "id": "ed119985-93f3-4434-83e5-aab767b11803",
   "metadata": {},
   "outputs": [
    {
     "name": "stdout",
     "output_type": "stream",
     "text": [
      "-655.2307562122436\n",
      "1095.338904428042\n"
     ]
    },
    {
     "data": {
      "text/plain": [
       "[<matplotlib.lines.Line2D at 0x1d8e4e6d9d0>]"
      ]
     },
     "execution_count": 28,
     "metadata": {},
     "output_type": "execute_result"
    },
    {
     "data": {
      "image/png": "[encoded data removed]",
      "text/plain": [
       "<Figure size 432x288 with 1 Axes>"
      ]
     },
     "metadata": {
      "needs_background": "light"
     },
     "output_type": "display_data"
    }
   ],
   "source": [
    "print(np.min(p_new))\n",
    "print(np.max(p_new))\n",
    "plt.plot(x, p_old)"
   ]
  },
  {
   "cell_type": "code",
   "execution_count": 29,
   "id": "1ca78b2f-01dd-4803-8a45-d6eb96212313",
   "metadata": {},
   "outputs": [
    {
     "data": {
      "image/png": "[encoded data removed]",
      "text/plain": [
       "<Figure size 432x288 with 2 Axes>"
      ]
     },
     "metadata": {
      "needs_background": "light"
     },
     "output_type": "display_data"
    },
    {
     "data": {
      "text/plain": [
       "<Figure size 432x288 with 0 Axes>"
      ]
     },
     "metadata": {},
     "output_type": "display_data"
    }
   ],
   "source": [
    "ShowSw_Cont(Sw_old, t, Lx, Ly, saveSw_contour, 1, fig3)"
   ]
  },
  {
   "cell_type": "code",
   "execution_count": 30,
   "id": "42704673-4692-47ec-8e89-a8e6427cf0e1",
   "metadata": {},
   "outputs": [
    {
     "data": {
      "image/png": "[encoded data removed]",
      "text/plain": [
       "<Figure size 432x288 with 1 Axes>"
      ]
     },
     "metadata": {
      "needs_background": "light"
     },
     "output_type": "display_data"
    },
    {
     "data": {
      "text/plain": [
       "<Figure size 432x288 with 0 Axes>"
      ]
     },
     "metadata": {},
     "output_type": "display_data"
    }
   ],
   "source": [
    "ShowSw_Plot(x, Sw_old, t, Lx, 0, 1, fig4)"
   ]
  },
  {
   "cell_type": "code",
   "execution_count": 31,
   "id": "02c9f768-9109-43f8-9879-d677ae775fab",
   "metadata": {},
   "outputs": [
    {
     "data": {
      "image/png": "[encoded data removed]",
      "text/plain": [
       "<Figure size 720x504 with 1 Axes>"
      ]
     },
     "metadata": {
      "needs_background": "light"
     },
     "output_type": "display_data"
    }
   ],
   "source": [
    "Oil = ProdOil.reshape(-1, len(Qout_loc))\n",
    "Water = ProdWater.reshape(-1, len(Qout_loc))\n",
    "\n",
    "fig_prod, ax = plt.subplots(len(Qout_loc), 1, tight_layout=True, figsize= (10, 7))\n",
    "\n",
    "# default\n",
    "ind_str = 0\n",
    "ind_end = len(t_hist)\n",
    "\n",
    "# cutomize\n",
    "#ind_str = 170\n",
    "#ind_end = 280\n",
    "\n",
    "for i in range(0, len(Qout_loc)):\n",
    "    if len(Qout_loc) == 1:\n",
    "        #\n",
    "        ax.plot(t_hist[ind_str : ind_end], Oil[ind_str : ind_end,i], color='#006400', label= 'Oil')\n",
    "        ax.plot(t_hist[ind_str : ind_end], Water[ind_str : ind_end,i], color='#0000cd', label= 'Water')\n",
    "        ax.set_xlabel('Time [day]')\n",
    "        ax.set_ylabel('Prod. Rate [cu ft / day]')\n",
    "        ax.set_title(Qout_name[i])\n",
    "        ax.legend()\n",
    "    else:\n",
    "        ax[i].plot(t_hist[ind_str : ind_end], Oil[ind_str : ind_end,i], color='#006400', label= 'Oil')\n",
    "        ax[i].plot(t_hist[ind_str : ind_end], Water[ind_str : ind_end,i], color='#0000cd', label= 'Water')\n",
    "        ax[i].set_xlabel('Time [day]')\n",
    "        ax[i].set_ylabel('Prod. Rate [cu ft / day]')\n",
    "        ax[i].set_title(Qout_name[i])\n",
    "        ax[i].legend()\n",
    "\n",
    "plt.subplots_adjust(wspace=0.4, hspace=0.6)"
   ]
  },
  {
   "cell_type": "markdown",
   "id": "4c4dad3b-b588-46b3-b7cf-64aa4479b5ce",
   "metadata": {},
   "source": [
    "<h2>坑井試験解析</h2>"
   ]
  },
  {
   "cell_type": "code",
   "execution_count": 32,
   "id": "d3c94e5d-4620-4ae9-85e4-259c6edd6959",
   "metadata": {},
   "outputs": [
    {
     "data": {
      "image/png": "[encoded data removed]",
      "text/plain": [
       "<Figure size 720x504 with 1 Axes>"
      ]
     },
     "metadata": {
      "needs_background": "light"
     },
     "output_type": "display_data"
    }
   ],
   "source": [
    "ResP_well = ProdResP.reshape(-1, len(Qout_loc))\n",
    "\n",
    "fig_prod, ax = plt.subplots(len(Qout_loc), 1, tight_layout=True, figsize= (10, 7))\n",
    "\n",
    "# default\n",
    "ind_str = 0\n",
    "ind_end = len(t_hist)\n",
    "\n",
    "# cutomize\n",
    "#ind_str = 170\n",
    "#ind_end = 280\n",
    "\n",
    "for i in range(0, len(Qout_loc)):\n",
    "    if len(Qout_loc) == 1:\n",
    "        ax.plot(t_hist[ind_str : ind_end], ResP_well[ind_str : ind_end,i])\n",
    "        ax.set_xlabel('Time [day]')\n",
    "        ax.set_ylabel('Pressure [psi]')\n",
    "        ax.set_title('Reservoir Pressure where ' + Qout_name[i] + ' is located.')\n",
    "    else:\n",
    "        ax[i].plot(t_hist[ind_str : ind_end], ResP_well[ind_str : ind_end,i])\n",
    "        ax[i].set_xlabel('Time [day]')\n",
    "        ax[i].set_ylabel('Pressure [psi]')\n",
    "        ax[i].set_title('Reservoir Pressure where ' + Qout_name[i] + ' is located.')\n",
    "\n",
    "plt.subplots_adjust(wspace=0.4, hspace=0.6)"
   ]
  },
  {
   "cell_type": "code",
   "execution_count": 33,
   "id": "963862f9-c656-4512-8ec5-c05cb165170d",
   "metadata": {},
   "outputs": [
    {
     "data": {
      "text/plain": [
       "-557.0413564621286"
      ]
     },
     "execution_count": 33,
     "metadata": {},
     "output_type": "execute_result"
    }
   ],
   "source": [
    "np.min(ResP_well)"
   ]
  },
  {
   "cell_type": "code",
   "execution_count": 34,
   "id": "aa698eb7-b4df-4efe-9500-e8c23c3b2d34",
   "metadata": {},
   "outputs": [],
   "source": [
    "Pwf = cal_Pwf(Oil, ResP_well, perm_x[Qout_loc], perm_ro[Qout_loc], h, Bo, vis_o, 0.33, 100, dx)"
   ]
  },
  {
   "cell_type": "code",
   "execution_count": 35,
   "id": "c701df93-cef0-4533-b510-d2e0727fc103",
   "metadata": {},
   "outputs": [
    {
     "name": "stdout",
     "output_type": "stream",
     "text": [
      "26\n",
      "26\n"
     ]
    }
   ],
   "source": [
    "print(np.size(ProdOil))\n",
    "print(np.size(Oil))"
   ]
  },
  {
   "cell_type": "code",
   "execution_count": 36,
   "id": "fe6a281e-c49c-45d1-8855-b1be426058b0",
   "metadata": {},
   "outputs": [
    {
     "data": {
      "text/plain": [
       "26"
      ]
     },
     "execution_count": 36,
     "metadata": {},
     "output_type": "execute_result"
    }
   ],
   "source": [
    "np.size(ResP_well)"
   ]
  },
  {
   "cell_type": "code",
   "execution_count": 37,
   "id": "8a387b75-76af-4e1b-8dee-b7e80e3ed6ea",
   "metadata": {},
   "outputs": [
    {
     "name": "stdout",
     "output_type": "stream",
     "text": [
      "<class 'list'>\n"
     ]
    },
    {
     "data": {
      "text/plain": [
       "26"
      ]
     },
     "execution_count": 37,
     "metadata": {},
     "output_type": "execute_result"
    }
   ],
   "source": [
    "print(type(t_hist))\n",
    "np.size(t_hist)"
   ]
  },
  {
   "cell_type": "code",
   "execution_count": 38,
   "id": "f9a2e541-e8e8-4cfc-895c-00c93a7b315a",
   "metadata": {},
   "outputs": [
    {
     "name": "stdout",
     "output_type": "stream",
     "text": [
      "26\n"
     ]
    },
    {
     "ename": "ValueError",
     "evalue": "zero-size array to reduction operation maximum which has no identity",
     "output_type": "error",
     "traceback": [
      "\u001b[1;31m---------------------------------------------------------------------------\u001b[0m",
      "\u001b[1;31mValueError\u001b[0m                                Traceback (most recent call last)",
      "Input \u001b[1;32mIn [38]\u001b[0m, in \u001b[0;36m<cell line: 5>\u001b[1;34m()\u001b[0m\n\u001b[0;32m      3\u001b[0m tp_hour \u001b[38;5;241m=\u001b[39m t_hour \u001b[38;5;241m-\u001b[39m \u001b[38;5;241m24\u001b[39m\u001b[38;5;241m*\u001b[39mt_open\n\u001b[0;32m      4\u001b[0m \u001b[38;5;28mprint\u001b[39m(np\u001b[38;5;241m.\u001b[39msize(tp_hour))\n\u001b[1;32m----> 5\u001b[0m plt\u001b[38;5;241m.\u001b[39mplot(np\u001b[38;5;241m.\u001b[39mlog10(tp_hour[np\u001b[38;5;241m.\u001b[39mmin(np\u001b[38;5;241m.\u001b[39mwhere(tp_hour \u001b[38;5;241m>\u001b[39m \u001b[38;5;241m0\u001b[39m)):\u001b[43mnp\u001b[49m\u001b[38;5;241;43m.\u001b[39;49m\u001b[43mmax\u001b[49m\u001b[43m(\u001b[49m\u001b[43mnp\u001b[49m\u001b[38;5;241;43m.\u001b[39;49m\u001b[43mwhere\u001b[49m\u001b[43m(\u001b[49m\u001b[43mtp_hour\u001b[49m\u001b[43m \u001b[49m\u001b[38;5;241;43m<\u001b[39;49m\u001b[43m \u001b[49m\u001b[38;5;241;43m24\u001b[39;49m\u001b[38;5;241;43m*\u001b[39;49m\u001b[43m(\u001b[49m\u001b[43mt_shut\u001b[49m\u001b[38;5;241;43m-\u001b[39;49m\u001b[43mt_open\u001b[49m\u001b[43m)\u001b[49m\u001b[43m)\u001b[49m\u001b[43m)\u001b[49m]),\\\n\u001b[0;32m      6\u001b[0m                       Pwf[np\u001b[38;5;241m.\u001b[39mmin(np\u001b[38;5;241m.\u001b[39mwhere(tp_hour \u001b[38;5;241m>\u001b[39m \u001b[38;5;241m0\u001b[39m)):np\u001b[38;5;241m.\u001b[39mmax(np\u001b[38;5;241m.\u001b[39mwhere(tp_hour \u001b[38;5;241m<\u001b[39m \u001b[38;5;241m24\u001b[39m\u001b[38;5;241m*\u001b[39m(t_shut\u001b[38;5;241m-\u001b[39mt_open)))])\n\u001b[0;32m      7\u001b[0m plt\u001b[38;5;241m.\u001b[39mshow()\n",
      "File \u001b[1;32m<__array_function__ internals>:5\u001b[0m, in \u001b[0;36mamax\u001b[1;34m(*args, **kwargs)\u001b[0m\n",
      "File \u001b[1;32m~\\anaconda3\\lib\\site-packages\\numpy\\core\\fromnumeric.py:2754\u001b[0m, in \u001b[0;36mamax\u001b[1;34m(a, axis, out, keepdims, initial, where)\u001b[0m\n\u001b[0;32m   2638\u001b[0m \u001b[38;5;129m@array_function_dispatch\u001b[39m(_amax_dispatcher)\n\u001b[0;32m   2639\u001b[0m \u001b[38;5;28;01mdef\u001b[39;00m \u001b[38;5;21mamax\u001b[39m(a, axis\u001b[38;5;241m=\u001b[39m\u001b[38;5;28;01mNone\u001b[39;00m, out\u001b[38;5;241m=\u001b[39m\u001b[38;5;28;01mNone\u001b[39;00m, keepdims\u001b[38;5;241m=\u001b[39mnp\u001b[38;5;241m.\u001b[39m_NoValue, initial\u001b[38;5;241m=\u001b[39mnp\u001b[38;5;241m.\u001b[39m_NoValue,\n\u001b[0;32m   2640\u001b[0m          where\u001b[38;5;241m=\u001b[39mnp\u001b[38;5;241m.\u001b[39m_NoValue):\n\u001b[0;32m   2641\u001b[0m     \u001b[38;5;124;03m\"\"\"\u001b[39;00m\n\u001b[0;32m   2642\u001b[0m \u001b[38;5;124;03m    Return the maximum of an array or maximum along an axis.\u001b[39;00m\n\u001b[0;32m   2643\u001b[0m \n\u001b[1;32m   (...)\u001b[0m\n\u001b[0;32m   2752\u001b[0m \u001b[38;5;124;03m    5\u001b[39;00m\n\u001b[0;32m   2753\u001b[0m \u001b[38;5;124;03m    \"\"\"\u001b[39;00m\n\u001b[1;32m-> 2754\u001b[0m     \u001b[38;5;28;01mreturn\u001b[39;00m \u001b[43m_wrapreduction\u001b[49m\u001b[43m(\u001b[49m\u001b[43ma\u001b[49m\u001b[43m,\u001b[49m\u001b[43m \u001b[49m\u001b[43mnp\u001b[49m\u001b[38;5;241;43m.\u001b[39;49m\u001b[43mmaximum\u001b[49m\u001b[43m,\u001b[49m\u001b[43m \u001b[49m\u001b[38;5;124;43m'\u001b[39;49m\u001b[38;5;124;43mmax\u001b[39;49m\u001b[38;5;124;43m'\u001b[39;49m\u001b[43m,\u001b[49m\u001b[43m \u001b[49m\u001b[43maxis\u001b[49m\u001b[43m,\u001b[49m\u001b[43m \u001b[49m\u001b[38;5;28;43;01mNone\u001b[39;49;00m\u001b[43m,\u001b[49m\u001b[43m \u001b[49m\u001b[43mout\u001b[49m\u001b[43m,\u001b[49m\n\u001b[0;32m   2755\u001b[0m \u001b[43m                          \u001b[49m\u001b[43mkeepdims\u001b[49m\u001b[38;5;241;43m=\u001b[39;49m\u001b[43mkeepdims\u001b[49m\u001b[43m,\u001b[49m\u001b[43m \u001b[49m\u001b[43minitial\u001b[49m\u001b[38;5;241;43m=\u001b[39;49m\u001b[43minitial\u001b[49m\u001b[43m,\u001b[49m\u001b[43m \u001b[49m\u001b[43mwhere\u001b[49m\u001b[38;5;241;43m=\u001b[39;49m\u001b[43mwhere\u001b[49m\u001b[43m)\u001b[49m\n",
      "File \u001b[1;32m~\\anaconda3\\lib\\site-packages\\numpy\\core\\fromnumeric.py:86\u001b[0m, in \u001b[0;36m_wrapreduction\u001b[1;34m(obj, ufunc, method, axis, dtype, out, **kwargs)\u001b[0m\n\u001b[0;32m     83\u001b[0m         \u001b[38;5;28;01melse\u001b[39;00m:\n\u001b[0;32m     84\u001b[0m             \u001b[38;5;28;01mreturn\u001b[39;00m reduction(axis\u001b[38;5;241m=\u001b[39maxis, out\u001b[38;5;241m=\u001b[39mout, \u001b[38;5;241m*\u001b[39m\u001b[38;5;241m*\u001b[39mpasskwargs)\n\u001b[1;32m---> 86\u001b[0m \u001b[38;5;28;01mreturn\u001b[39;00m ufunc\u001b[38;5;241m.\u001b[39mreduce(obj, axis, dtype, out, \u001b[38;5;241m*\u001b[39m\u001b[38;5;241m*\u001b[39mpasskwargs)\n",
      "\u001b[1;31mValueError\u001b[0m: zero-size array to reduction operation maximum which has no identity"
     ]
    }
   ],
   "source": [
    "%matplotlib inline\n",
    "t_hour = 24*np.array(t_hist)\n",
    "tp_hour = t_hour - 24*t_open\n",
    "print(np.size(tp_hour))\n",
    "plt.plot(np.log10(tp_hour[np.min(np.where(tp_hour > 0)):np.max(np.where(tp_hour < 24*(t_shut-t_open)))]),\\\n",
    "                      Pwf[np.min(np.where(tp_hour > 0)):np.max(np.where(tp_hour < 24*(t_shut-t_open)))])\n",
    "plt.show()"
   ]
  },
  {
   "cell_type": "code",
   "execution_count": null,
   "id": "91cc33c2-2b96-419b-b2e1-a692942d8e8a",
   "metadata": {},
   "outputs": [],
   "source": [
    "print(np.size(tp_hour))\n",
    "\n",
    "Dt = tp_hour  - 24*t_shut\n",
    "plt.plot(np.log10(tp_hour[np.min(np.where(tp_hour >= 24*(t_shut-t_open))):]),\\\n",
    "                      Pwf[np.min(np.where(tp_hour >= 24*(t_shut-t_open))):])\n",
    "plt.show()"
   ]
  },
  {
   "cell_type": "code",
   "execution_count": null,
   "id": "8aa1980a-4fa4-4209-9091-edae57f795eb",
   "metadata": {},
   "outputs": [],
   "source": [
    "Del_T = t_hour[np.min(np.where(tp_hour >= 24*t_shut)):]\n",
    "tp = 24*t_shut - 24*t_open\n",
    "Pws   = Pwf[np.min(np.where(tp_hour >= 24*t_shut)):] # BHP during shut in period\n",
    "\n",
    "plt.plot(Del_T, Pws)"
   ]
  },
  {
   "cell_type": "code",
   "execution_count": null,
   "id": "1de7c168-7717-4caa-86da-ee1fdb6c6d9c",
   "metadata": {},
   "outputs": [],
   "source": [
    "XX=np.log10((tp+Del_T)/Del_T)\n",
    "plt.plot(XX, Pws)"
   ]
  },
  {
   "cell_type": "code",
   "execution_count": null,
   "id": "29101124-ffa0-462c-9787-6bae7d1524df",
   "metadata": {},
   "outputs": [],
   "source": []
  },
  {
   "cell_type": "code",
   "execution_count": null,
   "id": "3ad859d1-cff3-4c01-a18a-91342b8381a5",
   "metadata": {},
   "outputs": [],
   "source": []
  },
  {
   "cell_type": "code",
   "execution_count": null,
   "id": "2f627fe9-7fc0-4664-9277-279355277b66",
   "metadata": {},
   "outputs": [],
   "source": []
  },
  {
   "cell_type": "code",
   "execution_count": null,
   "id": "df504254-0d5e-4c96-9dd2-0916f45ed8d8",
   "metadata": {},
   "outputs": [],
   "source": []
  },
  {
   "cell_type": "code",
   "execution_count": null,
   "id": "4a6a070d-d08d-4b02-b72b-c66c8b802b28",
   "metadata": {},
   "outputs": [],
   "source": []
  },
  {
   "cell_type": "code",
   "execution_count": null,
   "id": "4b86e163-ae80-43eb-8a77-468a8da40a3e",
   "metadata": {},
   "outputs": [],
   "source": []
  },
  {
   "cell_type": "code",
   "execution_count": null,
   "id": "faf7712e-dc7f-49c6-ac67-dad70e06b965",
   "metadata": {},
   "outputs": [],
   "source": []
  },
  {
   "cell_type": "code",
   "execution_count": null,
   "id": "dc80f39e-b235-4b5e-891d-4a8fd6cc566d",
   "metadata": {},
   "outputs": [],
   "source": []
  },
  {
   "cell_type": "code",
   "execution_count": null,
   "id": "029982a8-e0d9-4083-8870-1e7d185346fa",
   "metadata": {},
   "outputs": [],
   "source": []
  },
  {
   "cell_type": "code",
   "execution_count": null,
   "id": "26d9bd47-a885-43f9-8cf8-d8d4cfe96c3a",
   "metadata": {},
   "outputs": [],
   "source": []
  },
  {
   "cell_type": "code",
   "execution_count": null,
   "id": "2b87af34-4284-42ad-8f5e-d33aa60c9c4a",
   "metadata": {},
   "outputs": [],
   "source": []
  },
  {
   "cell_type": "code",
   "execution_count": null,
   "id": "e346ee78-b0ed-461c-bee0-3481625e8243",
   "metadata": {},
   "outputs": [],
   "source": []
  }
 ],
 "metadata": {
  "kernelspec": {
   "display_name": "Python 3 (ipykernel)",
   "language": "python",
   "name": "python3"
  },
  "language_info": {
   "codemirror_mode": {
    "name": "ipython",
    "version": 3
   },
   "file_extension": ".py",
   "mimetype": "text/x-python",
   "name": "python",
   "nbconvert_exporter": "python",
   "pygments_lexer": "ipython3",
   "version": "3.9.12"
  }
 },
 "nbformat": 4,
 "nbformat_minor": 5
}
