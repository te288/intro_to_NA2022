{
 "cells": [
  {
   "cell_type": "markdown",
   "id": "90cec420-da7c-455c-9ddc-340a33c9df28",
   "metadata": {},
   "source": [
    "圧力一定境界（帯水層）にも対応"
   ]
  },
  {
   "cell_type": "code",
   "execution_count": 1,
   "id": "38b1b07c-d459-45b9-ac78-dc28fe609f14",
   "metadata": {},
   "outputs": [],
   "source": [
    "#import modules\n",
    "import numpy as np\n",
    "from scipy.sparse import spdiags, csr_matrix\n",
    "from ResSimUtils_WellTest import cal_kro_WellTest, cal_krw_WellTest, cal_Ta_WellTest\n",
    "from WellTest_analysis import cal_Pwf\n",
    "from matplotlib import pyplot as plt\n",
    "import warnings"
   ]
  },
  {
   "cell_type": "markdown",
   "id": "b03f8dd1-bf95-445d-80fb-6bc7dbba45ed",
   "metadata": {},
   "source": [
    "<h2>結果の可視化＆保存用関数</h2>"
   ]
  },
  {
   "cell_type": "code",
   "execution_count": 2,
   "id": "ecab1bb0-156b-4956-ac56-9bacf97ab557",
   "metadata": {},
   "outputs": [],
   "source": [
    "# Pressure\n",
    "def ShowResP_Cont(P, t, L, W, Pmin, Pmax, saveflag, showflag, fig):\n",
    "    plt.imshow([P, P], extent = [0, L, 0, W], cmap = 'jet', vmin=Pmin, vmax=Pmax)\n",
    "    plt.xlabel('L[m]')\n",
    "    plt.ylabel('W[m]')\n",
    "    plt.title(\"Reservoir Pressure [Pa]@ {:09.2f}days\".format(t))\n",
    "    plt.colorbar(aspect = 20, orientation= 'horizontal', shrink=1)\n",
    "    if saveflag:\n",
    "        plt.savefig('result_WellTest/ResP_Cont{:09.2f}days.png'.format(t), facecolor=\"white\")\n",
    "    if showflag:\n",
    "        plt.show()\n",
    "        \n",
    "    plt.clf()\n",
    "    return\n",
    "\n",
    "def ShowResP_Plot(x, P, t, L, Pmin, Pmax, saveflag, showflag, fig):\n",
    "  # Function to Plot & Save Pressure\n",
    "  # fig = plt.figure()\n",
    "    plt.plot(x, P, label='{0:09.2f}[day]'.format(t)) \n",
    "    plt.xlabel('x[m]')\n",
    "    plt.ylabel('Water Saturation [-]')\n",
    "    plt.xlim(0, L)\n",
    "    plt.ylim(Pmin, Pmax)\n",
    "    plt.grid()\n",
    "    plt.title('Reservoir Pressure@{0:09.2f}[day]'.format(t))\n",
    "    if saveflag:\n",
    "        plt.savefig('result_WellTest/ResP_Plot{:09.2f}days.png'.format(t), facecolor=\"white\")\n",
    "    if showflag:\n",
    "        plt.show()\n",
    "    plt.clf()\n",
    "    return\n",
    "\n",
    "# Saturation\n",
    "def ShowSw_Cont(Sw, t, L, W, saveflag, showflag, fig):\n",
    "    plt.imshow([Sw, Sw], extent = [0, L, 0, W], cmap = 'jet', vmin=0, vmax=1)\n",
    "    plt.xlabel('L[m]')\n",
    "    plt.ylabel('W[m]')\n",
    "    plt.title(\"Sw Profile@ {:09.2f}days\".format(t))\n",
    "    plt.colorbar(aspect = 20, orientation= 'horizontal', shrink=1)\n",
    "    if saveflag:\n",
    "        plt.savefig('result_WellTest/Sw_Cont{:09.2f}days.png'.format(t), facecolor=\"white\")\n",
    "    if showflag:\n",
    "        plt.show()\n",
    "    plt.clf()\n",
    "    return\n",
    "\n",
    "def ShowSw_Plot(x, Sw, t, L, saveflag, showflag, fig):\n",
    "  # Function to Plot & Save Pressure\n",
    "  # fig = plt.figure()\n",
    "    plt.plot(x, Sw, label='{0:09.2f}[day]'.format(t)) \n",
    "    plt.xlabel('x[m]')\n",
    "    plt.ylabel('Water Saturation [-]')\n",
    "    plt.xlim(0, L)\n",
    "    plt.ylim(0, 1)\n",
    "    plt.grid()\n",
    "    plt.title('Sw Profile@ {0:09.2f}[day]'.format(t))\n",
    "    if saveflag:\n",
    "        plt.savefig('result_WellTest/Sw_Plot{:09.2f}days.png'.format(t), facecolor=\"white\")\n",
    "    if showflag:\n",
    "        plt.show()\n",
    "\n",
    "    plt.clf()\n",
    "    return"
   ]
  },
  {
   "cell_type": "markdown",
   "id": "04b4a596-b9a1-455d-bee4-6d4c5347e6bb",
   "metadata": {},
   "source": [
    "<h2>インプットパラメータ</h2>\n",
    "必ず生産井がモデルの中央のブロックにあることを確認"
   ]
  },
  {
   "cell_type": "code",
   "execution_count": 250,
   "id": "2ba7feac-129f-43c3-b1f3-4ca3fa14a6b2",
   "metadata": {},
   "outputs": [
    {
     "data": {
      "text/plain": [
       "<Figure size 432x288 with 0 Axes>"
      ]
     },
     "metadata": {},
     "output_type": "display_data"
    },
    {
     "data": {
      "text/plain": [
       "<Figure size 432x288 with 0 Axes>"
      ]
     },
     "metadata": {},
     "output_type": "display_data"
    },
    {
     "data": {
      "text/plain": [
       "<Figure size 432x288 with 0 Axes>"
      ]
     },
     "metadata": {},
     "output_type": "display_data"
    },
    {
     "data": {
      "text/plain": [
       "<Figure size 432x288 with 0 Axes>"
      ]
     },
     "metadata": {},
     "output_type": "display_data"
    },
    {
     "data": {
      "image/png": "[encoded data removed]",
      "text/plain": [
       "<Figure size 432x288 with 1 Axes>"
      ]
     },
     "metadata": {
      "needs_background": "light"
     },
     "output_type": "display_data"
    }
   ],
   "source": [
    "####### ----- Reservoir Properties and Simulation control ---- ######\n",
    "# Simulation control Parameters\n",
    "dt       = 1/24/6 # initial time step[day]. time step might be revised to meet CFL condition\n",
    "t_max    = 3 #[day] simulation will continues until t becomes t_max\n",
    "n_max    = 1e8 # maximum interation [-]\n",
    "n_out    = 6 # 1000以上がいいと思う。0 means no output while simulation\n",
    "Pmin     = 995 # Pressure lower limit for plot\n",
    "Pmax     = 1000 # Pressure lower limit for plot\n",
    "saveResP_contour = 0    # save png \n",
    "showResP_contour = 0    # show contour\n",
    "\n",
    "saveResP_plot    = 0    # save png \n",
    "showResP_plot    = 0    # show plot\n",
    "\n",
    "saveSw_contour   = 0    # save png\n",
    "showSw_contour   = 0    # show contour\n",
    "\n",
    "saveSw_plot      = 0    # save png \n",
    "showSw_plot      = 0    # show plot\n",
    "\n",
    "fig1             = plt.figure(); # figure for pressure contour\n",
    "fig2             = plt.figure(); # figure for pressure plot\n",
    "fig3             = plt.figure(); # figure for saturation contour\n",
    "fig4             = plt.figure(); # figure for saturation plot\n",
    "\n",
    "# Reservoir Properties\n",
    "Lx = 10000 # Reservoir Length in x direction [ft]\n",
    "Ly = 20 # Reservoir Length in y direction [ft]\n",
    "h  = 20   # Reservoir tickness in z direction [ft]\n",
    "nx = 31   # number of grid in x direction [-]\n",
    "ny = 1   # number of grid in y direction [-]\n",
    "dx = Lx / nx # grid size in x direction\n",
    "dy = Ly / ny # grid size in y direction\n",
    "perm_x  = 100*np.ones(nx) # Absolute permeability in x direction [mD]\n",
    "# perm_y  = 100*np.ones(ny, nx) # Absolute permeability in y direction [mD]\n",
    "phi_res = 0.3*np.ones(nx) # Porosity of reservoir [-]\n",
    "P_init  = 3900*np.ones(nx) # Initial pressure in reservoir [PSI]\n",
    "\n",
    "# define coordinate system\n",
    "x    = np.zeros(nx)\n",
    "x[0] = 0.5*dx\n",
    "#y = np.np.zeros(ny)\n",
    "#y[0] = 0.5*dy\n",
    "\n",
    "# x coordinate\n",
    "for i in range(1,len(x)):\n",
    "    x[i] = x[i-1] + dx\n",
    "\n",
    "###### ----- Fluid Properties ---- ######\n",
    "# Injected water properties\n",
    "vis_w        = 1.0 # viscosity of water [cp]\n",
    "Bw           = 1.0 # formation volume factor of water\n",
    "cw           = 1e-5 # compressibility of water [psi^-1]\n",
    "Sw_i         = 0.2 # irreducible water saturation\n",
    "Sw_init      = 0.2*np.ones(nx) # initial water saturation distribution\n",
    "#Sw_init      = np.linspace(0, 1, nx)\n",
    "\n",
    "perm_rw_max  = 1 # maximuam relative perm. of water [-]\n",
    "nw           = 3.0 # exponent of water relative permeability curve [>1]\n",
    "\n",
    "# Oil water Properties\n",
    "vis_o        = 1.0 # viscosity of oil [cp]\n",
    "Bo           = 1.1 # formation volume factor of oil\n",
    "co           = 1e-5 # compressibility of oil [psi^-1]\n",
    "So_r         = 0.2 # residual oil saturation\n",
    "So_init      = 1 - Sw_init # initial oil saturation progile\n",
    "perm_ro_max  = 1 # maximuam relative perm. of oil [-]\n",
    "no           = 3.0 # exponent of oil relative permeability curve [>1]\n",
    "\n",
    "###### ----- Boundary Condition (Aquifer) ---- ######\n",
    "aquiferWest      = 1; # Aquifer exists at x = 0\n",
    "aquiferEast      = 1; # Aquifer exists at x = Lx\n",
    "perm_Aq_w        = 100;\n",
    "perm_Aq_e        = 100;\n",
    "perm_rw_Aq       = np.max(cal_krw_WellTest(np.ones(2), Sw_i, So_r, perm_rw_max, nw));\n",
    "perm_ro_Aq       = np.max(cal_kro_WellTest(np.ones(2), Sw_i, So_r, perm_rw_max, nw));\n",
    "Pb_w             = 3900;\n",
    "Pb_e             = 3900;\n",
    "\n",
    "###### ----- Well, Production & Injection Information ---- ######\n",
    "# Injection Well Properties\n",
    "# injection wells are controlled by flow rate[ft^3 /day]. Injecters are\n",
    "# composed of water flow rate. Producers are only controlled by total flow\n",
    "# rate.\n",
    "\n",
    "# Injection wells (source term)\n",
    "#Qin = np.zeros(ny, nx) # Injection wells\n",
    "Qin = np.zeros(nx) # Injection wells\n",
    "#loc_Qin  = [16]\n",
    "#Qin[loc_Qin[0]]   = 2*426.5\n",
    "\n",
    "loc_Qin  = [0]\n",
    "Qin[loc_Qin[0]]   = 0\n",
    "\n",
    "# Production Well Properties\n",
    "# production wells are controlled by flow rate[ft^s /day] or constant\n",
    "# Bottom Hole Pressure, Pwf [PSI]. If Pwf is larger than Pi (mean pressure\n",
    "# in CV), the situation is regarded as no production.\n",
    "\n",
    "# Production wells (sink term) controlled by Flow Rate --------------------\n",
    "#Qout = np.zeros(ny, nx) # Production wells\n",
    "Qout = np.zeros(nx)\n",
    "#Qout_loc  = [0, 29]\n",
    "#Qout_name = ['P-1', 'P-2']\n",
    "#Qout[Qout_loc[0]]   = -426.5\n",
    "#Qout[Qout_loc[1]]   = -426.5\n",
    "\n",
    "Qout_loc  = [int((nx-1)/2)]\n",
    "Qout_name = ['P-1']\n",
    "Qout[Qout_loc[0]]   = -701 # [res cu ft / day], 125[rbbl/day]\n",
    "\n",
    "\n",
    "t_open  = 0 # after t_shut [day], all of production wells are openedf 0\n",
    "t_shut  = 0 # after t_shut [day], all of production wells are shut down, if 0 , wells are not shut down\n",
    "\n",
    "# Array to hold Production History\n",
    "ProdOil   = np.zeros([len(Qout_loc)]) # numpy array to hold Production History of Oil\n",
    "ProdWater = np.zeros([len(Qout_loc)]) # numpy array to hold Production History of Water\n",
    "ProdResP  = np.zeros([len(Qout_loc)]) # numpy array to hold Pressure Change at reservoir block where Production wells are located\n",
    "t_hist    = []\n",
    "\n",
    "###### ----- Show Relative Permeability Curve ---- ######\n",
    "Sw_sample = np.linspace(0, 1, 1000);\n",
    "krw_sample = cal_krw_WellTest(Sw_sample, Sw_i, So_r, perm_rw_max, nw)\n",
    "kro_sample = cal_kro_WellTest(Sw_sample, Sw_i, So_r, perm_ro_max, no)\n",
    "\n",
    "fig_RelPerm = plt.figure();\n",
    "ax_rp  = fig_RelPerm.add_subplot(1,1,1)\n",
    "ax_rp.plot(Sw_sample, krw_sample, color='#0000cd', label= 'Rel. Perm. Water')\n",
    "ax_rp.plot(Sw_sample, kro_sample, color='#006400', label= 'Rel. Perm. Oil')\n",
    "ax_rp.set_xlim(0, 1)\n",
    "ax_rp.set_ylim(-0.05, 1.05)\n",
    "ax_rp.grid()\n",
    "plt.show()"
   ]
  },
  {
   "cell_type": "code",
   "execution_count": null,
   "id": "0fe86c26-86e4-48b0-9d15-06eebec43ac2",
   "metadata": {},
   "outputs": [],
   "source": []
  },
  {
   "cell_type": "markdown",
   "id": "e1e95212-4013-479a-955f-bf9e8f630a30",
   "metadata": {},
   "source": [
    "<h2>計算部分</h2>"
   ]
  },
  {
   "cell_type": "code",
   "execution_count": 251,
   "id": "2c6a17bd-211e-4636-8b71-c07e61d97822",
   "metadata": {},
   "outputs": [
    {
     "data": {
      "text/plain": [
       "<Figure size 432x288 with 0 Axes>"
      ]
     },
     "metadata": {},
     "output_type": "display_data"
    }
   ],
   "source": [
    "# Initialize Pressure and Saturation\n",
    "p_old  = P_init\n",
    "Sw_old = Sw_init\n",
    "\n",
    "# time step\n",
    "t = 0; n = 0;\n",
    "\n",
    "# Initial Production\n",
    "perm_rw = cal_krw_WellTest(Sw_old, Sw_i, So_r, perm_rw_max, nw)\n",
    "perm_ro = cal_kro_WellTest(Sw_old, Sw_i, So_r, perm_ro_max, no)\n",
    "# calculate fractional flow\n",
    "lam_w = perm_rw / vis_w # mobility of water\n",
    "lam_o = perm_ro / vis_o # mobility of oil\n",
    "\n",
    "fw    = lam_w / (lam_w + lam_o) # fractional flow of water\n",
    "fo    = lam_o / (lam_w + lam_o) # fractional flow of oil\n",
    "\n",
    "# Production History\n",
    "t_hist.append(t)\n",
    "if t_open == 0:\n",
    "    ProdWater[:] = -fw[Qout_loc] * Qout[Qout_loc]\n",
    "    ProdOil[:]   = -(Bw/Bo) * fo[Qout_loc] * Qout[Qout_loc]\n",
    "    ProdResP[:]  = p_old[Qout_loc]\n",
    "else:\n",
    "    ProdWater[:] = 0\n",
    "    ProdOil[:]   = 0\n",
    "    ProdResP[:]  = p_old[Qout_loc]\n",
    "\n",
    "# plot initial states\n",
    "ShowResP_Cont(p_old, t, Lx, Ly, Pmin, Pmax, saveResP_contour, showResP_contour, fig1)\n",
    "ShowResP_Plot(x, p_old, t, Lx, Pmin, Pmax, saveResP_plot, showResP_plot, fig2)\n",
    "ShowSw_Cont(Sw_old, t, Lx, Ly, saveSw_contour, showSw_contour, fig3)\n",
    "ShowSw_Plot(x, Sw_old, t, Lx, saveSw_plot, showSw_plot, fig4)\n"
   ]
  },
  {
   "cell_type": "code",
   "execution_count": 252,
   "id": "727dfbdd-6114-4e5a-8fbf-d55e8061692a",
   "metadata": {},
   "outputs": [
    {
     "data": {
      "text/plain": [
       "1"
      ]
     },
     "execution_count": 252,
     "metadata": {},
     "output_type": "execute_result"
    }
   ],
   "source": [
    "len(t_hist)"
   ]
  },
  {
   "cell_type": "code",
   "execution_count": 253,
   "id": "2f575042-84ba-4129-a707-e22664afccaf",
   "metadata": {},
   "outputs": [
    {
     "data": {
      "text/plain": [
       "1"
      ]
     },
     "execution_count": 253,
     "metadata": {},
     "output_type": "execute_result"
    }
   ],
   "source": [
    "np.size(ProdOil)"
   ]
  },
  {
   "cell_type": "code",
   "execution_count": 254,
   "id": "af6f2e6d-9df8-4a07-b7e6-e8b934e51756",
   "metadata": {},
   "outputs": [
    {
     "name": "stdout",
     "output_type": "stream",
     "text": [
      "Start Simulation\n",
      "000000 th iteration, 000000.00 days\n",
      "000006 th iteration, 000000.04 days\n",
      "000012 th iteration, 000000.08 days\n",
      "000018 th iteration, 000000.13 days\n",
      "000024 th iteration, 000000.17 days\n",
      "000030 th iteration, 000000.21 days\n",
      "000036 th iteration, 000000.25 days\n",
      "000042 th iteration, 000000.29 days\n",
      "000048 th iteration, 000000.33 days\n",
      "000054 th iteration, 000000.37 days\n",
      "000060 th iteration, 000000.42 days\n",
      "000066 th iteration, 000000.46 days\n",
      "000072 th iteration, 000000.50 days\n",
      "000078 th iteration, 000000.54 days\n",
      "000084 th iteration, 000000.58 days\n",
      "000090 th iteration, 000000.62 days\n",
      "000096 th iteration, 000000.67 days\n",
      "000102 th iteration, 000000.71 days\n",
      "000108 th iteration, 000000.75 days\n",
      "000114 th iteration, 000000.79 days\n",
      "000120 th iteration, 000000.83 days\n",
      "000126 th iteration, 000000.87 days\n",
      "000132 th iteration, 000000.92 days\n",
      "000138 th iteration, 000000.96 days\n",
      "000144 th iteration, 000001.00 days\n",
      "000150 th iteration, 000001.04 days\n",
      "000156 th iteration, 000001.08 days\n",
      "000162 th iteration, 000001.12 days\n",
      "000168 th iteration, 000001.17 days\n",
      "000174 th iteration, 000001.21 days\n",
      "000180 th iteration, 000001.25 days\n",
      "000186 th iteration, 000001.29 days\n",
      "000192 th iteration, 000001.33 days\n",
      "000198 th iteration, 000001.37 days\n",
      "000204 th iteration, 000001.42 days\n",
      "000210 th iteration, 000001.46 days\n",
      "000216 th iteration, 000001.50 days\n",
      "000222 th iteration, 000001.54 days\n",
      "000228 th iteration, 000001.58 days\n",
      "000234 th iteration, 000001.62 days\n",
      "000240 th iteration, 000001.67 days\n",
      "000246 th iteration, 000001.71 days\n",
      "000252 th iteration, 000001.75 days\n",
      "000258 th iteration, 000001.79 days\n",
      "000264 th iteration, 000001.83 days\n",
      "000270 th iteration, 000001.87 days\n",
      "000276 th iteration, 000001.92 days\n",
      "000282 th iteration, 000001.96 days\n",
      "000288 th iteration, 000002.00 days\n",
      "000294 th iteration, 000002.04 days\n",
      "000300 th iteration, 000002.08 days\n",
      "000306 th iteration, 000002.12 days\n",
      "000312 th iteration, 000002.17 days\n",
      "000318 th iteration, 000002.21 days\n",
      "000324 th iteration, 000002.25 days\n",
      "000330 th iteration, 000002.29 days\n",
      "000336 th iteration, 000002.33 days\n",
      "000342 th iteration, 000002.38 days\n",
      "000348 th iteration, 000002.42 days\n",
      "000354 th iteration, 000002.46 days\n",
      "000360 th iteration, 000002.50 days\n",
      "000366 th iteration, 000002.54 days\n",
      "000372 th iteration, 000002.58 days\n",
      "000378 th iteration, 000002.63 days\n",
      "000384 th iteration, 000002.67 days\n",
      "000390 th iteration, 000002.71 days\n",
      "000396 th iteration, 000002.75 days\n",
      "000402 th iteration, 000002.79 days\n",
      "000408 th iteration, 000002.83 days\n",
      "000414 th iteration, 000002.88 days\n",
      "000420 th iteration, 000002.92 days\n",
      "000426 th iteration, 000002.96 days\n",
      "000432 th iteration, 000003.00 days\n",
      "End Simulation\n"
     ]
    },
    {
     "data": {
      "text/plain": [
       "<Figure size 432x288 with 0 Axes>"
      ]
     },
     "metadata": {},
     "output_type": "display_data"
    }
   ],
   "source": [
    "# define matrix B and d\n",
    "CV_vol = h*dx*dy\n",
    "B      = spdiags(CV_vol*phi_res*cw/Bw, 0, nx, nx) # Volume accumlation for Pressure Eq.\n",
    "D      = spdiags(Bw/(CV_vol*phi_res), 0, nx, nx) # d for Saturation Eq.\n",
    "Qout_cal = np.zeros(np.size(Qout))\n",
    "\n",
    "# start simulation\n",
    "print('Start Simulation')\n",
    "print('{0:06d} th iteration, {1:09.2f} days'.format(n, t))\n",
    "while True:\n",
    "    #print('p_old', p_old[Qout_loc])\n",
    "    if t_shut > 0:\n",
    "        if t >= t_open and t < t_shut:\n",
    "            Qout_cal[:] = Qout     \n",
    "        elif t >= t_shut:\n",
    "            Qout_cal[:] = 0\n",
    "    else:\n",
    "        if t >= t_open:\n",
    "            Qout_cal[:] = Qout\n",
    "\n",
    "    \n",
    "    # compute Relative Permeability\n",
    "    perm_rw = cal_krw_WellTest(Sw_old, Sw_i, So_r, perm_rw_max, nw)\n",
    "    perm_ro = cal_kro_WellTest(Sw_old, Sw_i, So_r, perm_ro_max, no)\n",
    "    \n",
    "    # compute Transmissibility matrix\n",
    "    T_water, bcs_w = cal_Ta_WellTest(perm_x,  perm_rw, h, dx, dy, vis_w, Bw, p_old, nx, \\\n",
    "                         aquiferWest, aquiferEast, Pb_w, Pb_e, perm_Aq_w, perm_Aq_e, perm_rw_Aq)\n",
    "    T_oil, bcs_o   = cal_Ta_WellTest(perm_x,  perm_ro, h, dx, dy, vis_o, Bo, p_old, nx, \\\n",
    "                         aquiferWest, aquiferEast, Pb_w, Pb_e, perm_Aq_w, perm_Aq_e, perm_ro_Aq)\n",
    "    \n",
    "    # solve pressure Eq.\n",
    "    p_new = np.linalg.solve((T_water + Bo/Bw*T_oil + (B.toarray()/dt)),\\\n",
    "                            (np.dot((B.toarray()/dt), p_old)+ Qin + Qout_cal + bcs_w + bcs_o))\n",
    "    \n",
    "    #print('p_new', p_new[Qout_loc])\n",
    "    \n",
    "    # calculate fractional flow\n",
    "    lam_w = perm_rw / vis_w # mobility of water\n",
    "    lam_o = perm_ro / vis_o # mobility of oil\n",
    "    \n",
    "    fw    = lam_w / (lam_w + lam_o) # fractional flow of water\n",
    "    fo    = lam_o / (lam_w + lam_o) # fractional flow of oil\n",
    "    \n",
    "    # solve water-saturation Eq.\n",
    "    Sw_new = Sw_old + (D*dt)*(np.dot(-T_water.toarray(),p_new) + Qin + fw*Qout_cal + bcs_w)\n",
    "    \n",
    "    # check convergence of saturation # it might be better choice to include this if-statement in the output-result if block\n",
    "    if np.max(Sw_new) > 1.0:\n",
    "        warnings.warn('The Maximum Value of Sw is bigger than 1.Stop Simulation')\n",
    "        break\n",
    "    \n",
    "    # update time, pressure, saturation\n",
    "    t += dt\n",
    "    n += 1\n",
    "    p_old  = p_new\n",
    "    Sw_old = Sw_new\n",
    "    \n",
    "    # output result\n",
    "    if n % n_out == 0:\n",
    "        print('{0:06d} th iteration, {1:09.2f} days'.format(n, t))\n",
    "        # Pressure and Saturation Profile\n",
    "        ShowResP_Cont(p_old, t, Lx, Ly, Pmin, Pmax, saveResP_contour, showResP_contour, fig1)\n",
    "        ShowResP_Plot(x, p_old, t, Lx, Pmin, Pmax, saveResP_plot, showResP_plot, fig2)\n",
    "        ShowSw_Cont(Sw_old, t, Lx, Ly, saveSw_contour, showSw_contour, fig3)\n",
    "        ShowSw_Plot(x, Sw_old, t, Lx, saveSw_plot, showSw_plot, fig4)\n",
    "        \n",
    "        # Production History\n",
    "        t_hist.append(t)\n",
    "        ProdWater = np.concatenate([ProdWater, -fw[Qout_loc] * Qout_cal[Qout_loc]], 0)\n",
    "        ProdOil   = np.concatenate([ProdOil,   -(Bw/Bo) * fo[Qout_loc] * Qout_cal[Qout_loc]], 0)\n",
    "        ProdResP  = np.concatenate([ProdResP, p_new[Qout_loc]], 0)\n",
    "    \n",
    "    \n",
    "    # exit infinite loop\n",
    "    if t >= t_max or n >= n_max:\n",
    "        print('End Simulation')\n",
    "        break\n"
   ]
  },
  {
   "cell_type": "markdown",
   "id": "6aeff08c-47ab-454f-8b0e-17b2dd20a044",
   "metadata": {},
   "source": [
    "<h2>生産履歴, Pressure Saturarion Profile</h2>"
   ]
  },
  {
   "cell_type": "code",
   "execution_count": 255,
   "id": "2d9e82f0-27ee-4d8f-8f4c-1d0dee786fac",
   "metadata": {},
   "outputs": [
    {
     "data": {
      "image/png": "[encoded data removed]",
      "text/plain": [
       "<Figure size 432x288 with 2 Axes>"
      ]
     },
     "metadata": {
      "needs_background": "light"
     },
     "output_type": "display_data"
    },
    {
     "data": {
      "text/plain": [
       "<Figure size 432x288 with 0 Axes>"
      ]
     },
     "metadata": {},
     "output_type": "display_data"
    }
   ],
   "source": [
    "ShowResP_Cont(p_old, t, Lx, Ly, Pmin, Pmax, saveResP_contour, 1, fig1)"
   ]
  },
  {
   "cell_type": "code",
   "execution_count": 256,
   "id": "ed119985-93f3-4434-83e5-aab767b11803",
   "metadata": {},
   "outputs": [
    {
     "name": "stdout",
     "output_type": "stream",
     "text": [
      "3854.478205247537\n",
      "3897.180399943548\n"
     ]
    },
    {
     "data": {
      "text/plain": [
       "[<matplotlib.lines.Line2D at 0x1c6ab8467c0>]"
      ]
     },
     "execution_count": 256,
     "metadata": {},
     "output_type": "execute_result"
    },
    {
     "data": {
      "image/png": "[encoded data removed]",
      "text/plain": [
       "<Figure size 432x288 with 1 Axes>"
      ]
     },
     "metadata": {
      "needs_background": "light"
     },
     "output_type": "display_data"
    }
   ],
   "source": [
    "print(np.min(p_new))\n",
    "print(np.max(p_new))\n",
    "plt.plot(x, p_old)"
   ]
  },
  {
   "cell_type": "code",
   "execution_count": 257,
   "id": "1ca78b2f-01dd-4803-8a45-d6eb96212313",
   "metadata": {},
   "outputs": [
    {
     "data": {
      "image/png": "[encoded data removed]",
      "text/plain": [
       "<Figure size 432x288 with 2 Axes>"
      ]
     },
     "metadata": {
      "needs_background": "light"
     },
     "output_type": "display_data"
    },
    {
     "data": {
      "text/plain": [
       "<Figure size 432x288 with 0 Axes>"
      ]
     },
     "metadata": {},
     "output_type": "display_data"
    }
   ],
   "source": [
    "ShowSw_Cont(Sw_old, t, Lx, Ly, saveSw_contour, 1, fig3)"
   ]
  },
  {
   "cell_type": "code",
   "execution_count": 258,
   "id": "42704673-4692-47ec-8e89-a8e6427cf0e1",
   "metadata": {},
   "outputs": [
    {
     "data": {
      "image/png": "[encoded data removed]",
      "text/plain": [
       "<Figure size 432x288 with 1 Axes>"
      ]
     },
     "metadata": {
      "needs_background": "light"
     },
     "output_type": "display_data"
    },
    {
     "data": {
      "text/plain": [
       "<Figure size 432x288 with 0 Axes>"
      ]
     },
     "metadata": {},
     "output_type": "display_data"
    }
   ],
   "source": [
    "ShowSw_Plot(x, Sw_old, t, Lx, 0, 1, fig4)"
   ]
  },
  {
   "cell_type": "code",
   "execution_count": 259,
   "id": "02c9f768-9109-43f8-9879-d677ae775fab",
   "metadata": {},
   "outputs": [
    {
     "data": {
      "image/png": "[encoded data removed]",
      "text/plain": [
       "<Figure size 720x504 with 1 Axes>"
      ]
     },
     "metadata": {
      "needs_background": "light"
     },
     "output_type": "display_data"
    }
   ],
   "source": [
    "Oil = ProdOil.reshape(-1, len(Qout_loc))\n",
    "Water = ProdWater.reshape(-1, len(Qout_loc))\n",
    "\n",
    "fig_prod, ax = plt.subplots(len(Qout_loc), 1, tight_layout=True, figsize= (10, 7))\n",
    "\n",
    "# default\n",
    "ind_str = 0\n",
    "ind_end = len(t_hist)\n",
    "\n",
    "# cutomize\n",
    "#ind_str = 170\n",
    "#ind_end = 280\n",
    "\n",
    "for i in range(0, len(Qout_loc)):\n",
    "    if len(Qout_loc) == 1:\n",
    "        #\n",
    "        ax.plot(t_hist[ind_str : ind_end], Oil[ind_str : ind_end,i], color='#006400', label= 'Oil')\n",
    "        ax.plot(t_hist[ind_str : ind_end], Water[ind_str : ind_end,i], color='#0000cd', label= 'Water')\n",
    "        ax.set_xlabel('Time [day]')\n",
    "        ax.set_ylabel('Prod. Rate [cu ft / day]')\n",
    "        ax.set_title(Qout_name[i])\n",
    "        ax.legend()\n",
    "    else:\n",
    "        ax[i].plot(t_hist[ind_str : ind_end], Oil[ind_str : ind_end,i], color='#006400', label= 'Oil')\n",
    "        ax[i].plot(t_hist[ind_str : ind_end], Water[ind_str : ind_end,i], color='#0000cd', label= 'Water')\n",
    "        ax[i].set_xlabel('Time [day]')\n",
    "        ax[i].set_ylabel('Prod. Rate [cu ft / day]')\n",
    "        ax[i].set_title(Qout_name[i])\n",
    "        ax[i].legend()\n",
    "\n",
    "plt.subplots_adjust(wspace=0.4, hspace=0.6)"
   ]
  },
  {
   "cell_type": "markdown",
   "id": "4c4dad3b-b588-46b3-b7cf-64aa4479b5ce",
   "metadata": {},
   "source": [
    "<h2>坑井試験解析</h2>"
   ]
  },
  {
   "cell_type": "code",
   "execution_count": 260,
   "id": "d3c94e5d-4620-4ae9-85e4-259c6edd6959",
   "metadata": {},
   "outputs": [
    {
     "data": {
      "image/png": "[encoded data removed]",
      "text/plain": [
       "<Figure size 720x504 with 1 Axes>"
      ]
     },
     "metadata": {
      "needs_background": "light"
     },
     "output_type": "display_data"
    }
   ],
   "source": [
    "ResP_well = ProdResP.reshape(-1, len(Qout_loc))\n",
    "\n",
    "fig_prod, ax = plt.subplots(len(Qout_loc), 1, tight_layout=True, figsize= (10, 7))\n",
    "\n",
    "# default\n",
    "ind_str = 0\n",
    "ind_end = len(t_hist)\n",
    "\n",
    "# cutomize\n",
    "#ind_str = 170\n",
    "#ind_end = 280\n",
    "\n",
    "for i in range(0, len(Qout_loc)):\n",
    "    if len(Qout_loc) == 1:\n",
    "        ax.plot(t_hist[ind_str : ind_end], ResP_well[ind_str : ind_end,i])\n",
    "        ax.set_xlabel('Time [day]')\n",
    "        ax.set_ylabel('Pressure [psi]')\n",
    "        ax.set_title('Reservoir Pressure where ' + Qout_name[i] + ' is located.')\n",
    "    else:\n",
    "        ax[i].plot(t_hist[ind_str : ind_end], ResP_well[ind_str : ind_end,i])\n",
    "        ax[i].set_xlabel('Time [day]')\n",
    "        ax[i].set_ylabel('Pressure [psi]')\n",
    "        ax[i].set_title('Reservoir Pressure where ' + Qout_name[i] + ' is located.')\n",
    "\n",
    "plt.subplots_adjust(wspace=0.4, hspace=0.6)"
   ]
  },
  {
   "cell_type": "code",
   "execution_count": 261,
   "id": "963862f9-c656-4512-8ec5-c05cb165170d",
   "metadata": {},
   "outputs": [
    {
     "data": {
      "text/plain": [
       "3854.478205247537"
      ]
     },
     "execution_count": 261,
     "metadata": {},
     "output_type": "execute_result"
    }
   ],
   "source": [
    "np.min(ResP_well)"
   ]
  },
  {
   "cell_type": "code",
   "execution_count": 262,
   "id": "aa698eb7-b4df-4efe-9500-e8c23c3b2d34",
   "metadata": {},
   "outputs": [],
   "source": [
    "Pwf = cal_Pwf(Oil, ResP_well, perm_x[Qout_loc], perm_ro[Qout_loc], h, Bo, vis_o, 0.33, 1000, dx)"
   ]
  },
  {
   "cell_type": "code",
   "execution_count": 263,
   "id": "c701df93-cef0-4533-b510-d2e0727fc103",
   "metadata": {},
   "outputs": [
    {
     "name": "stdout",
     "output_type": "stream",
     "text": [
      "73\n",
      "73\n"
     ]
    }
   ],
   "source": [
    "print(np.size(ProdOil))\n",
    "print(np.size(Oil))"
   ]
  },
  {
   "cell_type": "code",
   "execution_count": 264,
   "id": "fe6a281e-c49c-45d1-8855-b1be426058b0",
   "metadata": {},
   "outputs": [
    {
     "data": {
      "text/plain": [
       "73"
      ]
     },
     "execution_count": 264,
     "metadata": {},
     "output_type": "execute_result"
    }
   ],
   "source": [
    "np.size(ResP_well)"
   ]
  },
  {
   "cell_type": "code",
   "execution_count": 265,
   "id": "8a387b75-76af-4e1b-8dee-b7e80e3ed6ea",
   "metadata": {},
   "outputs": [
    {
     "name": "stdout",
     "output_type": "stream",
     "text": [
      "<class 'list'>\n"
     ]
    },
    {
     "data": {
      "text/plain": [
       "73"
      ]
     },
     "execution_count": 265,
     "metadata": {},
     "output_type": "execute_result"
    }
   ],
   "source": [
    "print(type(t_hist))\n",
    "np.size(t_hist)"
   ]
  },
  {
   "cell_type": "code",
   "execution_count": 270,
   "id": "f9a2e541-e8e8-4cfc-895c-00c93a7b315a",
   "metadata": {},
   "outputs": [
    {
     "name": "stdout",
     "output_type": "stream",
     "text": [
      "73\n"
     ]
    },
    {
     "data": {
      "image/png": "[encoded data removed]",
      "text/plain": [
       "<Figure size 432x288 with 1 Axes>"
      ]
     },
     "metadata": {
      "needs_background": "light"
     },
     "output_type": "display_data"
    }
   ],
   "source": [
    "t_hour = 24*np.array(t_hist)\n",
    "print(np.size(t_hour))\n",
    "plt.plot(t_hour[1:], Pwf[1:])\n",
    "plt.xscale(\"log\")"
   ]
  },
  {
   "cell_type": "code",
   "execution_count": 267,
   "id": "6897d5ce-f865-481a-ba53-5eab329a9983",
   "metadata": {},
   "outputs": [
    {
     "name": "stdout",
     "output_type": "stream",
     "text": [
      "3854.478205247537\n",
      "3803.4961747097987\n"
     ]
    }
   ],
   "source": [
    "print(np.min(ResP_well))\n",
    "print(np.min(Pwf))"
   ]
  },
  {
   "cell_type": "code",
   "execution_count": 268,
   "id": "516922d0-086f-4046-9e64-eeacfe7247cd",
   "metadata": {},
   "outputs": [
    {
     "data": {
      "text/plain": [
       "array([ 0.,  1.,  2.,  3.,  4.,  5.,  6.,  7.,  8.,  9., 10., 11., 12.,\n",
       "       13., 14., 15., 16., 17., 18., 19., 20., 21., 22., 23., 24., 25.,\n",
       "       26., 27., 28., 29., 30., 31., 32., 33., 34., 35., 36., 37., 38.,\n",
       "       39., 40., 41., 42., 43., 44., 45., 46., 47., 48., 49., 50., 51.,\n",
       "       52., 53., 54., 55., 56., 57., 58., 59., 60., 61., 62., 63., 64.,\n",
       "       65., 66., 67., 68., 69., 70., 71., 72.])"
      ]
     },
     "execution_count": 268,
     "metadata": {},
     "output_type": "execute_result"
    }
   ],
   "source": [
    "t_hour"
   ]
  },
  {
   "cell_type": "code",
   "execution_count": 269,
   "id": "cd3e5e37-7ea7-4b7f-ad18-5cee04f5c0a2",
   "metadata": {},
   "outputs": [
    {
     "data": {
      "text/plain": [
       "array([   0.,    0.,    0.,    0.,    0.,    0.,    0.,    0.,    0.,\n",
       "          0.,    0.,    0.,    0.,    0.,    0., -701.,    0.,    0.,\n",
       "          0.,    0.,    0.,    0.,    0.,    0.,    0.,    0.,    0.,\n",
       "          0.,    0.,    0.,    0.])"
      ]
     },
     "execution_count": 269,
     "metadata": {},
     "output_type": "execute_result"
    }
   ],
   "source": [
    "Qout_cal"
   ]
  },
  {
   "cell_type": "code",
   "execution_count": null,
   "id": "330e7a5c-68a1-4ec0-bbbf-4f917a711c18",
   "metadata": {},
   "outputs": [],
   "source": []
  },
  {
   "cell_type": "code",
   "execution_count": null,
   "id": "ffe5b684-fac8-4fc9-8cf1-b99135bb6614",
   "metadata": {},
   "outputs": [],
   "source": []
  },
  {
   "cell_type": "code",
   "execution_count": null,
   "id": "70c48940-af49-40b5-8a71-feb38a3cbd59",
   "metadata": {},
   "outputs": [],
   "source": []
  },
  {
   "cell_type": "code",
   "execution_count": null,
   "id": "136c5def-d2ec-4b88-b3ee-dc4ed2221b58",
   "metadata": {},
   "outputs": [],
   "source": []
  }
 ],
 "metadata": {
  "kernelspec": {
   "display_name": "Python 3 (ipykernel)",
   "language": "python",
   "name": "python3"
  },
  "language_info": {
   "codemirror_mode": {
    "name": "ipython",
    "version": 3
   },
   "file_extension": ".py",
   "mimetype": "text/x-python",
   "name": "python",
   "nbconvert_exporter": "python",
   "pygments_lexer": "ipython3",
   "version": "3.9.12"
  }
 },
 "nbformat": 4,
 "nbformat_minor": 5
}
