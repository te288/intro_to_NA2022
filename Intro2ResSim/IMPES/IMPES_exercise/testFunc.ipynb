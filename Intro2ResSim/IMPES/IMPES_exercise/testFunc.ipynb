{
 "cells": [
  {
   "cell_type": "code",
   "execution_count": 2,
   "id": "c71d0b43-df14-4654-9f7d-d81b5557c9f0",
   "metadata": {},
   "outputs": [],
   "source": [
    "# for testing my function\n",
    "from ResSimUtils_ans import cal_krw_ans, cal_kro_ans, cal_Ta_ans\n",
    "from ResSimUtils import cal_krw, cal_kro, cal_Ta\n",
    "import numpy as np\n",
    "from scipy.sparse import spdiags\n",
    "from matplotlib import pyplot as plt"
   ]
  },
  {
   "cell_type": "code",
   "execution_count": 3,
   "id": "826f2962-e639-439b-a572-e75dc34bd064",
   "metadata": {},
   "outputs": [],
   "source": [
    "# Simulation control Parameters ===========================================\n",
    "dt_init  = 0.50  # initial time step[day]. time step might be revised to meet CFL condition\n",
    "t_max    = 10*365.25 # [day] simulation will continues until t becomes t_max\n",
    "n_out    = 40 # [day] Production history would be output every n_out time step\n",
    "n_max    = 1e8# maximum interation [-]\n",
    "t_hist   = [0] # vector to hold time of day when simulation result is output\n",
    "plotsave = 0 # boot variables to control save plot(1 == save)\n",
    "plotshow = 1 # show Saturation distribution every t_out [day]\n",
    "\n",
    "# Reservoir Properties ===================================================\n",
    "Lx = 1000 # Reservoir Length in x direction [ft]\n",
    "Ly = 10 # Reservoir Length in y direction [ft]\n",
    "h  = 10   # Reservoir tickness in z direction [ft]\n",
    "nx = 200   # number of grid in x direction [-]\n",
    "ny = 20   # number of grid in y direction [-]\n",
    "dx = Lx / nx # grid size in x direction\n",
    "# dy = Ly / ny # grid size in y direction\n",
    "dy = 100 # width of the reservoir\n",
    "perm_x  = 100*np.ones(nx) # Absolute permeability in x direction [mD]\n",
    "# perm_y  = 100*np.ones(ny, nx) # Absolute permeability in y direction [mD]\n",
    "phi_res = 0.3*np.ones(nx) # Porosity of reservoir [-]\n",
    "P_init  = 1000*np.ones(nx) # Initial pressure in reservoir [PSI]\n",
    "\n",
    "# define coordinate system\n",
    "x    = np.zeros(nx)\n",
    "x[0] = 0.5*dx\n",
    "#y = np.np.zeros(ny)\n",
    "#y[0] = 0.5*dy\n",
    "\n",
    "# x coordinate\n",
    "for i in range(1,len(x)):\n",
    "    x[i] = x[i-1] + dx\n",
    "\n",
    "# Fluid Properties =======================================================\n",
    "# Injected water properties\n",
    "vis_w        = 1.0 # viscosity of water [cp]\n",
    "Bw           = 1.0 # formation volume factor of water\n",
    "cw           = 1e-5 # compressibility of water [psi^-1]\n",
    "Sw_i         = 0 # irreducible water saturation\n",
    "Sw_init      = 0.2*np.ones(nx) # initial water saturation distribution\n",
    "Sw_init      = np.linspace(0, 1, nx)\n",
    "\n",
    "perm_rw_max  = 1 # maximuam relative perm. of water [-]\n",
    "nw           = 3.0 # exponent of water relative permeability curve [>1]\n",
    "\n",
    "# Oil water Properties\n",
    "vis_o        = 1.0 # viscosity of oil [cp]\n",
    "Bo           = 1.0 # formation volume factor of oil\n",
    "co           = 1e-5 # compressibility of oil [psi^-1]\n",
    "So_r         = 0 # residual oil saturation\n",
    "So_init      = 1 - Sw_init # initial oil saturation progile\n",
    "perm_ro_max  = 1 # maximuam relative perm. of oil [-]\n",
    "no           = 3.0 # exponent of oil relative permeability curve [>1]\n",
    "\n",
    "# Injection Well Properties ==============================================\n",
    "# injection wells are controlled by flow rate[ft^3 /day]. Injecters are\n",
    "# composed of water flow rate. Producers are only controlled by total flow\n",
    "# rate.\n",
    "\n",
    "# Injection wells (source term)\n",
    "#Qin = np.zeros(ny, nx) # Injection wells\n",
    "Qin = np.zeros(nx) # Injection wells\n",
    "loc_Qin  = [0]\n",
    "Qin[loc_Qin[0]]   = 1.5*426.5\n",
    "\n",
    "# Production Well Properties =============================================\n",
    "# production wells are controlled by flow rate[ft^s /day] or constant\n",
    "# Bottom Hole Pressure, Pwf [PSI]. If Pwf is larger than Pi (mean pressure\n",
    "# in CV), the situation is regarded as no production.\n",
    "\n",
    "# Production wells (sink term) controlled by Flow Rate --------------------\n",
    "#Qout = np.zeros(ny, nx) # Production wells\n",
    "Qout = np.zeros(nx)\n",
    "loc_Qout  = [nx-1]\n",
    "Qout[loc_Qout[0]]   = -1.5*426.5\n"
   ]
  },
  {
   "cell_type": "code",
   "execution_count": 4,
   "id": "6f7cd820-79c4-4718-80b3-f52eb8637c47",
   "metadata": {},
   "outputs": [
    {
     "data": {
      "image/png": "[encoded data removed]",
      "text/plain": [
       "<Figure size 432x288 with 1 Axes>"
      ]
     },
     "metadata": {
      "needs_background": "light"
     },
     "output_type": "display_data"
    }
   ],
   "source": [
    "perm_rw = cal_krw_ans(Sw_init, Sw_i, So_r, perm_rw_max, nw)\n",
    "perm_ro = cal_kro_ans(Sw_init, Sw_i, So_r, perm_ro_max, no)\n",
    "#plt.plot(Sw_init, perm_rw, label='Water Relative Perm.', color='blue')\n",
    "plt.plot(x, perm_rw, label='Water Relative Perm.', color='blue')\n",
    "#plt.plot(Sw_init, perm_ro, label='Oil Relative Perm.', color='orange')\n",
    "plt.plot(x, perm_ro, label='Oil Relative Perm.', color='orange')\n",
    "#plt.xlim([0, 1])\n",
    "plt.show()"
   ]
  },
  {
   "cell_type": "code",
   "execution_count": 5,
   "id": "59c7ed85-43a6-4c7c-8480-f823284c292a",
   "metadata": {},
   "outputs": [],
   "source": [
    "T_water = cal_Ta_ans(perm_x,  perm_rw, h, dx, dy, vis_w, Bw, P_init, nx)\n",
    "T_oil   = cal_Ta_ans(perm_x,  perm_ro, h, dx, dy, vis_o, Bo, P_init, nx)"
   ]
  },
  {
   "cell_type": "code",
   "execution_count": 6,
   "id": "8cc1892e-fd58-48c0-b4c9-d0cdd9718d77",
   "metadata": {},
   "outputs": [
    {
     "data": {
      "text/plain": [
       "array([[ 1.26893907e-03, -1.26893907e-03,  0.00000000e+00, ...,\n",
       "         0.00000000e+00,  0.00000000e+00,  0.00000000e+00],\n",
       "       [-1.26893907e-03,  1.26893907e-02, -1.14204517e-02, ...,\n",
       "         0.00000000e+00,  0.00000000e+00,  0.00000000e+00],\n",
       "       [ 0.00000000e+00, -1.14204517e-02,  5.58333193e-02, ...,\n",
       "         0.00000000e+00,  0.00000000e+00,  0.00000000e+00],\n",
       "       ...,\n",
       "       [ 0.00000000e+00,  0.00000000e+00,  0.00000000e+00, ...,\n",
       "         3.88075500e+04, -1.95515151e+04,  0.00000000e+00],\n",
       "       [ 0.00000000e+00,  0.00000000e+00,  0.00000000e+00, ...,\n",
       "        -1.95515151e+04,  3.94015176e+04, -1.98500025e+04],\n",
       "       [ 0.00000000e+00,  0.00000000e+00,  0.00000000e+00, ...,\n",
       "         0.00000000e+00, -1.98500025e+04,  1.98500025e+04]])"
      ]
     },
     "execution_count": 6,
     "metadata": {},
     "output_type": "execute_result"
    }
   ],
   "source": [
    "T_water.toarray()"
   ]
  },
  {
   "cell_type": "code",
   "execution_count": null,
   "id": "f3b12d36-309a-4366-a67a-c00e42445eeb",
   "metadata": {},
   "outputs": [],
   "source": []
  }
 ],
 "metadata": {
  "kernelspec": {
   "display_name": "Python 3 (ipykernel)",
   "language": "python",
   "name": "python3"
  },
  "language_info": {
   "codemirror_mode": {
    "name": "ipython",
    "version": 3
   },
   "file_extension": ".py",
   "mimetype": "text/x-python",
   "name": "python",
   "nbconvert_exporter": "python",
   "pygments_lexer": "ipython3",
   "version": "3.9.12"
  }
 },
 "nbformat": 4,
 "nbformat_minor": 5
}
