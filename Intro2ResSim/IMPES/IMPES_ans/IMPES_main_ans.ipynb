{
 "cells": [
  {
   "cell_type": "markdown",
   "id": "90cec420-da7c-455c-9ddc-340a33c9df28",
   "metadata": {},
   "source": [
    "圧力一定境界（帯水層）にも対応"
   ]
  },
  {
   "cell_type": "code",
   "execution_count": 1,
   "id": "38b1b07c-d459-45b9-ac78-dc28fe609f14",
   "metadata": {},
   "outputs": [],
   "source": [
    "#import modules\n",
    "import numpy as np\n",
    "from scipy.sparse import spdiags, csr_matrix, coo_matrix\n",
    "from ResSimUtils_THans import cal_kro_ans, cal_krw_ans, cal_Ta_ans\n",
    "from matplotlib import pyplot as plt"
   ]
  },
  {
   "cell_type": "code",
   "execution_count": null,
   "id": "f66d9a36-494e-46be-b8eb-39d288e4b770",
   "metadata": {},
   "outputs": [],
   "source": []
  },
  {
   "cell_type": "markdown",
   "id": "b03f8dd1-bf95-445d-80fb-6bc7dbba45ed",
   "metadata": {},
   "source": [
    "<h2>結果の可視化＆保存用関数</h2>"
   ]
  },
  {
   "cell_type": "code",
   "execution_count": 2,
   "id": "ecab1bb0-156b-4956-ac56-9bacf97ab557",
   "metadata": {},
   "outputs": [],
   "source": [
    "# Pressure\n",
    "def ShowResP_Cont(P, t, L, W, Pmin, Pmax, saveflag, showflag, fig):\n",
    "    plt.imshow([P, P], extent = [0, L, 0, W], cmap = 'jet', vmin=Pmin, vmax=Pmax)\n",
    "    plt.xlabel('L[m]')\n",
    "    plt.ylabel('W[m]')\n",
    "    plt.title(\"Reservoir Pressure [Pa]@ {:09.2f}days\".format(t))\n",
    "    plt.colorbar(aspect = 20, orientation= 'horizontal', shrink=1)\n",
    "    if saveflag:\n",
    "        plt.savefig('result_IMPES_ans/ResP/ResP_Cont{:09.2f}days.png'.format(t), facecolor=\"white\")\n",
    "    if showflag:\n",
    "        plt.show()\n",
    "        \n",
    "    plt.clf()\n",
    "    return\n",
    "\n",
    "def ShowResP_Plot(x, P, t, L, Pmin, Pmax, saveflag, showflag, fig):\n",
    "  # Function to Plot & Save Pressure\n",
    "  # fig = plt.figure()\n",
    "    plt.plot(x, P, label='{0:09.2f}[day]'.format(t)) \n",
    "    plt.xlabel('x[m]')\n",
    "    plt.ylabel('Water Saturation [-]')\n",
    "    plt.xlim(0, L)\n",
    "    plt.ylim(Pmin, Pmax)\n",
    "    plt.grid()\n",
    "    plt.title('Reservoir Pressure@{0:09.2f}[day]'.format(t))\n",
    "    if saveflag:\n",
    "        plt.savefig('result_IMPES_ans/ResP/ResP_Plot{:09.2f}days.png'.format(t), facecolor=\"white\")\n",
    "    if showflag:\n",
    "        plt.show()\n",
    "    plt.clf()\n",
    "    return\n",
    "\n",
    "# Saturation\n",
    "def ShowSw_Cont(Sw, t, L, W, saveflag, showflag, fig):\n",
    "    plt.imshow([Sw, Sw], extent = [0, L, 0, W], cmap = 'jet', vmin=0, vmax=1)\n",
    "    plt.xlabel('L[m]')\n",
    "    plt.ylabel('W[m]')\n",
    "    plt.title(\"Sw Profile@ {:09.2f}days\".format(t))\n",
    "    plt.colorbar(aspect = 20, orientation= 'horizontal', shrink=1)\n",
    "    if saveflag:\n",
    "        plt.savefig('result_IMPES_ans/SatWtr/Sw_Cont{:09.2f}days.png'.format(t), facecolor=\"white\")\n",
    "    if showflag:\n",
    "        plt.show()\n",
    "    plt.clf()\n",
    "    return\n",
    "\n",
    "def ShowSw_Plot(x, Sw, t, L, saveflag, showflag, fig):\n",
    "  # Function to Plot & Save Pressure\n",
    "  # fig = plt.figure()\n",
    "    plt.plot(x, Sw, label='{0:09.2f}[day]'.format(t)) \n",
    "    plt.xlabel('x[m]')\n",
    "    plt.ylabel('Water Saturation [-]')\n",
    "    plt.xlim(0, L)\n",
    "    plt.ylim(0, 1)\n",
    "    plt.grid()\n",
    "    plt.title('Sw Profile@ {0:09.2f}[day]'.format(t))\n",
    "    if saveflag:\n",
    "        plt.savefig('result_IMPES_ans/SatWtr/NoAq_Sw_Plot{:09.2f}days.png'.format(t), facecolor=\"white\")\n",
    "    if showflag:\n",
    "        plt.show()\n",
    "\n",
    "    plt.clf()\n",
    "    return"
   ]
  },
  {
   "cell_type": "markdown",
   "id": "04b4a596-b9a1-455d-bee4-6d4c5347e6bb",
   "metadata": {},
   "source": [
    "<h2>インプットパラメータ</h2>"
   ]
  },
  {
   "cell_type": "code",
   "execution_count": 23,
   "id": "2ba7feac-129f-43c3-b1f3-4ca3fa14a6b2",
   "metadata": {},
   "outputs": [
    {
     "data": {
      "text/plain": [
       "<Figure size 432x288 with 0 Axes>"
      ]
     },
     "metadata": {},
     "output_type": "display_data"
    },
    {
     "data": {
      "text/plain": [
       "<Figure size 432x288 with 0 Axes>"
      ]
     },
     "metadata": {},
     "output_type": "display_data"
    },
    {
     "data": {
      "text/plain": [
       "<Figure size 432x288 with 0 Axes>"
      ]
     },
     "metadata": {},
     "output_type": "display_data"
    },
    {
     "data": {
      "text/plain": [
       "<Figure size 432x288 with 0 Axes>"
      ]
     },
     "metadata": {},
     "output_type": "display_data"
    },
    {
     "data": {
      "image/png": "[encoded data removed]",
      "text/plain": [
       "<Figure size 432x288 with 1 Axes>"
      ]
     },
     "metadata": {
      "needs_background": "light"
     },
     "output_type": "display_data"
    }
   ],
   "source": [
    "####### ----- Reservoir Properties and Simulation control ---- ######\n",
    "# Simulation control Parameters\n",
    "dt       = 1/24  # initial time step[day]. time step might be revised to meet CFL condition\n",
    "t_max    = 365.25*5 # [day] simulation will continues until t becomes t_max\n",
    "n_max    = 1e8 # maximum interation [-]\n",
    "n_out    = 24*100 # 1000以上がいいと思う。\n",
    "t_hist   = [0] # vector to hold time of day when simulation result is output\n",
    "plotsave = 0 # boot variables to control save plot(1 == save)\n",
    "plotshow = 1 # show Saturation distribution every t_out [day]\n",
    "Pmin     = 990 # Pressure lower limit for plot\n",
    "Pmax     = 1010 # Pressure lower limit for plot\n",
    "saveResP_contour = 0    # save png \n",
    "showResP_contour = 0    # show contour\n",
    "\n",
    "saveResP_plot    = 0    # save png \n",
    "showResP_plot    = 0    # show plot\n",
    "\n",
    "saveSw_contour   = 0    # save png\n",
    "showSw_contour   = 0    # show contour\n",
    "\n",
    "saveSw_plot      = 0    # save png \n",
    "showSw_plot      = 0    # show plot\n",
    "\n",
    "fig1             = plt.figure(); # figure for pressure contour\n",
    "fig2             = plt.figure(); # figure for pressure plot\n",
    "fig3             = plt.figure(); # figure for saturation contour\n",
    "fig4             = plt.figure(); # figure for saturation plot\n",
    "\n",
    "# Reservoir Properties\n",
    "Lx = 1000 # Reservoir Length in x direction [ft]\n",
    "Ly = 100 # Reservoir Length in y direction [ft]\n",
    "h  = 10   # Reservoir tickness in z direction [ft]\n",
    "nx = 31   # number of grid in x direction [-]\n",
    "ny = 1   # number of grid in y direction [-]\n",
    "dx = Lx / nx # grid size in x direction\n",
    "dy = Ly / ny # grid size in y direction\n",
    "perm_x  = 100*np.ones(nx) # Absolute permeability in x direction [mD]\n",
    "# perm_y  = 100*np.ones(ny, nx) # Absolute permeability in y direction [mD]\n",
    "phi_res = 0.3*np.ones(nx) # Porosity of reservoir [-]\n",
    "P_init  = 1000*np.ones(nx) # Initial pressure in reservoir [PSI]\n",
    "\n",
    "# define coordinate system\n",
    "x    = np.zeros(nx)\n",
    "x[0] = 0.5*dx\n",
    "#y = np.np.zeros(ny)\n",
    "#y[0] = 0.5*dy\n",
    "\n",
    "# x coordinate\n",
    "for i in range(1,len(x)):\n",
    "    x[i] = x[i-1] + dx\n",
    "\n",
    "###### ----- Fluid Properties ---- ######\n",
    "# Injected water properties\n",
    "vis_w        = 1.0 # viscosity of water [cp]\n",
    "Bw           = 1.0 # formation volume factor of water\n",
    "cw           = 1e-5 # compressibility of water [psi^-1]\n",
    "Sw_i         = 0.2 # irreducible water saturation\n",
    "Sw_init      = 0*np.ones(nx) # initial water saturation distribution\n",
    "#Sw_init      = np.linspace(0, 1, nx)\n",
    "\n",
    "perm_rw_max  = 1 # maximuam relative perm. of water [-]\n",
    "nw           = 3.0 # exponent of water relative permeability curve [>1]\n",
    "\n",
    "# Oil water Properties\n",
    "vis_o        = 1.0 # viscosity of oil [cp]\n",
    "Bo           = 1.10 # formation volume factor of oil\n",
    "co           = 1e-5 # compressibility of oil [psi^-1]\n",
    "So_r         = 0.2 # residual oil saturation\n",
    "So_init      = 1 - Sw_init # initial oil saturation progile\n",
    "perm_ro_max  = 1 # maximuam relative perm. of oil [-]\n",
    "no           = 3.0 # exponent of oil relative permeability curve [>1]\n",
    "\n",
    "###### ----- Boundary Condition (Aquifer) ---- ######\n",
    "aquiferWest      = 1; # Aquifer exists at x = 0\n",
    "aquiferEast      = 0; # Aquifer exists at x = Lx\n",
    "perm_Aq_w        = 100;\n",
    "perm_Aq_e        = 100;\n",
    "perm_rw_Aq       = np.max(cal_krw_ans(np.ones(2), Sw_i, So_r, perm_rw_max, nw));\n",
    "perm_ro_Aq       = np.max(cal_kro_ans(np.zeros(2), Sw_i, So_r, perm_rw_max, nw));\n",
    "Pb_w             = 2000;\n",
    "Pb_e             = 1000;\n",
    "\n",
    "###### ----- Well, Production & Injection Information ---- ######\n",
    "# Injection Well Properties\n",
    "# injection wells are controlled by flow rate[ft^3 /day]. Injecters are\n",
    "# composed of water flow rate. Producers are only controlled by total flow\n",
    "# rate.\n",
    "\n",
    "# Injection wells (source term)\n",
    "#Qin = np.zeros(ny, nx) # Injection wells\n",
    "Qin = np.zeros(nx) # Injection wells\n",
    "#loc_Qin  = [16]\n",
    "#Qin[loc_Qin[0]]   = 2*426.5\n",
    "\n",
    "#loc_Qin  = [0]\n",
    "#Qin[loc_Qin[0]]   = 426.5\n",
    "\n",
    "# Production Well Properties\n",
    "# production wells are controlled by flow rate[ft^s /day] at Reservoir Condition\n",
    "\n",
    "# Production wells (sink term) controlled by Flow Rate --------------------\n",
    "#Qout = np.zeros(ny, nx) # Production wells\n",
    "Qout = np.zeros(nx)\n",
    "#Qout_loc  = [0, 29]\n",
    "#Qout_name = ['P-1', 'P-2']\n",
    "#Qout[Qout_loc[0]]   = -426.5\n",
    "#Qout[Qout_loc[1]]   = -426.5\n",
    "\n",
    "Qout_loc  = [nx-1]\n",
    "Qout_name = ['P-1']\n",
    "Qout[Qout_loc[0]]   = -426.5\n",
    "\n",
    "# Array to hold Production History\n",
    "ProdOil   = np.zeros([len(Qout_loc)])\n",
    "ProdWater = np.zeros([len(Qout_loc)])\n",
    "t_hist    = []\n",
    "\n",
    "###### ----- Show Relative Permeability Curve ---- ######\n",
    "Sw_sample = np.linspace(0, 1, 1000);\n",
    "krw_sample = cal_krw_ans(Sw_sample, Sw_i, So_r, perm_rw_max, nw)\n",
    "kro_sample = cal_kro_ans(Sw_sample, Sw_i, So_r, perm_ro_max, no)\n",
    "\n",
    "fig_RelPerm = plt.figure();\n",
    "ax_rp  = fig_RelPerm.add_subplot(1,1,1)\n",
    "ax_rp.plot(Sw_sample, krw_sample, color='#0000cd', label= 'Rel. Perm. Water')\n",
    "ax_rp.plot(Sw_sample, kro_sample, color='#006400', label= 'Rel. Perm. Oil')\n",
    "ax_rp.set_xlim(0, 1)\n",
    "ax_rp.set_ylim(-0.05, 1.05)\n",
    "ax_rp.grid()\n",
    "plt.show()"
   ]
  },
  {
   "cell_type": "code",
   "execution_count": 24,
   "id": "2a9b2849-34a4-4216-bf3f-9bbb87730374",
   "metadata": {},
   "outputs": [
    {
     "data": {
      "text/plain": [
       "1.0"
      ]
     },
     "execution_count": 24,
     "metadata": {},
     "output_type": "execute_result"
    }
   ],
   "source": [
    "perm_ro_Aq"
   ]
  },
  {
   "cell_type": "markdown",
   "id": "e1e95212-4013-479a-955f-bf9e8f630a30",
   "metadata": {},
   "source": [
    "<h2>計算部分</h2>"
   ]
  },
  {
   "cell_type": "markdown",
   "id": "17036785-4318-41f1-b770-152f76f6be53",
   "metadata": {},
   "source": [
    "<h3>変数の初期化</h3>"
   ]
  },
  {
   "cell_type": "code",
   "execution_count": 25,
   "id": "2c6a17bd-211e-4636-8b71-c07e61d97822",
   "metadata": {},
   "outputs": [
    {
     "data": {
      "text/plain": [
       "<Figure size 432x288 with 0 Axes>"
      ]
     },
     "metadata": {},
     "output_type": "display_data"
    }
   ],
   "source": [
    "# Initialize Pressure and Saturation\n",
    "p_old  = P_init\n",
    "Sw_old = Sw_init\n",
    "\n",
    "# time step\n",
    "t = 0; n = 0;\n",
    "\n",
    "# Initial Production\n",
    "perm_rw = cal_krw_ans(Sw_old, Sw_i, So_r, perm_rw_max, nw)\n",
    "perm_ro = cal_kro_ans(Sw_old, Sw_i, So_r, perm_ro_max, no)\n",
    "# calculate fractional flow\n",
    "lam_w = perm_rw / vis_w # mobility of water\n",
    "lam_o = perm_ro / vis_o # mobility of oil\n",
    "\n",
    "fw    = lam_w / (lam_w + lam_o) # fractional flow of water\n",
    "fo    = lam_o / (lam_w + lam_o) # fractional flow of oil\n",
    "\n",
    "# Production History\n",
    "t_hist.append(t)\n",
    "ProdWater[:] = -fw[Qout_loc] * Qout[Qout_loc]\n",
    "ProdOil[:]   = -(Bw/Bo) * fo[Qout_loc] * Qout[Qout_loc]\n",
    "\n",
    "# plot initial states\n",
    "ShowResP_Cont(p_old, t, Lx, Ly, Pmin, Pmax, saveResP_contour, showResP_contour, fig1)\n",
    "ShowResP_Plot(x, p_old, t, Lx, Pmin, Pmax, saveResP_plot, showResP_plot, fig2)\n",
    "ShowSw_Cont(Sw_old, t, Lx, Ly, saveSw_contour, showSw_contour, fig3)\n",
    "ShowSw_Plot(x, Sw_old, t, Lx, saveSw_plot, showSw_plot, fig4)\n",
    "\n",
    "# define matrix B and d\n",
    "CV_vol = h*dx*dy\n",
    "B      = spdiags(CV_vol*phi_res*cw/Bw, 0, nx, nx) # Volume accumlation for Pressure Eq.\n",
    "D      = spdiags(Bw/(CV_vol*phi_res), 0, nx, nx) # d for Saturation Eq.\n"
   ]
  },
  {
   "cell_type": "code",
   "execution_count": 26,
   "id": "af6f2e6d-9df8-4a07-b7e6-e8b934e51756",
   "metadata": {},
   "outputs": [
    {
     "name": "stdout",
     "output_type": "stream",
     "text": [
      "Start Simulation\n",
      "000000 th iteration, 000000.00 days\n",
      "002400 th iteration, 000100.00 days\n",
      "004800 th iteration, 000200.00 days\n",
      "007200 th iteration, 000300.00 days\n",
      "009600 th iteration, 000400.00 days\n",
      "012000 th iteration, 000500.00 days\n",
      "014400 th iteration, 000600.00 days\n",
      "016800 th iteration, 000700.00 days\n",
      "019200 th iteration, 000800.00 days\n",
      "021600 th iteration, 000900.00 days\n",
      "024000 th iteration, 001000.00 days\n",
      "026400 th iteration, 001100.00 days\n",
      "028800 th iteration, 001200.00 days\n",
      "031200 th iteration, 001300.00 days\n",
      "033600 th iteration, 001400.00 days\n",
      "036000 th iteration, 001500.00 days\n",
      "038400 th iteration, 001600.00 days\n",
      "040800 th iteration, 001700.00 days\n",
      "043200 th iteration, 001800.00 days\n",
      "End Simulation\n"
     ]
    },
    {
     "data": {
      "text/plain": [
       "<Figure size 432x288 with 0 Axes>"
      ]
     },
     "metadata": {},
     "output_type": "display_data"
    }
   ],
   "source": [
    "\n",
    "# start simulation\n",
    "print('Start Simulation')\n",
    "print('{0:06d} th iteration, {1:09.2f} days'.format(n, t))\n",
    "while True:\n",
    "    # compute Relative Permeability\n",
    "    perm_rw = cal_krw_ans(Sw_old, Sw_i, So_r, perm_rw_max, nw)\n",
    "    perm_ro = cal_kro_ans(Sw_old, Sw_i, So_r, perm_ro_max, no)\n",
    "    \n",
    "    # compute Transmissibility matrix\n",
    "    T_water, bcs_w = cal_Ta_ans(perm_x,  perm_rw, h, dx, dy, vis_w, Bw, p_old, nx, \\\n",
    "                         aquiferWest, aquiferEast, Pb_w, Pb_e, perm_Aq_w, perm_Aq_e, perm_rw_Aq)\n",
    "                            #perm_x, perm_rel_a, h, dx, dy, vis_a, FVF_a, Pressure, nx, \\\n",
    "                            #BC_w=0, BC_e= 0, Pb_w = 0, Pb_e = 0, Perm_w = 0, Perm_e = 0, RelPerm = 0\n",
    "    T_oil, bcs_o   = cal_Ta_ans(perm_x,  perm_ro, h, dx, dy, vis_o, Bo, p_old, nx)\n",
    "    \n",
    "    # solve pressure Eq.\n",
    "    P = np.linalg.solve((T_water + Bo/Bw*T_oil + (B.toarray()/dt)),\\\n",
    "                            (np.dot((B.toarray()/dt), p_old)+ Qin + Qout + bcs_w + bcs_o))\n",
    "    \n",
    "    # calculate fractional flow\n",
    "    lam_w = perm_rw / vis_w # mobility of water\n",
    "    lam_o = perm_ro / vis_o # mobility of oil\n",
    "    \n",
    "    fw    = lam_w / (lam_w + lam_o) # fractional flow of water\n",
    "    fo    = lam_o / (lam_w + lam_o) # fractional flow of oil\n",
    "    \n",
    "    # solve water-saturation Eq.\n",
    "    Sw_new = Sw_old + (D*dt)*(np.dot(-T_water.toarray(),P) + Qin + fw*Qout + bcs_w)\n",
    "    \n",
    "    # update time, pressure, saturation\n",
    "    t += dt\n",
    "    n += 1\n",
    "    p_old  = P\n",
    "    Sw_old = Sw_new\n",
    "    \n",
    "    # output result\n",
    "    if n % n_out == 0:\n",
    "        print('{0:06d} th iteration, {1:09.2f} days'.format(n, t))\n",
    "        # Pressure and Saturation Profile\n",
    "        ShowResP_Cont(p_old, t, Lx, Ly, Pmin, Pmax, saveResP_contour, showResP_contour, fig1)\n",
    "        ShowResP_Plot(x, p_old, t, Lx, Pmin, Pmax, saveResP_plot, showResP_plot, fig2)\n",
    "        ShowSw_Cont(Sw_old, t, Lx, Ly, saveSw_contour, showSw_contour, fig3)\n",
    "        ShowSw_Plot(x, Sw_old, t, Lx, saveSw_plot, showSw_plot, fig4)\n",
    "        \n",
    "        # Production History\n",
    "        t_hist.append(t)\n",
    "        # ProdWater = np.hstack((ProdWater, -fw[Qout_loc] * Qout[Qout_loc]))\n",
    "        ProdWater = np.concatenate([ProdWater, -fw[Qout_loc] * Qout[Qout_loc]], 0)\n",
    "        # ProdOil   = np.hstack((ProdOil,   -(Bw/Bo) * fo[Qout_loc] * Qout[Qout_loc])) \n",
    "        ProdOil   = np.concatenate([ProdOil,   -(Bw/Bo) * fo[Qout_loc] * Qout[Qout_loc]], 0)\n",
    "    \n",
    "    \n",
    "    # exit infinite loop\n",
    "    if t >= t_max or n >= n_max:\n",
    "        break\n",
    "print('End Simulation')"
   ]
  },
  {
   "cell_type": "markdown",
   "id": "6aeff08c-47ab-454f-8b0e-17b2dd20a044",
   "metadata": {},
   "source": [
    "<h2>生産履歴</h2>"
   ]
  },
  {
   "cell_type": "code",
   "execution_count": 27,
   "id": "2d9e82f0-27ee-4d8f-8f4c-1d0dee786fac",
   "metadata": {},
   "outputs": [
    {
     "data": {
      "image/png": "[encoded data removed]",
      "text/plain": [
       "<Figure size 432x288 with 2 Axes>"
      ]
     },
     "metadata": {
      "needs_background": "light"
     },
     "output_type": "display_data"
    },
    {
     "data": {
      "text/plain": [
       "<Figure size 432x288 with 0 Axes>"
      ]
     },
     "metadata": {},
     "output_type": "display_data"
    }
   ],
   "source": [
    "ShowResP_Cont(p_old, t, Lx, Ly, Pmin, Pmax, saveResP_contour, 1, fig1)"
   ]
  },
  {
   "cell_type": "code",
   "execution_count": 28,
   "id": "1ca78b2f-01dd-4803-8a45-d6eb96212313",
   "metadata": {},
   "outputs": [
    {
     "data": {
      "image/png": "[encoded data removed]",
      "text/plain": [
       "<Figure size 432x288 with 2 Axes>"
      ]
     },
     "metadata": {
      "needs_background": "light"
     },
     "output_type": "display_data"
    },
    {
     "data": {
      "text/plain": [
       "<Figure size 432x288 with 0 Axes>"
      ]
     },
     "metadata": {},
     "output_type": "display_data"
    }
   ],
   "source": [
    "ShowSw_Cont(Sw_old, t, Lx, Ly, saveSw_contour, 1, fig3)"
   ]
  },
  {
   "cell_type": "code",
   "execution_count": 20,
   "id": "88e5d49f-c04d-42ce-8592-5594bde35f8d",
   "metadata": {},
   "outputs": [
    {
     "data": {
      "text/plain": [
       "[<matplotlib.lines.Line2D at 0x1c0bfc984c0>]"
      ]
     },
     "execution_count": 20,
     "metadata": {},
     "output_type": "execute_result"
    },
    {
     "data": {
      "image/png": "[encoded data removed]",
      "text/plain": [
       "<Figure size 432x288 with 1 Axes>"
      ]
     },
     "metadata": {
      "needs_background": "light"
     },
     "output_type": "display_data"
    }
   ],
   "source": [
    "plt.plot(Sw_new)"
   ]
  },
  {
   "cell_type": "code",
   "execution_count": 29,
   "id": "02c9f768-9109-43f8-9879-d677ae775fab",
   "metadata": {},
   "outputs": [
    {
     "name": "stdout",
     "output_type": "stream",
     "text": [
      "19\n"
     ]
    },
    {
     "data": {
      "image/png": "[encoded data removed]",
      "text/plain": [
       "<Figure size 720x360 with 1 Axes>"
      ]
     },
     "metadata": {
      "needs_background": "light"
     },
     "output_type": "display_data"
    }
   ],
   "source": [
    "Oil = ProdOil.reshape(-1, len(Qout_loc))\n",
    "Water = ProdWater.reshape(-1, len(Qout_loc))\n",
    "\n",
    "fig_prod, ax = plt.subplots(len(Qout_loc), 1, tight_layout=True, figsize= (10, 5))\n",
    "\n",
    "# default\n",
    "ind_str = 0\n",
    "ind_end = len(t_hist)\n",
    "print(len(t_hist))\n",
    "# cutomize\n",
    "#ind_str = 100\n",
    "#ind_end = 500\n",
    "\n",
    "for i in range(0, len(Qout_loc)):\n",
    "    if len(Qout_loc) == 1:\n",
    "        #\n",
    "        ax.plot(t_hist[ind_str : ind_end], Oil[ind_str : ind_end,i], color='#006400', label= 'Oil')\n",
    "        ax.plot(t_hist[ind_str : ind_end], Water[ind_str : ind_end,i], color='#0000cd', label= 'Water')\n",
    "        ax.set_xlabel('Time [day]')\n",
    "        ax.set_ylabel('Prod. Rate [cu ft / day]')\n",
    "        ax.set_title(Qout_name[i])\n",
    "        ax.grid()\n",
    "        # ax.set_xticks(list(np.linspace(42, 150, 42)))\n",
    "        # ax.set_yticks(list(np.linspace(3, 426.5/2, 30)))\n",
    "        # ax.set_xlim(42, 150)\n",
    "        ax.legend()\n",
    "    else:\n",
    "        ax[i].plot(t_hist[ind_str : ind_end], Oil[ind_str : ind_end,i], color='#006400', label= 'Oil')\n",
    "        ax[i].plot(t_hist[ind_str : ind_end], Water[ind_str : ind_end,i], color='#0000cd', label= 'Water')\n",
    "        ax[i].set_xlabel('Time [day]')\n",
    "        ax[i].set_ylabel('Prod. Rate [cf / day]')\n",
    "        ax[i].set_title(Qout_name[i])\n",
    "        ax[i].legend()\n",
    "\n",
    "plt.subplots_adjust(wspace=0.4, hspace=0.6)"
   ]
  },
  {
   "cell_type": "code",
   "execution_count": null,
   "id": "d6be1537-5935-413c-8f2b-b7fa5358a7b6",
   "metadata": {},
   "outputs": [],
   "source": []
  }
 ],
 "metadata": {
  "kernelspec": {
   "display_name": "Python 3 (ipykernel)",
   "language": "python",
   "name": "python3"
  },
  "language_info": {
   "codemirror_mode": {
    "name": "ipython",
    "version": 3
   },
   "file_extension": ".py",
   "mimetype": "text/x-python",
   "name": "python",
   "nbconvert_exporter": "python",
   "pygments_lexer": "ipython3",
   "version": "3.9.12"
  }
 },
 "nbformat": 4,
 "nbformat_minor": 5
}
