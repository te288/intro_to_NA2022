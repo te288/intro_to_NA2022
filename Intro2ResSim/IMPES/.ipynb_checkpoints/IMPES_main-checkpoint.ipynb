{
 "cells": [
  {
   "cell_type": "markdown",
   "id": "a750ab6a-95db-4ff5-950f-9083bf303474",
   "metadata": {},
   "source": [
    "<center>\n",
    "    <h1>Main Scripts of 1D-IMPES</h1>\n",
    "</center>"
   ]
  },
  {
   "cell_type": "code",
   "execution_count": 3,
   "id": "38b1b07c-d459-45b9-ac78-dc28fe609f14",
   "metadata": {},
   "outputs": [],
   "source": [
    "#import modules\n",
    "import numpy as np\n",
    "from scipy.sparse import spdiags\n",
    "import ResSimUtils\n",
    "import ShowResults"
   ]
  },
  {
   "cell_type": "markdown",
   "id": "04b4a596-b9a1-455d-bee4-6d4c5347e6bb",
   "metadata": {},
   "source": [
    "<h2>インプットパラメータ</h2>"
   ]
  },
  {
   "cell_type": "markdown",
   "id": "3fcfc382-45a5-44de-8f26-957a2a86d59e",
   "metadata": {},
   "source": [
    "<h3>ReservoirProperties and Simulation control</h3>"
   ]
  },
  {
   "cell_type": "code",
   "execution_count": 15,
   "id": "2ba7feac-129f-43c3-b1f3-4ca3fa14a6b2",
   "metadata": {},
   "outputs": [],
   "source": [
    "# Simulation control Parameters ===========================================\n",
    "dt_init  = 0.50  # initial time step[day]. time step might be revised to meet CFL condition\n",
    "t_max    = 10*365.25 # [day] simulation will continues until t becomes t_max\n",
    "n_out    = 40 # [day] Production history would be output every n_out time step\n",
    "n_max    = 1e8# maximum interation [-]\n",
    "t_hist   = [0] # vector to hold time of day when simulation result is output\n",
    "plotsave = 0 # boot variables to control save plot(1 == save)\n",
    "plotshow = 1 # show Saturation distribution every t_out [day]\n",
    "\n",
    "# Reservoir Properties ===================================================\n",
    "Lx = 1000 # Reservoir Length in x direction [ft]\n",
    "Ly = 10 # Reservoir Length in y direction [ft]\n",
    "h  = 10   # Reservoir tickness in z direction [ft]\n",
    "nx = 20   # number of grid in x direction [-]\n",
    "ny = 20   # number of grid in y direction [-]\n",
    "dx = Lx / nx # grid size in x direction\n",
    "# dy = Ly / ny # grid size in y direction\n",
    "perm_x  = 100*np.ones(nx) # Absolute permeability in x direction [mD]\n",
    "# perm_y  = 100*np.ones(ny, nx) # Absolute permeability in y direction [mD]\n",
    "phi_res = 0.3*np.ones(nx) # Porosity of reservoir [-]\n",
    "P_init  = 1000*np.ones(nx) # Initial pressure in reservoir [PSI]\n",
    "\n",
    "# define coordinate system\n",
    "x    = np.zeros(nx)\n",
    "x[0] = 0.5*dx\n",
    "#y = np.np.zeros(ny)\n",
    "#y[0] = 0.5*dy\n",
    "\n",
    "# x coordinate\n",
    "for i in range(1,len(x)):\n",
    "    x[i] = x[i-1] + dx\n",
    "\n",
    "# y coordinate\n",
    "#\n",
    "#\n"
   ]
  },
  {
   "cell_type": "code",
   "execution_count": 16,
   "id": "4e03d25d-0116-4e7c-9ac8-c1a646ae79e6",
   "metadata": {},
   "outputs": [
    {
     "name": "stdout",
     "output_type": "stream",
     "text": [
      "[ 25.  75. 125. 175. 225. 275. 325. 375. 425. 475. 525. 575. 625. 675.\n",
      " 725. 775. 825. 875. 925. 975.]\n",
      "50.0\n"
     ]
    },
    {
     "data": {
      "text/plain": [
       "1000.0"
      ]
     },
     "execution_count": 16,
     "metadata": {},
     "output_type": "execute_result"
    }
   ],
   "source": [
    "print(x)\n",
    "print(dx)\n",
    "x[-1] + dx/2"
   ]
  },
  {
   "cell_type": "markdown",
   "id": "fc67ca4f-00af-49aa-aa66-9e67a97747c4",
   "metadata": {},
   "source": [
    "<h3>Fluid Properties</h3>"
   ]
  },
  {
   "cell_type": "code",
   "execution_count": 13,
   "id": "df1189aa-f9b2-451c-8d80-8c1c6d83f855",
   "metadata": {},
   "outputs": [],
   "source": [
    "# Fluid Properties =======================================================\n",
    "# Injected water properties\n",
    "vis_w        = 1.0 # viscosity of water [cp]\n",
    "Bw           = 1.0 # formation volume factor of water\n",
    "cw           = 1e-5 # compressibility of water [psi^-1]\n",
    "Sw_i         = 0.2 # irreducible water saturation\n",
    "Sw_init      = 0.2*np.ones(nx) # initial water saturation distribution\n",
    "\n",
    "perm_rw_max  = 1 # maximuam relative perm. of water [-]\n",
    "nw           = 3.0 # exponent of water relative permeability curve [>1]\n",
    "\n",
    "# Oil water Properties\n",
    "vis_o        = 1.0 # viscosity of oil [cp]\n",
    "Bo           = 1.0 # formation volume factor of oil\n",
    "co           = 1e-5 # compressibility of oil [psi^-1]\n",
    "So_r         = 0.2 # residual oil saturation\n",
    "So_init      = 1 - Sw_init # initial oil saturation progile\n",
    "perm_ro_max  = 1 # maximuam relative perm. of oil [-]\n",
    "no           = 3.0 # exponent of oil relative permeability curve [>1]"
   ]
  },
  {
   "cell_type": "markdown",
   "id": "3739a024-a03d-4f2a-858a-5ccc75df9e99",
   "metadata": {},
   "source": [
    "<h3>Well, Production & Injection Information</h3>"
   ]
  },
  {
   "cell_type": "code",
   "execution_count": null,
   "id": "d7757177-9bf0-4c22-8697-a825f72c81e2",
   "metadata": {},
   "outputs": [],
   "source": [
    "# Injection Well Properties ==============================================\n",
    "# injection wells are controlled by flow rate[ft^3 /day]. Injecters are\n",
    "# composed of water flow rate. Producers are only controlled by total flow\n",
    "# rate.\n",
    "\n",
    "# Injection wells (source term)\n",
    "Qin = np.zeros(ny, nx) # Injection wells\n",
    "Qin(1,  1)   = 1.5*426.5\n",
    "\n",
    "# Production Well Properties =============================================\n",
    "# production wells are controlled by flow rate[ft^s /day] or constant\n",
    "# Bottom Hole Pressure, Pwf [PSI]. If Pwf is larger than Pi (mean pressure\n",
    "# in CV), the situation is regarded as no production.\n",
    "\n",
    "# Production wells (sink term) controlled by Flow Rate --------------------\n",
    "Qout = np.zeros(ny, nx) # Production wells\n",
    "Qout(end, end) = -1.5*426.5\n",
    "# Qout(ceil(ny/2), ceil(nx/2)) = -2*426.5\n",
    "\n",
    "# Production wells controlled by BHP --------------------------------------\n",
    "Pwf = sparse(ny, nx)  # BHP matrix\n",
    "rw  = sparse(ny, nx)  # well radius matrix\n",
    "skin = sparse(ny, nx) # skin-factor matrix\n",
    "Jo  = sparse(ny, nx)    # Productivity Index matrix for Oil\n",
    "Jw  = sparse(ny, nx)    # Productivity Index matrix for Water\n",
    " \n",
    "# vectorize Qprod\n",
    "Qout = Qout(:)\n",
    "\n",
    "# Integrate Producers and Injecters\n",
    "# matrix to save production history\n",
    "Prod_oil   = sparse(np.zeros(ny*nx, 1))\n",
    "Prod_water = sparse(np.zeros(ny*nx, 1))\n",
    "# wellname, well-loc i "
   ]
  },
  {
   "cell_type": "markdown",
   "id": "e1e95212-4013-479a-955f-bf9e8f630a30",
   "metadata": {},
   "source": [
    "<h2>計算部分</h2>"
   ]
  },
  {
   "cell_type": "code",
   "execution_count": null,
   "id": "6d354879-b329-4f26-83f3-14e9768c15ba",
   "metadata": {},
   "outputs": [],
   "source": []
  },
  {
   "cell_type": "markdown",
   "id": "6aeff08c-47ab-454f-8b0e-17b2dd20a044",
   "metadata": {},
   "source": [
    "<h2>結果表示</h2>"
   ]
  },
  {
   "cell_type": "code",
   "execution_count": null,
   "id": "a07ad64b-b3a3-452c-94be-12740a67b641",
   "metadata": {},
   "outputs": [],
   "source": []
  }
 ],
 "metadata": {
  "kernelspec": {
   "display_name": "Python 3 (ipykernel)",
   "language": "python",
   "name": "python3"
  },
  "language_info": {
   "codemirror_mode": {
    "name": "ipython",
    "version": 3
   },
   "file_extension": ".py",
   "mimetype": "text/x-python",
   "name": "python",
   "nbconvert_exporter": "python",
   "pygments_lexer": "ipython3",
   "version": "3.9.12"
  }
 },
 "nbformat": 4,
 "nbformat_minor": 5
}
