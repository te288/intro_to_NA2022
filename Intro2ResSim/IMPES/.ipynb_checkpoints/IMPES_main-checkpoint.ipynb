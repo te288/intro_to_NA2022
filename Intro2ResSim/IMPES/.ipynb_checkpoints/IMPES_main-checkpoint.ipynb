{
 "cells": [
  {
   "cell_type": "markdown",
   "id": "a750ab6a-95db-4ff5-950f-9083bf303474",
   "metadata": {},
   "source": [
    "<center>\n",
    "    <h1>Main Scripts for 1D-IMPES</h1>\n",
    "</center>"
   ]
  },
  {
   "cell_type": "code",
   "execution_count": 1,
   "id": "38b1b07c-d459-45b9-ac78-dc28fe609f14",
   "metadata": {},
   "outputs": [],
   "source": [
    "#import modules\n",
    "import numpy as np\n",
    "from scipy.sparse import spdiags\n",
    "import ShowResults\n",
    "from matplotlib import pyplot as plt"
   ]
  },
  {
   "cell_type": "markdown",
   "id": "04b4a596-b9a1-455d-bee4-6d4c5347e6bb",
   "metadata": {},
   "source": [
    "<h2>インプットパラメータ</h2>"
   ]
  },
  {
   "cell_type": "markdown",
   "id": "3fcfc382-45a5-44de-8f26-957a2a86d59e",
   "metadata": {},
   "source": [
    "<h3>Reservoir Properties and Simulation control</h3>"
   ]
  },
  {
   "cell_type": "code",
   "execution_count": 2,
   "id": "2ba7feac-129f-43c3-b1f3-4ca3fa14a6b2",
   "metadata": {},
   "outputs": [],
   "source": [
    "# Simulation control Parameters ===========================================\n",
    "dt_init  = 0.50  # initial time step[day]. time step might be revised to meet CFL condition\n",
    "t_max    = 10*365.25 # [day] simulation will continues until t becomes t_max\n",
    "n_out    = 40 # [day] Production history would be output every n_out time step\n",
    "n_max    = 1e8# maximum interation [-]\n",
    "t_hist   = [0] # vector to hold time of day when simulation result is output\n",
    "plotsave = 0 # boot variables to control save plot(1 == save)\n",
    "plotshow = 1 # show Saturation distribution every t_out [day]\n",
    "\n",
    "# Reservoir Properties ===================================================\n",
    "Lx = 1000 # Reservoir Length in x direction [ft]\n",
    "Ly = 10 # Reservoir Length in y direction [ft]\n",
    "h  = 10   # Reservoir tickness in z direction [ft]\n",
    "nx = 20   # number of grid in x direction [-]\n",
    "ny = 20   # number of grid in y direction [-]\n",
    "dx = Lx / nx # grid size in x direction\n",
    "# dy = Ly / ny # grid size in y direction\n",
    "perm_x  = 100*np.ones(nx) # Absolute permeability in x direction [mD]\n",
    "# perm_y  = 100*np.ones(ny, nx) # Absolute permeability in y direction [mD]\n",
    "phi_res = 0.3*np.ones(nx) # Porosity of reservoir [-]\n",
    "P_init  = 1000*np.ones(nx) # Initial pressure in reservoir [PSI]\n",
    "\n",
    "# define coordinate system\n",
    "x    = np.zeros(nx)\n",
    "x[0] = 0.5*dx\n",
    "#y = np.np.zeros(ny)\n",
    "#y[0] = 0.5*dy\n",
    "\n",
    "# x coordinate\n",
    "for i in range(1,len(x)):\n",
    "    x[i] = x[i-1] + dx\n",
    "\n",
    "# y coordinate\n",
    "#\n",
    "#\n"
   ]
  },
  {
   "cell_type": "markdown",
   "id": "fc67ca4f-00af-49aa-aa66-9e67a97747c4",
   "metadata": {},
   "source": [
    "<h3>Fluid Properties</h3>"
   ]
  },
  {
   "cell_type": "code",
   "execution_count": 4,
   "id": "df1189aa-f9b2-451c-8d80-8c1c6d83f855",
   "metadata": {},
   "outputs": [],
   "source": [
    "# Fluid Properties =======================================================\n",
    "# Injected water properties\n",
    "vis_w        = 1.0 # viscosity of water [cp]\n",
    "Bw           = 1.0 # formation volume factor of water\n",
    "cw           = 1e-5 # compressibility of water [psi^-1]\n",
    "Sw_i         = 0.2 # irreducible water saturation\n",
    "Sw_init      = 0.2*np.ones(nx) # initial water saturation distribution\n",
    "Sw_init      = np.linspace(0, 1, nx)\n",
    "\n",
    "perm_rw_max  = 1 # maximuam relative perm. of water [-]\n",
    "nw           = 3.0 # exponent of water relative permeability curve [>1]\n",
    "\n",
    "# Oil water Properties\n",
    "vis_o        = 1.0 # viscosity of oil [cp]\n",
    "Bo           = 1.0 # formation volume factor of oil\n",
    "co           = 1e-5 # compressibility of oil [psi^-1]\n",
    "So_r         = 0.2 # residual oil saturation\n",
    "So_init      = 1 - Sw_init # initial oil saturation progile\n",
    "perm_ro_max  = 1 # maximuam relative perm. of oil [-]\n",
    "no           = 3.0 # exponent of oil relative permeability curve [>1]"
   ]
  },
  {
   "cell_type": "markdown",
   "id": "3739a024-a03d-4f2a-858a-5ccc75df9e99",
   "metadata": {},
   "source": [
    "<h3>Well, Production & Injection Information</h3>"
   ]
  },
  {
   "cell_type": "code",
   "execution_count": 5,
   "id": "d7757177-9bf0-4c22-8697-a825f72c81e2",
   "metadata": {},
   "outputs": [],
   "source": [
    "# Injection Well Properties ==============================================\n",
    "# injection wells are controlled by flow rate[ft^3 /day]. Injecters are\n",
    "# composed of water flow rate. Producers are only controlled by total flow\n",
    "# rate.\n",
    "\n",
    "# Injection wells (source term)\n",
    "#Qin = np.zeros(ny, nx) # Injection wells\n",
    "Qin = np.zeros(nx) # Injection wells\n",
    "loc_Qin  = [0]\n",
    "Qin[loc_Qin[0]]   = 1.5*426.5\n",
    "\n",
    "# Production Well Properties =============================================\n",
    "# production wells are controlled by flow rate[ft^s /day] or constant\n",
    "# Bottom Hole Pressure, Pwf [PSI]. If Pwf is larger than Pi (mean pressure\n",
    "# in CV), the situation is regarded as no production.\n",
    "\n",
    "# Production wells (sink term) controlled by Flow Rate --------------------\n",
    "#Qout = np.zeros(ny, nx) # Production wells\n",
    "Qout = np.zeros(nx)\n",
    "loc_Qout  = [nx-1]\n",
    "Qout[loc_Qout[0]]   = -1.5*426.5\n"
   ]
  },
  {
   "cell_type": "code",
   "execution_count": null,
   "id": "82890df0-e650-4696-a7e5-fdf81a5b5468",
   "metadata": {},
   "outputs": [],
   "source": []
  },
  {
   "cell_type": "code",
   "execution_count": null,
   "id": "9929aa48-ea94-4a5a-8d6b-e5c39939eaeb",
   "metadata": {},
   "outputs": [],
   "source": []
  },
  {
   "cell_type": "markdown",
   "id": "e1e95212-4013-479a-955f-bf9e8f630a30",
   "metadata": {},
   "source": [
    "<h2>計算部分</h2>"
   ]
  },
  {
   "cell_type": "code",
   "execution_count": null,
   "id": "cb24b8fb-79da-4d9a-b8ad-41440c3feadd",
   "metadata": {},
   "outputs": [],
   "source": []
  },
  {
   "cell_type": "markdown",
   "id": "6aeff08c-47ab-454f-8b0e-17b2dd20a044",
   "metadata": {},
   "source": [
    "<h2>結果表示</h2>"
   ]
  },
  {
   "cell_type": "code",
   "execution_count": null,
   "id": "196c4046-c203-42a0-864c-b37d65a5f1a2",
   "metadata": {},
   "outputs": [],
   "source": []
  }
 ],
 "metadata": {
  "kernelspec": {
   "display_name": "Python 3 (ipykernel)",
   "language": "python",
   "name": "python3"
  },
  "language_info": {
   "codemirror_mode": {
    "name": "ipython",
    "version": 3
   },
   "file_extension": ".py",
   "mimetype": "text/x-python",
   "name": "python",
   "nbconvert_exporter": "python",
   "pygments_lexer": "ipython3",
   "version": "3.9.12"
  }
 },
 "nbformat": 4,
 "nbformat_minor": 5
}
