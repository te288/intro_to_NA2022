{
 "cells": [
  {
   "cell_type": "markdown",
   "id": "c62765f2-9b72-437e-8fba-58aace892bba",
   "metadata": {},
   "source": [
    "### Jupyter Labの使い方Tips\n",
    "#### **esc +**\n",
    "esc + MでMarkdown，esc + Yでコード，esc + A/Bで現在のセルの上/下にセルを追加，esc + Xでセルをカット\n",
    "#### **その他**\n",
    "JupyterLabのメニュー「View」→「Show Line Numbers」にチェックを入れると、行番号が表示\n",
    "\n",
    "Edit > Clear all outputで全てのセルの出力をクリア"
   ]
  },
  {
   "cell_type": "markdown",
   "id": "b0942231-94a8-4041-8d7e-2d2815a80447",
   "metadata": {},
   "source": [
    "<center>\n",
    "    <h1>Generalized -Corey Correlation</h1>\n",
    "</center>\n",
    "    <div>\n",
    "    Corey-Correlationを使った相対浸透率曲線をプロットするプログラム<br>\n",
    "    Water / Oil Systemでは，水-油の相対浸透率はそれぞれ次のように書ける。<br><br>\n",
    "    $$\n",
    "    k_{ro} = k_{ro@S_{wi}}\\left[\\frac{1- S_w - S_{or}}{1-S_{iw}-S_{or}}\\right]^{n_{o}}\\tag{1}\n",
    "    $$\n",
    "    <br>\n",
    "    $$\n",
    "    k_{rw} = k_{rw@S_{or}}\\left[\\frac{S_w - S_{iw}}{1-S_{iw}-S_{or}}\\right]^{n_{w}}\\tag{2}\n",
    "    $$\n",
    "    <br>\n",
    "    水-油-ガスの３相流はStoneの式（Stone1, Stone2がある）が有名。そのほかの近似式については<a href=\"https://www.ihsenergy.ca/support/documentation_ca/Harmony_Enterprise/2019_3/content/html_files/ref_materials/calculations/relative_permeability_correlations.htm\">IHS MarkitのHP</a>や<a href = \"https://petrowiki.spe.org/Relative_permeability_models\">PetroWiki</a>を参考にされたい。\n",
    "   "
   ]
  },
  {
   "cell_type": "code",
   "execution_count": 1,
   "id": "7b20c146-bf51-4785-8d41-64aa595b557c",
   "metadata": {},
   "outputs": [],
   "source": [
    "# ライブラリのインポート\n",
    "%matplotlib inline\n",
    "import numpy as np\n",
    "import matplotlib.pyplot as plt"
   ]
  },
  {
   "cell_type": "code",
   "execution_count": 2,
   "id": "bb15962c-4641-4e41-bbc3-154ec7df83e9",
   "metadata": {},
   "outputs": [],
   "source": [
    "# Input Paramters\n",
    "Sw  = np.linspace(0, 1, 1000, endpoint=True); # Saturation of water\n",
    "Swi = 0.3; # Residual water saturation [-]\n",
    "Sor = 0.3; # Residual oil saturation  [-]\n",
    "\n",
    "kro_Swi = 0.7 # 0 <= value <= 1, Oil Relative permeability @ Sw = Swi [-]\n",
    "krw_Sor = 0.7 # 0 <= value <= 1, Water Relative permeability @ So = Sor [-]\n",
    "\n",
    "no      = 2; # > 1, exponent of eq.(1)\n",
    "nw      = 2; # > 1, exponent of eq.(2)"
   ]
  },
  {
   "cell_type": "code",
   "execution_count": 1,
   "id": "d766700b-3e85-4603-a830-6652fa57373f",
   "metadata": {},
   "outputs": [],
   "source": [
    "# 以下コードを書く，水の相対浸透率：krw, 水の相対浸透率：kro"
   ]
  },
  {
   "cell_type": "code",
   "execution_count": null,
   "id": "60cfe958-0a0e-4b14-a3aa-89f027df58ae",
   "metadata": {
    "tags": []
   },
   "outputs": [],
   "source": [
    "# Object指向で書く\n",
    "fig = plt.figure();\n",
    "ax = fig.add_subplot();\n",
    "ax.plot(Sw, kro, label = \"Relative Perm. Oil\")\n",
    "ax.plot(Sw, krw, label = \"Relative Perm. Water\")\n",
    "ax.set_title(\"Relative Perm. Curve using Generalized Corey\")\n",
    "ax.set_xlabel(\"Saturation of Water [-]\")\n",
    "ax.set_ylabel(\"Relative Perm.\")\n",
    "ax.set_ylim([0,2])\n",
    "ax.grid()\n",
    "ax.legend()"
   ]
  },
  {
   "cell_type": "markdown",
   "id": "84f32511-add0-4af5-ae61-f46ef88a7094",
   "metadata": {},
   "source": [
    "<center>\n",
    "    <a href=\"../../index\">戻る</a>\n",
    "</center>"
   ]
  },
  {
   "cell_type": "code",
   "execution_count": null,
   "id": "0d443238-7970-47e2-8089-ee566038f873",
   "metadata": {},
   "outputs": [],
   "source": []
  }
 ],
 "metadata": {
  "kernelspec": {
   "display_name": "Python 3 (ipykernel)",
   "language": "python",
   "name": "python3"
  },
  "language_info": {
   "codemirror_mode": {
    "name": "ipython",
    "version": 3
   },
   "file_extension": ".py",
   "mimetype": "text/x-python",
   "name": "python",
   "nbconvert_exporter": "python",
   "pygments_lexer": "ipython3",
   "version": "3.9.12"
  }
 },
 "nbformat": 4,
 "nbformat_minor": 5
}
