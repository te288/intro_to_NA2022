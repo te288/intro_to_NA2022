{
 "cells": [
  {
   "cell_type": "markdown",
   "id": "ab0752be-ec14-410c-9849-43104634196a",
   "metadata": {},
   "source": [
    "### Jupyter Labの使い方Tips\n",
    "#### **esc +**\n",
    "esc + MでMarkdown，esc + Yでコード，esc + A/Bで現在のセルの上/下にセルを追加，esc + Xでセルをカット\n",
    "#### **その他**\n",
    "JupyterLabのメニュー「View」→「Show Line Numbers」にチェックを入れると、行番号が表示\n",
    "\n",
    "Edit > Clear all outputで全てのセルの出力をクリア"
   ]
  },
  {
   "cell_type": "markdown",
   "id": "b832b095-5ef2-4505-975a-a0e62828d0db",
   "metadata": {},
   "source": [
    "<center>\n",
    "    <h1 style=\"color:blue\"><b>疎行列について</b></h1>\n",
    "</center>\n",
    "先ほどの<a href=\"Pressure1D_implicit.html\">プログラム</a>で使用した係数行列$T$はその大部分が$0$になっており，このような行列を<b>疎行列</b>という。例えば$100$のグリッドを持つ場合，係数行列$T$のサイズは$100\\times100$になるが，そのうち計算に真に必要なのは3重対角成分のみである。大部分が$0$であるにも関わらず，$N\\times N$のフルサイズの行列を定義するのは効率が悪く，計算リソースを無駄に消費してしまう。そこで計算リソース節約のため，組み込み関数等を用いてフルサイズの行列ではなく，疎行列を定義することが推奨される。"
   ]
  },
  {
   "cell_type": "markdown",
   "id": "ad7d35aa-3a05-465c-a503-4ad864ae7629",
   "metadata": {},
   "source": [
    "<h2>詳細</h2>\n",
    "$i$番目のグリッドと$i-1$番目のグリッド間の透過率，$i$番目のグリッドと$i+1$番目のグリッド間の透過率をそれぞれ"
   ]
  },
  {
   "cell_type": "markdown",
   "id": "c4465f21-622b-4054-aaa2-abcf0fd36466",
   "metadata": {},
   "source": [
    "$$\n",
    "T_w = \\left.\\frac{kA}{\\mu\\Delta x}\\right|_{i-\\frac{1}{2}}\n",
    "$$\n",
    "$$\n",
    "T_e = \\left.\\frac{kA}{\\mu\\Delta x}\\right|_{i+\\frac{1}{2}}\n",
    "$$"
   ]
  },
  {
   "cell_type": "markdown",
   "id": "c5a38a56-1c75-43a2-8ebf-1b3f9af8d978",
   "metadata": {},
   "source": [
    "と定義することにして，さらに$T_o$を"
   ]
  },
  {
   "cell_type": "markdown",
   "id": "e065aec6-da8d-4eb8-a042-5e287aa2291f",
   "metadata": {},
   "source": [
    "$$\n",
    "T_o = T_w + T_s\n",
    "$$"
   ]
  },
  {
   "cell_type": "markdown",
   "id": "19ea39ae-fc84-4004-b06e-a44f488d7b2e",
   "metadata": {},
   "source": [
    "と定めると，陰解法の離散化式は $B_i = \\phi c V_i$ とおいて，"
   ]
  },
  {
   "cell_type": "markdown",
   "id": "f9198386-3fcf-477e-887e-b75974450fa0",
   "metadata": {},
   "source": [
    "$$\n",
    "-T_wP^{\\left(n+1\\right)}_{i-1} + \\left(T_o + \\frac{B_i}{\\Delta t}\\right)P^{\\left(n+1\\right)}_{i} -T_eP^{\\left(n+1\\right)}_{i+1}=\n",
    "\\frac{B_i}{\\Delta t}P^{\\left(n\\right)}_i + Q\n",
    "$$"
   ]
  },
  {
   "cell_type": "markdown",
   "id": "9e6133d5-9890-43cf-9c9e-fc53446945cf",
   "metadata": {},
   "source": [
    "両端が不透水境界であるとき，$T_w$ と $T_e$，$T_o$ は次のような配列になる。"
   ]
  },
  {
   "cell_type": "markdown",
   "id": "8df34ec4-ed5f-4438-8734-5df0d4b01cfa",
   "metadata": {},
   "source": [
    "<center>\n",
    "<img src=\"fig/TwTeTo.png\" width = \"600px\"></img>\n",
    "</center>"
   ]
  },
  {
   "cell_type": "markdown",
   "id": "92293474-0675-435e-827b-3ac0690efe41",
   "metadata": {},
   "source": [
    "ゆえに，係数行列$T$の要素を図示すると"
   ]
  },
  {
   "cell_type": "markdown",
   "id": "d2f40703-8136-4f48-bbf0-e5ac71f259a4",
   "metadata": {},
   "source": [
    "<center>\n",
    "<img src=\"fig/To_mat.png\" width = \"450px\">\n",
    "</center>"
   ]
  },
  {
   "cell_type": "markdown",
   "id": "8146e8a7-561d-475d-ac92-ddce1fd613c9",
   "metadata": {},
   "source": [
    "このような疎行列を生成するため，<code>Python</code>には次のような組み込み関数が用意されている。"
   ]
  },
  {
   "cell_type": "markdown",
   "id": "9b1200d4-57b3-429e-8455-8cf00c27549b",
   "metadata": {},
   "source": [
    "<code>scipy.sparse.spdiags(data, diags, m=None, n=None, format=None)</code>"
   ]
  },
  {
   "cell_type": "markdown",
   "id": "071b8885-5ed9-4bf2-8a94-7a11adb99862",
   "metadata": {},
   "source": [
    "引数はそれぞれ<br>\n",
    "<ul>\n",
    "    <li><code>data</code>：対角成分の要素</li>\n",
    "    <li><code>diags</code>：<code>data</code>で指定された配列をどこに配置するか。\n",
    "    <code>k=0</code>なら対角部分，\n",
    "    <code>k>0</code>なら上三角行列に対応する部分（中心から離れるほど\n",
    "    <code>k</code>の値が大きくなる。），\n",
    "    <code>k<0</code>なら下三角成分に対応する部分\n",
    "        </li>\n",
    "<li><code>m</code>：行列の行数</li>\n",
    "<li><code>n</code>：行列の列数</li>\n",
    "</ul>"
   ]
  },
  {
   "cell_type": "markdown",
   "id": "13e6540c-0604-49e0-808e-e398c4b6babe",
   "metadata": {},
   "source": [
    "<h3>具体例</h3>\n",
    "いま，\n",
    "<code>\n",
    "    Tw = [0, 1, 2, 3,..., 9]\n",
    "</code>\n",
    "<code>\n",
    "    Te = [9, 8, 7, 6, ..., 0]\n",
    "</code>\n",
    "<code>\n",
    "    To = Tw + Te = [9, 9, ..., 9]\n",
    "    </code>"
   ]
  },
  {
   "cell_type": "markdown",
   "id": "7f879699-1ee6-4cdd-a54a-617e0b1416ae",
   "metadata": {},
   "source": [
    "であったとすると，生成したい疎行列は\n",
    "<center>\n",
    "<img src=\"fig/T_example.png\" width = \"450px\">\n",
    "</center>"
   ]
  },
  {
   "cell_type": "markdown",
   "id": "8308e91b-d632-4b87-9514-438a21912f75",
   "metadata": {},
   "source": [
    "このような行列$T$を生成するpythonのコードを以下に示す。"
   ]
  },
  {
   "cell_type": "code",
   "execution_count": 55,
   "id": "8959b765-c738-412f-89b8-3d046406e12c",
   "metadata": {},
   "outputs": [],
   "source": [
    "import numpy as np\n",
    "from scipy.sparse import spdiags\n",
    "\n",
    "Tw = np.linspace(0, 9, 10)\n",
    "Te = np.linspace(9, 0, 10)\n",
    "\n",
    "To = Tw + Te\n",
    "\n",
    "T = spdiags([Te, To, Tw], [-1, 0, 1], 10, 10)\n",
    "T = T.T"
   ]
  },
  {
   "cell_type": "code",
   "execution_count": 56,
   "id": "f4cd261b-4e67-4516-9e32-0d4610bc7bf8",
   "metadata": {},
   "outputs": [
    {
     "name": "stdout",
     "output_type": "stream",
     "text": [
      "[[9. 9. 0. 0. 0. 0. 0. 0. 0. 0.]\n",
      " [1. 9. 8. 0. 0. 0. 0. 0. 0. 0.]\n",
      " [0. 2. 9. 7. 0. 0. 0. 0. 0. 0.]\n",
      " [0. 0. 3. 9. 6. 0. 0. 0. 0. 0.]\n",
      " [0. 0. 0. 4. 9. 5. 0. 0. 0. 0.]\n",
      " [0. 0. 0. 0. 5. 9. 4. 0. 0. 0.]\n",
      " [0. 0. 0. 0. 0. 6. 9. 3. 0. 0.]\n",
      " [0. 0. 0. 0. 0. 0. 7. 9. 2. 0.]\n",
      " [0. 0. 0. 0. 0. 0. 0. 8. 9. 1.]\n",
      " [0. 0. 0. 0. 0. 0. 0. 0. 9. 9.]]\n"
     ]
    }
   ],
   "source": [
    "print(T.toarray())"
   ]
  },
  {
   "cell_type": "markdown",
   "id": "38342782-9a98-44a1-b4a3-c7e7168c740f",
   "metadata": {},
   "source": [
    "9行目と10行目に注意してほしい。<code>.T</code>は転置を表す。Pythonの挙動と圧力拡散方程式獲得に必要な要素の配置を下に示した。"
   ]
  },
  {
   "cell_type": "markdown",
   "id": "0088f4b6-9f79-4f0c-afef-f1c1b9f73a5c",
   "metadata": {},
   "source": [
    "<center>\n",
    "    <img src=\"fig/matcomp.png\"  width = \"700px\">\n",
    "    </center>"
   ]
  },
  {
   "cell_type": "markdown",
   "id": "77281877-4563-4997-9c64-187c5ab938c1",
   "metadata": {},
   "source": [
    "（拡散方程式の係数行列に必要なのは，<code>Te，To，Tw</code>を横に並べたものだが，Python spdiagsは縦に並べるイメージ？）"
   ]
  },
  {
   "cell_type": "code",
   "execution_count": 48,
   "id": "8bb2a058-f155-4430-9ca4-fc9081b49f75",
   "metadata": {},
   "outputs": [
    {
     "data": {
      "text/plain": [
       "array([[9., 8., 0., 0., 0., 0., 0., 0., 0., 0.],\n",
       "       [0., 9., 7., 0., 0., 0., 0., 0., 0., 0.],\n",
       "       [0., 1., 9., 6., 0., 0., 0., 0., 0., 0.],\n",
       "       [0., 0., 2., 9., 5., 0., 0., 0., 0., 0.],\n",
       "       [0., 0., 0., 3., 9., 4., 0., 0., 0., 0.],\n",
       "       [0., 0., 0., 0., 4., 9., 3., 0., 0., 0.],\n",
       "       [0., 0., 0., 0., 0., 5., 9., 2., 0., 0.],\n",
       "       [0., 0., 0., 0., 0., 0., 6., 9., 1., 0.],\n",
       "       [0., 0., 0., 0., 0., 0., 0., 7., 9., 0.],\n",
       "       [0., 0., 0., 0., 0., 0., 0., 0., 8., 9.]])"
      ]
     },
     "execution_count": 48,
     "metadata": {},
     "output_type": "execute_result"
    }
   ],
   "source": [
    "spdiags([Tw, To, Te], [-1, 0, 1], 10, 10).toarray()"
   ]
  },
  {
   "cell_type": "markdown",
   "id": "e07a6c4d-4fc6-4178-9124-af370f36d6d7",
   "metadata": {},
   "source": [
    "<h3>メモリの節約量</h3>\n",
    "<code>spdiags</code>による疎行列生成がどの程度メモリの節約になるのか示す。"
   ]
  },
  {
   "cell_type": "code",
   "execution_count": 128,
   "id": "d3c21166-3fb4-46e2-a2bc-4467d92fe762",
   "metadata": {},
   "outputs": [],
   "source": [
    "N = 5\n",
    "# 通常の行列\n",
    "A = np.zeros([N, N])\n",
    "for i in range(0, N):\n",
    "    if i == 0:\n",
    "        A[i,i]   = 2\n",
    "        A[i,i+1] = 1\n",
    "    elif i == N-1:\n",
    "        A[i,i]   = 2\n",
    "        A[i,i-1] = -1\n",
    "    else:\n",
    "        A[i,i]   = 2\n",
    "        A[i,i+1] = 1\n",
    "        A[i,i-1] = -1\n",
    "        \n",
    "# 疎行列（疎配列？）\n",
    "a = np.ones(N);\n",
    "b = -1*np.ones(N);\n",
    "c = 2*np.ones(N);\n",
    "\n",
    "B = spdiags([a, c, b], [1, 0, -1], N,N)"
   ]
  },
  {
   "cell_type": "code",
   "execution_count": 129,
   "id": "667f2518-4d5e-4c84-aa9e-d95ba5996746",
   "metadata": {},
   "outputs": [
    {
     "name": "stdout",
     "output_type": "stream",
     "text": [
      "[[ 2.  1.  0.  0.  0.]\n",
      " [-1.  2.  1.  0.  0.]\n",
      " [ 0. -1.  2.  1.  0.]\n",
      " [ 0.  0. -1.  2.  1.]\n",
      " [ 0.  0.  0. -1.  2.]]\n"
     ]
    }
   ],
   "source": [
    "print(A)"
   ]
  },
  {
   "cell_type": "code",
   "execution_count": 130,
   "id": "d5facd7f-8d3d-4d58-8f3d-dfac18ef1526",
   "metadata": {},
   "outputs": [
    {
     "name": "stdout",
     "output_type": "stream",
     "text": [
      "[[ 2.  1.  0.  0.  0.]\n",
      " [-1.  2.  1.  0.  0.]\n",
      " [ 0. -1.  2.  1.  0.]\n",
      " [ 0.  0. -1.  2.  1.]\n",
      " [ 0.  0.  0. -1.  2.]]\n"
     ]
    }
   ],
   "source": [
    "print(B.toarray())"
   ]
  },
  {
   "cell_type": "code",
   "execution_count": 131,
   "id": "822f0dc7-aa2a-4a5d-9b15-42a7663e9093",
   "metadata": {},
   "outputs": [
    {
     "name": "stdout",
     "output_type": "stream",
     "text": [
      "疎行列でない場合のメモリ消費数：320\n",
      "疎行列のメモリ消費数：32\n"
     ]
    }
   ],
   "source": [
    "print(\"疎行列でない場合のメモリ消費数：{}\".format(A.__sizeof__()))\n",
    "print(\"疎行列のメモリ消費数：{}\".format(B.__sizeof__()))"
   ]
  },
  {
   "cell_type": "markdown",
   "id": "bd2239fb-20a0-44f0-8ede-4d9da36cde31",
   "metadata": {},
   "source": [
    "<h2>拡散方程式への実装</h2>\n",
    "以上の<b>疎行列</b>を使って圧力拡散方程式のコードを書き直すと次の通りになる。"
   ]
  },
  {
   "cell_type": "code",
   "execution_count": 1,
   "id": "18ec7dc3-c6e3-45e9-8bcc-84a75b7e2742",
   "metadata": {},
   "outputs": [],
   "source": [
    "## Import Modules & Plot function\n",
    "import numpy as np\n",
    "from scipy.stats import hmean\n",
    "from scipy.sparse import spdiags\n",
    "import matplotlib.pyplot as plt\n",
    "\n",
    "def SavePlot(x, P, t, L):\n",
    "  # Function to Plot & Save Pressure\n",
    "  # fig = plt.figure()\n",
    "    plt.plot(x, P_new, label='t={0:05.2f}'.format(t)) \n",
    "    plt.xlabel('x[m]')\n",
    "    plt.ylabel('Pressure [Pa]')\n",
    "    plt.xlim(0, L)\n",
    "    #plt.ylim(-1, 1)\n",
    "    plt.grid()\n",
    "    plt.title('Aquifer Pressure@{0:05.2f}[s]'.format(t))\n",
    "  # fig.savefig('t={0:05.2f}.png'.format(t)) #画像保存には20行目と21行目も実行\n",
    "  # plt.clf()\n",
    "    return\n",
    "    \n",
    "def SaveCountourOf1Ddata(P, t, L, W, Pmin, Pmax,n, saveflag):\n",
    "    plt.imshow([P_new, P_new], extent = [0, L, 0, W], cmap = 'jet', vmin=Pmin, vmax=Pmax)\n",
    "    plt.xlabel('L[m]')\n",
    "    plt.ylabel('W[m]')\n",
    "    plt.title(\"Aquifer Pressure [Pa]@ {:08.2f}days\".format(t/86400))\n",
    "    plt.colorbar(aspect = 20, orientation= 'horizontal', shrink=1)\n",
    "    if saveflag:\n",
    "        fig.savefig('result/SP_AP{:08.2f}days.png'.format(t/86400), facecolor=\"white\") #画像保存には20行目と21行目も実行%filename に＠や[]はつけない\n",
    "    plt.clf()\n",
    "    return"
   ]
  },
  {
   "cell_type": "code",
   "execution_count": 21,
   "id": "1be75f8a-aa0e-4c38-9b33-f07920e97e75",
   "metadata": {},
   "outputs": [],
   "source": [
    "## Input Parmeters\n",
    "# time step & boundary condition controll\n",
    "dt   = 43200*14*4   # dt [s] 43200[s] is equal to 0.5 days\n",
    "#tmax = 43200*2*365.25*10 # Time to stop simlation [s]\n",
    "tmax = dt * 12 * 1500\n",
    "nout = 1000  # output result ever nout step[]\n",
    "saveflag = False # flag to save contour map\n",
    "# Variable to decide Boundary condition\n",
    "#  1> Neumann, 0> Dirichlet\n",
    "BC_east = 1 # Boundary at right(x = L) \n",
    "BC_west  = 1 # Boundary at Left (x = 0)\n",
    "Pb_east = 1e6 # Pressure Value at x = L\n",
    "Pb_west  = 1e6 # Pressure Value at x = 0\n",
    "\n",
    "# Aquifer Geometory & coordinate\n",
    "L   = 3000     # Length of theReservoir [m]\n",
    "W   = 100          # Width of the Reservoir [m]\n",
    "h   = 10         # Tickness of the Reservoir [m]\n",
    "N   = 51         # Number of Control Volume [-]\n",
    "dx  = L/N         # Length of Control Volume[m]\n",
    "A   = W*h           # cross-sectional area of reservoir [m^2]\n",
    "x   = np.zeros(N) # x coordinate[m]\n",
    "# Coordinate points of CV-center\n",
    "x[0]= dx/2\n",
    "for i in range(1, N):\n",
    "    x[i] = x[i-1] + dx\n",
    "    \n",
    "# Aquifer Properties\n",
    "perm   = 1e-4*np.ones(N)    # Absolute Permiability Field [m^2]\n",
    "phi    = 0.3*np.ones(N)  # Porosity Field [-]\n",
    "#P_init = np.abs(np.sin(x))     # Initial Condition of Pressure [Pa]\n",
    "P_init = 1e6*np.ones(N)\n",
    "\n",
    "# Fluid Properties\n",
    "c    = 1     # Compressibility[Pa^-1]\n",
    "mu   = 1     # Viscosity of Fluid[Pa*s]\n",
    "\n",
    "# Well Parameters\n",
    "Q   = np.zeros(N) # Source vector[m^/s]\n",
    "# Q[3] = 0.05 # > 0, Injection wells\n",
    "# Q[5] = -0.05 # < 0, Pumping wells\n",
    "Q[int((N-1)/2)] = -0.05 # < 0, Pumping wells"
   ]
  },
  {
   "cell_type": "code",
   "execution_count": 22,
   "id": "c0d5b840-3996-49a2-ac27-b436d3456234",
   "metadata": {},
   "outputs": [],
   "source": [
    "## definition of Matrix for Linear simultaneous Eq.\n",
    "T_west = np.zeros(N)\n",
    "T_east = np.zeros(N)\n",
    "To = np.zeros(N)\n",
    "B  = np.zeros([N,N]) # Volume accumulation Matrix\n",
    "\n",
    "#T\n",
    "for i in range(0, N):\n",
    "    if i == 0:\n",
    "        Tw = A/(mu*dx)*(2*( perm[i] * perm[i] )/( perm[i] + perm[i]) )\n",
    "        Te = A/(mu*dx)*(2*( perm[i] * perm[i+1] )/( perm[i] + perm[i+1]) )\n",
    "        if BC_west == 0:\n",
    "            To[i] = Tw + Te\n",
    "            Q[0] = 2*Tw*Pb_east\n",
    "\n",
    "        else:\n",
    "            To[i] = Te\n",
    "        T_west[i] = 0\n",
    "        T_east[i] = Te\n",
    "            \n",
    "    elif i == N-1:\n",
    "        Tw = A/(mu*dx)*(2*( perm[i-1] * perm[i] )/( perm[i-1] + perm[i]) )\n",
    "        Te = A/(mu*dx)*(2*( perm[i] * perm[i] )/( perm[i] + perm[i]) )\n",
    "        if BC_east == 0:\n",
    "            To[i] = Tw + Te\n",
    "            Q[N-1] = 2*Te*Pb_west\n",
    "        else:\n",
    "            To[i] = Te\n",
    "        T_west[i] = Tw\n",
    "        T_east[i] = 0\n",
    "    else:\n",
    "        Tw = A/(mu*dx)*(2*( perm[i-1] * perm[i] )/( perm[i-1] + perm[i]) )\n",
    "        Te = A/(mu*dx)*(2*( perm[i] * perm[i+1] )/( perm[i] + perm[i+1]) )\n",
    "        To[i] = Tw + Te\n",
    "        T_west[i] = Tw\n",
    "        T_east[i] = Te\n",
    "\n",
    "#spdiags T\n",
    "T = spdiags([-T_east, To, -T_west], [-1, 0, 1], N, N).T\n",
    "\n",
    "# B\n",
    "for i in range(0, N):\n",
    "    B[i,i] = A*dx*phi[i]*c\n"
   ]
  },
  {
   "cell_type": "code",
   "execution_count": 23,
   "id": "fdd7bc44-b001-425a-acc3-da3aa29f0f0b",
   "metadata": {},
   "outputs": [
    {
     "name": "stdout",
     "output_type": "stream",
     "text": [
      "1000th Time step , day28000.00\n",
      "2000th Time step , day56000.00\n",
      "3000th Time step , day84000.00\n",
      "4000th Time step , day112000.00\n",
      "5000th Time step , day140000.00\n",
      "6000th Time step , day168000.00\n",
      "7000th Time step , day196000.00\n",
      "8000th Time step , day224000.00\n",
      "9000th Time step , day252000.00\n",
      "10000th Time step , day280000.00\n",
      "11000th Time step , day308000.00\n",
      "12000th Time step , day336000.00\n",
      "13000th Time step , day364000.00\n",
      "14000th Time step , day392000.00\n",
      "15000th Time step , day420000.00\n",
      "16000th Time step , day448000.00\n",
      "17000th Time step , day476000.00\n"
     ]
    },
    {
     "data": {
      "image/png": "[encoded data removed]",
      "text/plain": [
       "<Figure size 576x432 with 1 Axes>"
      ]
     },
     "metadata": {
      "needs_background": "light"
     },
     "output_type": "display_data"
    }
   ],
   "source": [
    "## Simulation\n",
    "P_old  = np.copy(P_init) # Pressure at n-th step\n",
    "P_new  = np.copy(P_init) # Pressure at n+1-th step\n",
    "t = 0\n",
    "n = 0\n",
    "fig = plt.figure(figsize=(8.0, 6.0))\n",
    "Pmax = np.max([np.max(P_init), Pb_east, Pb_west])\n",
    "Pmin = np.min([np.min(P_init), Pb_east, Pb_west])\n",
    "\n",
    "# Plot Initial Condition\n",
    "#SavePlot(x, P_new, t, L)\n",
    "SaveCountourOf1Ddata(P_init, t, L, W, Pmin, Pmax, n, saveflag)\n",
    "while True:\n",
    "    # solve Simultaneous equations\n",
    "    P_new = np.linalg.solve((T + B/dt), (np.dot(B/dt,P_old)+Q)) \n",
    "    \n",
    "    # Update Values, time step and Add plot\n",
    "    P_old = np.copy(P_new)\n",
    "    t = t + dt\n",
    "    n = n + 1\n",
    "    \n",
    "    if t >= tmax:\n",
    "        break\n",
    "    \n",
    "    if n%nout == 0:\n",
    "        print('{0}th Time step , day{1:05.2f}'.format(n, t/(86400)))\n",
    " #       SavePlot(x, P_new, t, L)\n",
    "        SaveCountourOf1Ddata(P_new, t, L, W, Pmin, Pmax, n, saveflag)\n",
    "\n",
    "            \n",
    "SavePlot(x, P_new, t, L)\n",
    "# plt.legend()\n",
    "plt.show()"
   ]
  },
  {
   "cell_type": "code",
   "execution_count": 24,
   "id": "547c00ff-951e-4484-ad5f-1934c98aaa04",
   "metadata": {},
   "outputs": [
    {
     "data": {
      "text/plain": [
       "<matplotlib.colorbar.Colorbar at 0x1c783df7490>"
      ]
     },
     "execution_count": 24,
     "metadata": {},
     "output_type": "execute_result"
    },
    {
     "data": {
      "image/png": "[encoded data removed]",
      "text/plain": [
       "<Figure size 576x432 with 2 Axes>"
      ]
     },
     "metadata": {
      "needs_background": "light"
     },
     "output_type": "display_data"
    }
   ],
   "source": [
    "fig = plt.figure(figsize=(8.0, 6.0))\n",
    "plt.imshow([P_new, P_new], extent = [0, L, 0, W], cmap = 'jet', vmin=0, vmax=1e6)\n",
    "plt.xlabel('L[m]')\n",
    "plt.ylabel('W[m]')\n",
    "plt.title(\"Aquifer Pressure [Pa]@ {:d}days\".format(int(t/86400)))\n",
    "plt.colorbar(aspect = 20, orientation= 'horizontal', shrink=1)"
   ]
  },
  {
   "cell_type": "markdown",
   "id": "7d48b904-e2ad-4c80-b4dd-61f70fac60a4",
   "metadata": {},
   "source": [
    "<h2>結果のgif</h2>\n",
    "<img src=\"APressureUsingSP.gif\">"
   ]
  },
  {
   "cell_type": "markdown",
   "id": "6459dc7d-5a5e-4d76-9628-147c8b6516a3",
   "metadata": {},
   "source": [
    "<center>\n",
    "    <a href=\"../../index.html\">戻る</a>\n",
    "</center>"
   ]
  },
  {
   "cell_type": "code",
   "execution_count": null,
   "id": "e409b529-a598-44a4-927f-9eaa328b948e",
   "metadata": {},
   "outputs": [],
   "source": []
  }
 ],
 "metadata": {
  "kernelspec": {
   "display_name": "Python 3 (ipykernel)",
   "language": "python",
   "name": "python3"
  },
  "language_info": {
   "codemirror_mode": {
    "name": "ipython",
    "version": 3
   },
   "file_extension": ".py",
   "mimetype": "text/x-python",
   "name": "python",
   "nbconvert_exporter": "python",
   "pygments_lexer": "ipython3",
   "version": "3.9.12"
  }
 },
 "nbformat": 4,
 "nbformat_minor": 5
}
