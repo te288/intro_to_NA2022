{
 "cells": [
  {
   "cell_type": "markdown",
   "id": "792aab2b-9985-4b02-bc52-395af5d09faa",
   "metadata": {},
   "source": [
    "<center>\n",
    "    <h1 style=\"color:blue\">IMPES法</h1>\n",
    "</center>\n",
    "水攻法を想定したIMPES法による1次元油層解析手法の説明。ただし，沸点圧力（に伴う油層内での3相流）や溶解ガス油比（Solution Gas Oil Ratio），重力と毛細管圧力の影響は無視する。"
   ]
  },
  {
   "cell_type": "markdown",
   "id": "c53388cd-db93-4409-bb48-b3ca7525b35e",
   "metadata": {
    "slideshow": {
     "slide_type": "fragment"
    },
    "tags": []
   },
   "source": [
    "<h2><b><u>支配方程式</u></b></h2>\n",
    "<ul>\n",
    "    <ol>\n",
    "        水の質量保存＋ダルシー則\n",
    "        <br><br>\n",
    "        $$\n",
    "        \\frac{\\phi}{B_{w}}\\frac{\\partial S_{w}}{\\partial t}+\\left[\\frac{\\phi S_{w}}{B_{w}}c_w + \\frac{\\phi S_{w}}{B_{w}}c_r\\right]\\frac{\\partial P}{\\partial t} = \\frac{\\partial}{\\partial x}\\left[ \\frac{kk_{rw}}{\\mu_{w}B_{w}} \\frac{\\partial P}{\\partial x} \\right]+\\tilde{q_w}\\tag{1}\n",
    "        $$\n",
    "        <br>\n",
    "    </ol>\n",
    "    <ol>\n",
    "        油の質量保存＋ダルシー則\n",
    "        <br><br>\n",
    "        $$\n",
    "        \\frac{\\phi}{B_{o}}\\frac{\\partial S_{o}}{\\partial t}+\\left[\\frac{\\phi S_{o}}{B_{o}}c_o + \\frac{\\phi S_{o}}{B_{o}}c_r\\right]\\frac{\\partial P}{\\partial t} = \\frac{\\partial}{\\partial x}\\left[ \\frac{kk_{ro}}{\\mu_{o}B_{o}} \\frac{\\partial P}{\\partial x} \\right]+\\tilde{q_o}\\tag{2}\n",
    "        $$\n",
    "        <br>\n",
    "    </ol>\n",
    "    <ol>\n",
    "        油層圧力の式\n",
    "    <br>式$(1) +$式$(2)\\times\\frac{B_o}{B_w}$によって\n",
    "        <br><br>\n",
    "        $$\n",
    "        \\frac{\\phi c_t}{B_w}\\frac{\\partial P}{\\partial t}=\\frac{\\partial}{\\partial x}\\left[ \\frac{kk_{rw}}{\\mu_{w}B_{w}} \\frac{\\partial P}{\\partial x} \\right]+\\frac{B_o}{B_w}\\frac{\\partial}{\\partial x}\\left[ \\frac{kk_{ro}}{\\mu_{o}B_{o}} \\frac{\\partial P}{\\partial x} \\right]+\\tilde{q_w}+\\frac{B_o}{B_w}\\tilde{q_o}\\tag{3}\n",
    "        $$\n",
    "        <br>\n",
    "        ただし，$c_t = S_wc_w+S_oc_o+c_r$ と置く。\n",
    "    </ol>\n",
    "</ul>"
   ]
  },
  {
   "cell_type": "markdown",
   "id": "c1a06004-cff9-4319-93ac-14733d10a606",
   "metadata": {},
   "source": [
    "<h2><b><u>計算手順</u></b></h2>\n",
    "以下にIMPES法（<b>IM</b>plicit <b>P</b>ressure, <b>E</b>xplicit<b> S</b>aturation）の離散化式と計算手順を示す。IMPES法では $n+1$ ステップ目の圧力を陰解法で，飽和率（多くは水）を陽解法で計算する。"
   ]
  },
  {
   "cell_type": "markdown",
   "id": "3f807eb0-e897-4b24-8a57-7478974fa323",
   "metadata": {},
   "source": [
    "<h3>STEP-0：相対浸透率の算出と従属変数の決定</h3>\n",
    "まず $n$ ステップ目における水飽和率 $S_{w}^{n}$ から相対浸透率 $k_{rw}(S_w)$，$k_{ro}(S_w)$ と $T_{w, i\\pm\n",
    "\\frac{1}{2}}$，$T_{o, i\\pm\n",
    "\\frac{1}{2}}$ を求める。\n",
    "<br><br>\n",
    "$$\n",
    "T_{w, i\\pm\n",
    "\\frac{1}{2}}=k_{rw, i\\pm\n",
    "\\frac{1}{2}} \\left.\\frac{kA}{B_w\\mu_{w}\\Delta x}\\right|_{i\\pm\\frac{1}{2}}\n",
    "$$\n",
    "<br>\n",
    "$$\n",
    "T_{o, i\\pm\n",
    "\\frac{1}{2}}=k_{ro, i\\pm\n",
    "\\frac{1}{2}} \\left.\\frac{kA}{B_o\\mu_{o}\\Delta x}\\right|_{i\\pm\\frac{1}{2}}\n",
    "$$\n",
    "<br>\n",
    "相対浸透率 $k_{rw, i\\pm\\frac{1}{2}}$，$k_{ro, i\\pm\\frac{1}{2}}$ は風上側の値を用いる（風上側の値を用いても数値解が振動することがある）。"
   ]
  },
  {
   "cell_type": "markdown",
   "id": "8621afc3-8e9e-4eac-ad8a-2f933b75ade6",
   "metadata": {},
   "source": [
    "<h3>STEP-1：油層圧力</h3>\n",
    "式$(3)$を有限体積法で離散化すると，$i$ 番目のグリッドについて\n",
    "<br><br>\n",
    "\\begin{align}\n",
    "-\\left(T_{w, i-\\frac{1}{2}}+\\frac{B_o}{B_w}T_{o, i-\\frac{1}{2}}\\right)&P^{n+1}_{i-1}\\\\\n",
    "+\\left(\n",
    "T_{w, i-\\frac{1}{2}}+\\frac{B_o}{B_w}T_{o, i-\\frac{1}{2}}+\n",
    "T_{w, i+\\frac{1}{2}}+\\frac{B_o}{B_w}T_{o, i+\\frac{1}{2}}+\n",
    "\\frac{V\\phi c_t}{B_w}\n",
    "\\right)&P^{n+1}_{i}\\\\\n",
    "-\\left(T_{w, i+\\frac{1}{2}}+\\frac{B_o}{B_w}T_{o, i+\\frac{1}{2}}\\right)&P^{n+1}_{i+1}\n",
    "=\\frac{V_i\\phi_{i} c_{t, i}}{B_w}P^{n}_{i}+Q_{w, i}+\\frac{B_{o}}{B_{w}}Q_{o, i}\\tag{4}\n",
    "\\end{align}"
   ]
  },
  {
   "cell_type": "markdown",
   "id": "99cc4be0-d60e-4a30-93c4-5e262c6e36a2",
   "metadata": {},
   "source": [
    "<h3>STEP-2：水飽和率</h3>\n",
    "式$(1)$を有限体積法で離散化すると，$i$ 番目のグリッドについて式$(5)$を得る。ただし，圧力にはSTEP1で求めた$P^{n+1}$を使用し，左辺第2項が飽和率変化に与える影響は小さいとして無視する。\n",
    "<br><br>\n",
    "$$\n",
    "S^{n+1}_{w, i}=S^{n}_{w, i}+\\frac{B_w\\Delta t}{V_i\\phi_{i}}\n",
    "\\left[\n",
    "T_{w, i-\\frac{1}{2}}P^{n+1}_{i-1}\n",
    "+\\left(-T_{w, i-\\frac{1}{2}}-T_{w, i+\\frac{1}{2}}\\right)P^{n+1}_{i}+\n",
    "T_{w, i+\\frac{1}{2}}P^{n+1}_{i+1}\n",
    "+Q_{w, i}\n",
    "\\right]\\tag{5}\n",
    "$$"
   ]
  },
  {
   "cell_type": "markdown",
   "id": "8e6550e6-3f0d-4a4d-aa88-64765f60a744",
   "metadata": {},
   "source": [
    "<h3>STEP-3：油飽和率</h3>\n",
    "$S_w+S_o=1$と仮定すれば，\n",
    "<br><br>\n",
    "$$\n",
    "S^{n+1}_{o, i}=1-S^{n+1}_{w, i}\\tag{6}\n",
    "$$\n",
    "<br><br>"
   ]
  },
  {
   "cell_type": "markdown",
   "id": "02000472-cf73-42f8-890b-96a5d682c551",
   "metadata": {},
   "source": [
    "<b>STEP3まで実行したら次のタイムステップへ，STEP0から繰り返し</b>"
   ]
  },
  {
   "cell_type": "markdown",
   "id": "56767c98-8239-40e3-9e60-2e67478a58f7",
   "metadata": {},
   "source": [
    "<h2><b><u>実装のコツ</u></b></h2>"
   ]
  },
  {
   "cell_type": "markdown",
   "id": "6112c4c7-00fd-43a4-854a-1b58942cb654",
   "metadata": {},
   "source": [
    "<h3>ベクトルと行列による演算</h3>\n",
    "式$(4)$～式$(6)$はベクトルと<b>行列</b>で次の様にまとめられる。\n",
    "<ul>\n",
    "    <ol><h4>油層圧力</h4><br>\n",
    "        $$\n",
    "        \\left[\\boldsymbol{T}+\\frac{\\boldsymbol{B}}{\\Delta t}\\right]\\vec{P^{n+1}}=\n",
    "        \\frac{\\boldsymbol{B}}{\\Delta t}\\vec{P^{n}}+\\vec{Q}\\tag{7}\n",
    "        $$\n",
    "        ただし，\n",
    "        $$\n",
    "        \\boldsymbol{T} = \\boldsymbol{T_w} + \\frac{B_o}{B_w}\\boldsymbol{T_o},\\quad\n",
    "        \\vec{Q}=\\vec{Q_w}+\\frac{B_o}{B_w}\\vec{Q_o}\n",
    "        $$\n",
    "    </ol>\n",
    "    <ol><h4>水飽和率</h4><br>\n",
    "        $$\n",
    "        \\vec{S^{n+1}_{w}}=\\vec{S^{n}_{w}}+\\boldsymbol{d}\\left[-\\boldsymbol{T_w}\\vec{P^{n+1}}+\\vec{Q_w}\\right]\\tag{8}\n",
    "        $$\n",
    "        $\\boldsymbol{d}$は$d_{ii}=\\frac{B_w\\Delta t}{V_i\\phi_{i}c_{t,i}}$の対角行列である。\n",
    "    </ol>\n",
    "</ul>\n",
    "ベクトルと行列にまとめると，<code>numpy</code>や<code>scipy</code>で容易に計算できる。"
   ]
  },
  {
   "cell_type": "markdown",
   "id": "57a648f9-2ac4-4722-bf30-be9e1185ac6c",
   "metadata": {},
   "source": [
    "<h3>関数プログラミング</h3>\n",
    "<p>一連の処理をすべて単一のソースコードに記述すると，全体の行数が増加し，可読性が低下するとともに，修正がしにくくなる。そこで繰り返し登場する処理を関数にまとめ，自作ライブラリとしてインポートするとよい。</p>\n",
    "<p>今回の演習では\n",
    "<ul>\n",
    "    <li>相対浸透率 $k_{r\\alpha=w, o}$ を計算する関数</li>\n",
    "    <li>係数行列 $T_{\\alpha=w, o}$ を計算する関数</li>\n",
    "</ul>の2つを自作ライブラリとしてインポートする。</p>"
   ]
  },
  {
   "cell_type": "markdown",
   "id": "2cdac5a4-5fc1-4028-97b8-75b1f68b2302",
   "metadata": {},
   "source": [
    "<h2><b><u>参考資料</u></b></h2>\n",
    "<ul>\n",
    "    <ol>石油技術協会；石油鉱業便覧（2013）</ol>\n",
    "    <ol>Dr. Matthew Balhoff，The University of Texas at Austion；<i>Introduction to Reservoir Simulation</i>（2016）</ol>\n",
    "</ul>\n",
    "    "
   ]
  },
  {
   "cell_type": "markdown",
   "id": "c65cec3b-8247-4d90-9482-67cdaef64acf",
   "metadata": {},
   "source": [
    "<center>\n",
    "    <a href=\"../index.html\">戻る</a>\n",
    "</center>"
   ]
  }
 ],
 "metadata": {
  "kernelspec": {
   "display_name": "Python 3 (ipykernel)",
   "language": "python",
   "name": "python3"
  },
  "language_info": {
   "codemirror_mode": {
    "name": "ipython",
    "version": 3
   },
   "file_extension": ".py",
   "mimetype": "text/x-python",
   "name": "python",
   "nbconvert_exporter": "python",
   "pygments_lexer": "ipython3",
   "version": "3.9.12"
  }
 },
 "nbformat": 4,
 "nbformat_minor": 5
}
