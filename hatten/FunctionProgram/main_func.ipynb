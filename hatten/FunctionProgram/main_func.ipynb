{
 "cells": [
  {
   "cell_type": "markdown",
   "id": "33a6a4c0-277c-4a0d-a94f-2805054dbd9f",
   "metadata": {},
   "source": [
    "<center>\n",
    "    <h1>自作関数</h1>\n",
    "</center>"
   ]
  },
  {
   "cell_type": "markdown",
   "id": "9f8a03c0-7382-4a2b-846f-44bad9b3182c",
   "metadata": {},
   "source": [
    "<h2>呼び出し方</h2>\n",
    "Pythonにおける自作関数の呼び出し方は様々。以下はその一例。"
   ]
  },
  {
   "cell_type": "markdown",
   "id": "657c66d4-3e3c-48a8-9507-76984dabf7a4",
   "metadata": {},
   "source": [
    "<h3>例1</h3>"
   ]
  },
  {
   "cell_type": "code",
   "execution_count": null,
   "id": "43b53a05-d27a-434d-a6ae-27acf4806236",
   "metadata": {},
   "outputs": [],
   "source": [
    "#UseFunctionExample.py から関数 hello をインポート\n",
    "from UserFunctionExample import hello"
   ]
  },
  {
   "cell_type": "code",
   "execution_count": null,
   "id": "d2edee78-1235-4695-883f-9c92b45c6494",
   "metadata": {},
   "outputs": [],
   "source": [
    "hello()"
   ]
  },
  {
   "cell_type": "markdown",
   "id": "818a77f1-06e7-4a33-8559-de1df94b41e4",
   "metadata": {},
   "source": [
    "<h3>例2</h3>"
   ]
  },
  {
   "cell_type": "code",
   "execution_count": null,
   "id": "c7620e7d-4161-4a62-8eb0-14221f3def20",
   "metadata": {},
   "outputs": [],
   "source": [
    "# Example2.py を（名前が長いので）ex2としてインポート\n",
    "import Example2 as ex2"
   ]
  },
  {
   "cell_type": "code",
   "execution_count": null,
   "id": "11fc0b1a-4b26-4c94-98f7-ef6b0a3cf5f1",
   "metadata": {},
   "outputs": [],
   "source": [
    "x = 10; y = 8;"
   ]
  },
  {
   "cell_type": "code",
   "execution_count": null,
   "id": "af587ab3-7035-4036-be6b-3c3b1082c351",
   "metadata": {},
   "outputs": [],
   "source": [
    "# ex2.自作関数名\n",
    "ex2.Area(x, y)"
   ]
  },
  {
   "cell_type": "markdown",
   "id": "40499b75-07b3-4e1e-b9be-d71c6acdab42",
   "metadata": {},
   "source": [
    "<h2>演習</h2>\n",
    "演習1, 2を飛ばして3に取り組んでOK"
   ]
  },
  {
   "cell_type": "markdown",
   "id": "6d9bf9df-60f6-4008-af48-a58b055b1684",
   "metadata": {},
   "source": [
    "<h3>演習1</h3>\n",
    "<code>ReservoirSim.py</code>に水の相対浸透率を計算する自作ライブラリを作成する。<br>\n",
    "ただし，相対浸透率の計算には　Generalized Coreyを用いて，ライブラリの引き値と返り値は次の通りとする。<br>\n",
    "【入力】<br>\n",
    "水の飽和率（スカラー or 配列）<br>\n",
    "水の相対浸透率@$S_w=S_{wi}$<br>\n",
    "水の残留飽和率（residual water saturation）<br>\n",
    "油の残留飽和率（residual oil saturation）<br>\n",
    "Generalized-Coreyの指数<br>\n",
    "【出力】<br>\n",
    "水の相対浸透率（入力の水飽和率と同じサイズ）"
   ]
  },
  {
   "cell_type": "code",
   "execution_count": null,
   "id": "2993b117-1e52-4857-b4f6-fc4ea9e6a999",
   "metadata": {},
   "outputs": [],
   "source": []
  },
  {
   "cell_type": "markdown",
   "id": "fdc57492-5851-4d0e-8718-e26bbba9b6c1",
   "metadata": {},
   "source": [
    "<h3>演習2</h3>\n",
    "<code>ReservoirSim.py</code>に油の相対浸透率を計算する自作ライブラリを作成する。<br>\n",
    "ただし，相対浸透率の計算には　Generalized Coreyを用いて，ライブラリの引き値と返り値は次の通りとする。<br>\n",
    "【入力】<br>\n",
    "水の飽和率（スカラー or 配列）<br>\n",
    "油の相対浸透率@$S_w=1-S_{or}$<br>\n",
    "水の残留飽和率（residual water saturation）<br>\n",
    "油の残留飽和率（residual oil saturation）<br>\n",
    "Generalized-Coreyの指数<br>\n",
    "【出力】<br>\n",
    "油の相対浸透率（入力の水飽和率と同じサイズ）"
   ]
  },
  {
   "cell_type": "code",
   "execution_count": null,
   "id": "c6a4401d-b8d9-4556-a003-e298cd823f0b",
   "metadata": {},
   "outputs": [],
   "source": []
  },
  {
   "cell_type": "markdown",
   "id": "eecd1355-389a-4619-9a00-44fb4ad1d2d2",
   "metadata": {},
   "source": [
    "<h3>演習3</h3>"
   ]
  },
  {
   "cell_type": "markdown",
   "id": "8cbe7d62-ef75-4715-a91f-c9379b8eec3e",
   "metadata": {},
   "source": [
    "<code>ReservoirSim.py</code>に演習1と演習2の内容をまとめた自作ライブラリを作成する。<br>\n",
    "【入力】<br>\n",
    "水の飽和率（スカラー or 配列）<br>\n",
    "水の相対浸透率@$S_w=S_{wi}$<br>\n",
    "油の相対浸透率@$S_w=1-S_{or}$<br>\n",
    "水の残留飽和率（residual water saturation）<br>\n",
    "油の残留飽和率（residual oil saturation）<br>\n",
    "Generalized-Coreyの指数<br>\n",
    "【出力】<br>\n",
    "水の相対浸透率（入力の水飽和率と同じサイズ）<br>\n",
    "油の相対浸透率（入力の水飽和率と同じサイズ）"
   ]
  },
  {
   "cell_type": "code",
   "execution_count": null,
   "id": "f8b17e17-8aad-419c-b622-7136f84983a2",
   "metadata": {},
   "outputs": [],
   "source": []
  }
 ],
 "metadata": {
  "kernelspec": {
   "display_name": "Python 3 (ipykernel)",
   "language": "python",
   "name": "python3"
  },
  "language_info": {
   "codemirror_mode": {
    "name": "ipython",
    "version": 3
   },
   "file_extension": ".py",
   "mimetype": "text/x-python",
   "name": "python",
   "nbconvert_exporter": "python",
   "pygments_lexer": "ipython3",
   "version": "3.7.0"
  }
 },
 "nbformat": 4,
 "nbformat_minor": 5
}
