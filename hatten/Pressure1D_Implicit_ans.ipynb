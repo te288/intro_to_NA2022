{
 "cells": [
  {
   "cell_type": "markdown",
   "id": "29702e43-50c2-4ff1-8965-9ee8b147748f",
   "metadata": {},
   "source": [
    "### Jupyter Labの使い方Tips\n",
    "#### **esc +**\n",
    "esc + MでMarkdown，esc + Yでコード，esc + A/Bで現在のセルの上/下にセルを追加，esc + Xでセルをカット\n",
    "#### **その他**\n",
    "JupyterLabのメニュー「View」→「Show Line Numbers」にチェックを入れると、行番号が表示\n",
    "\n",
    "Edit > Clear all outputで全てのセルの出力をクリア"
   ]
  },
  {
   "cell_type": "markdown",
   "id": "4b0f1b3b-dba8-4259-a443-1f81f985b70b",
   "metadata": {},
   "source": [
    "<center>\n",
    "    <h1 style=\"color:blue\"><b>1次元圧力拡散方程式</b></h1>\n",
    "</center>\n",
    "ここでは陰解法による1次元圧力拡散方程式を解くプログラム作成を目指す。離散化手法は陰解法を採用し，離散化式の単位を流量とする。"
   ]
  },
  {
   "cell_type": "markdown",
   "id": "226cc787-5370-41d1-a331-5464def41d46",
   "metadata": {},
   "source": [
    "<h2><b><u>支配方程式</u></b></h2>\n",
    "密度が一定の，1次元で水平方向に広がる帯水層の質量保存則は\n",
    "<br><br>\n",
    "$$\n",
    "\\rho \\phi\\left(\n",
    "\\frac{1}{\\rho}\\frac{\\partial \\rho}{\\partial P}+\\frac{1}{\\phi}\\frac{\\partial \\phi}{\\partial P}\n",
    "\\right) \n",
    "\\frac{\\partial P}{\\partial t}\n",
    "= \\rho\\frac{\\partial}{\\partial x}\\frac{k}{\\mu}\\frac{\\partial P}{\\partial x}+\\frac{\\tilde{m}}{V}\\tag{1}\n",
    "$$\n",
    "<br><br>\n",
    "となる。$\\tfrac{1}{\\rho}\\frac{\\partial \\rho}{\\partial P}+\\frac{1}{\\phi}\\frac{\\partial \\phi}{\\partial P}=c$（圧縮係数）とおき，両辺を密度$\\rho$で除算すると，\n",
    "<br><br>\n",
    "$$\n",
    "\\phi c \\frac{\\partial P}{\\partial t}\n",
    "= \\frac{\\partial}{\\partial x}\\frac{k}{\\mu}\\frac{\\partial P}{\\partial x}+\\frac{Q}{V}\\tag{2}\n",
    "$$\n",
    "<br><br>\n",
    "以下式(2)を離散化して解く\n"
   ]
  },
  {
   "cell_type": "markdown",
   "id": "2aad366d-3dbd-4f5e-bd62-a062a4197440",
   "metadata": {},
   "source": [
    "<h2><b><u>問題設定</u></b></h2>\n",
    "1次元の圧力拡散方程式を解くが，下図のように断面積Aを持つ直方体状の帯水層を想定する。\n",
    "<center>\n",
    "<img src=\"fig/Aquifer.png\" width = \"600px\"></img>\n",
    "</center>"
   ]
  },
  {
   "cell_type": "markdown",
   "id": "e3a77919-30a1-4ce3-b1c8-94ea2e2cd0e6",
   "metadata": {},
   "source": [
    "<h2><b><u>離散化</u></b></h2>\n",
    "$i$ 番目のグリッドにおける離散化式を導出する。グリッドの体積 $V$ を両辺にかけて"
   ]
  },
  {
   "cell_type": "markdown",
   "id": "1a7291e6-d05b-4e31-b713-05222b68ea09",
   "metadata": {},
   "source": [
    "$$\n",
    "V\\phi c \\frac{\\partial P}{\\partial t}\n",
    "= V\\frac{\\partial}{\\partial x}\\frac{k}{\\mu}\\frac{\\partial P}{\\partial x}+Q\\tag{3}\n",
    "$$"
   ]
  },
  {
   "cell_type": "markdown",
   "id": "45f92cda-3d24-43d7-91b2-78b93c2f8c60",
   "metadata": {},
   "source": [
    "を得る。ただし，$Q$ はソース/シンク項で，坑井による注水/揚水に相当する。"
   ]
  },
  {
   "cell_type": "markdown",
   "id": "0251ed42-5d0a-4e13-9ff6-ddab23146c0c",
   "metadata": {},
   "source": [
    "<a href = \"https://te288.github.io/intro_to_NA2022/textbook/04_intro2ReservoirSim.pdf\">貯留層解析</a>で説明した通り，陰解法の場合式(3)の両辺は<br><br>\n",
    "$$\n",
    "V\\phi c \\frac{\\partial P}{\\partial t}=\\phi c A\\Delta x \\frac{P^{\\left(n+1\\right)}_{i}-P^{\\left(n\\right)}_{i}}{\\Delta t}\\tag{4}\n",
    "$$"
   ]
  },
  {
   "cell_type": "markdown",
   "id": "9ff7c520-e2d9-4517-b98f-9f17ebe8e3ac",
   "metadata": {},
   "source": [
    "$$\n",
    "V\\frac{\\partial}{\\partial x}\\frac{k}{\\mu}\\frac{\\partial P}{\\partial x}+Q=\n",
    "\\left.\\frac{kA}{\\mu\\Delta x}\\right|_{i+\\frac{1}{2}}\\left(P^{\\left(n+1\\right)}_{i+1}-P^{\\left(n+1\\right)}_{i}\\right)-\n",
    "\\left.\\frac{kA}{\\mu\\Delta x}\\right|_{i-\\frac{1}{2}}\\left(P^{\\left(n+1\\right)}_{i}-P^{\\left(n+1\\right)}_{i-1}\\right) + Q_i\\tag{5}\n",
    "$$"
   ]
  },
  {
   "cell_type": "markdown",
   "id": "71293795-9927-40d0-ae05-5fbdc747c08e",
   "metadata": {},
   "source": [
    "式(4)と式(5)をまとめて整理すると"
   ]
  },
  {
   "cell_type": "markdown",
   "id": "097c5304-02f5-4c4e-a67d-d85583e94679",
   "metadata": {},
   "source": [
    "$$\n",
    "-\\left.\\frac{kA}{\\mu\\Delta x}\\right|_{i+\\frac{1}{2}}P^{\\left(n+1\\right)}_{i+1} + \\left(\\left(\\frac{kA}{\\mu\\Delta x}\\right|_{i+\\frac{1}{2}} +\\left.\\frac{kA}{\\mu\\Delta x}\\right|_{i-\\frac{1}{2}}+\\left(\\frac{\\phi c V }{\\Delta t}\\right)\\right)P^{\\left(n+1\\right)}_{i}-\\left.\\frac{kA}{\\mu\\Delta x}\\right|_{i-\\frac{1}{2}}P^{\\left(n+1\\right)}_{i-1}=\n",
    "\\frac{\\phi c V }{\\Delta t}P^{\\left(n\\right)}_i + Q \\tag{6} \n",
    "$$"
   ]
  },
  {
   "cell_type": "markdown",
   "id": "bfa74048-5f4d-4db9-a106-3cf83ccea84a",
   "metadata": {},
   "source": [
    "<h3>!確認</h3>\n",
    "$0$ と $N-1$ 番目のグリッドについて，不透水/圧力一定 $\\left(P=P_b\\right)$ 境界の場合の離散化式は？"
   ]
  },
  {
   "cell_type": "markdown",
   "id": "2f0b19a2-1baa-456e-aea7-09814f18e6a3",
   "metadata": {},
   "source": [
    "<h3>問題</h3>\n",
    "実際のプログラミングでは，\n",
    "$$\n",
    "\\left.\\frac{kA}{\\mu\\Delta x}\\right|_{i\\pm\\frac{1}{2}}\n",
    "$$\n",
    "の計算で$k_i$と$k_{i\\pm1}$の調和平均を計算する必要がある。調和平均の定義は\n",
    "$$\n",
    "x_H = \\dfrac{1}{\\frac{1}{n}\\left(\\frac{1}{x_1}+\\frac{1}{x_2}+...+\\frac{1}{x_{n-1}}+\\frac{1}{x_{n}}\\right)}\n",
    "$$\n",
    "ところが２つのデータ<code>a</code>，<code>b</code>の調和平均<code>2/(1/a+1/b)</code> では<code>a</code>，<code>b</code>のどちらかが<code>0</code>であるとき，Pythonでは"
   ]
  },
  {
   "cell_type": "code",
   "execution_count": 28,
   "id": "7080314c-725c-4824-b5e6-b704cf75e5c8",
   "metadata": {},
   "outputs": [
    {
     "ename": "ZeroDivisionError",
     "evalue": "division by zero",
     "output_type": "error",
     "traceback": [
      "\u001b[1;31m---------------------------------------------------------------------------\u001b[0m",
      "\u001b[1;31mZeroDivisionError\u001b[0m                         Traceback (most recent call last)",
      "Input \u001b[1;32mIn [28]\u001b[0m, in \u001b[0;36m<cell line: 2>\u001b[1;34m()\u001b[0m\n\u001b[0;32m      1\u001b[0m a \u001b[38;5;241m=\u001b[39m \u001b[38;5;241m10\u001b[39m; b \u001b[38;5;241m=\u001b[39m \u001b[38;5;241m0\u001b[39m;\n\u001b[1;32m----> 2\u001b[0m \u001b[38;5;241m2\u001b[39m\u001b[38;5;241m/\u001b[39m(\u001b[38;5;241m1\u001b[39m\u001b[38;5;241m/\u001b[39ma \u001b[38;5;241m+\u001b[39m \u001b[38;5;241;43m1\u001b[39;49m\u001b[38;5;241;43m/\u001b[39;49m\u001b[43mb\u001b[49m)\n",
      "\u001b[1;31mZeroDivisionError\u001b[0m: division by zero"
     ]
    }
   ],
   "source": [
    "a = 10; b = 0;\n",
    "2/(1/a + 1/b)"
   ]
  },
  {
   "cell_type": "markdown",
   "id": "58960dba-d9a0-417c-ba1e-64a40f55fec0",
   "metadata": {},
   "source": [
    "のようにエラーとなってしまう。このエラーを発生させない為には，どのようなコードを書けばよいだろうか？"
   ]
  },
  {
   "cell_type": "markdown",
   "id": "b795be80-b32f-4523-bdc5-e6897b7c46a3",
   "metadata": {},
   "source": [
    "<h3 style=\"color:red\">解答</h3>\n",
    "$$\n",
    "x_H = \\frac{1}{ \\frac{1}{2}\\left(\\frac{1}{a}+\\frac{1}{b}\\right) } = \\frac{2ab}{a+b}\n",
    "$$\n",
    "と変形すれば，<code>0</code>除算を回避できる。"
   ]
  },
  {
   "cell_type": "code",
   "execution_count": 29,
   "id": "32a47b0b-207c-47da-b92c-e831ea7bcdd5",
   "metadata": {},
   "outputs": [
    {
     "data": {
      "text/plain": [
       "0.0"
      ]
     },
     "execution_count": 29,
     "metadata": {},
     "output_type": "execute_result"
    }
   ],
   "source": [
    "2*(a*b)/(a+b)"
   ]
  },
  {
   "cell_type": "markdown",
   "id": "d86e8cb5-59f3-4cca-b149-15507f780a98",
   "metadata": {
    "tags": []
   },
   "source": [
    "<h2><b><u>実装</u></b></h2>"
   ]
  },
  {
   "cell_type": "code",
   "execution_count": 3,
   "id": "a687a777-d1c2-49fc-ae0b-bdb426bf3fe0",
   "metadata": {},
   "outputs": [],
   "source": [
    "## Import Modules & Plot function\n",
    "import numpy as np\n",
    "from scipy.stats import hmean\n",
    "from scipy.sparse import spdiags\n",
    "import matplotlib.pyplot as plt\n",
    "\n",
    "def SavePlot(x, P, t, L):\n",
    "  # Function to Plot & Save Pressure\n",
    "  # fig = plt.figure()\n",
    "    plt.plot(x, P_new, label='t={0:05.2f}'.format(t)) \n",
    "    plt.xlabel('x[m]')\n",
    "    plt.ylabel('Pressure [Pa]')\n",
    "    plt.xlim(0, L)\n",
    "    #plt.ylim(-1, 1)\n",
    "    plt.grid()\n",
    "    plt.title('Aquifer Pressure@{0:05.2f}[s]'.format(t))\n",
    "  # fig.savefig('t={0:05.2f}.png'.format(t)) #画像保存には20行目と21行目も実行\n",
    "  # plt.clf()"
   ]
  },
  {
   "cell_type": "code",
   "execution_count": 8,
   "id": "6c883f32-6b24-4f5e-81bb-5dc485baafee",
   "metadata": {},
   "outputs": [],
   "source": [
    "def SaveCountourOf1Ddata(P, t, L, W, Pmin, Pmax,n, saveflag):\n",
    "    plt.imshow([P_new, P_new], extent = [0, L, 0, W], cmap = 'jet', vmin=Pmin, vmax=Pmax)\n",
    "    plt.xlabel('L[m]')\n",
    "    plt.ylabel('W[m]')\n",
    "    plt.title(\"Aquifer Pressure [Pa]@ {:08.2f}days\".format(t/86400))\n",
    "    plt.colorbar(aspect = 20, orientation= 'horizontal', shrink=1)\n",
    "    if saveflag:\n",
    "        fig.savefig('result/AquiferPressure{:08.2f}days.png'.format(t/86400), facecolor=\"white\") #画像保存には20行目と21行目も実行%filename に＠や[]はつけない\n",
    "    plt.clf()"
   ]
  },
  {
   "cell_type": "code",
   "execution_count": 9,
   "id": "fc4deb88-f3b0-4be9-ba2e-b6b0f4045004",
   "metadata": {},
   "outputs": [],
   "source": [
    "## Input Parmeters\n",
    "# time step & boundary condition controll\n",
    "dt   = 43200   # dt [s] 43200[s] is equal to 0.5 days\n",
    "tmax = 43200*2*365.25/2 # Time to stop simlation [s]\n",
    "nout = 6  # output result ever nout step[]\n",
    "saveflag = False # flag to save contour map\n",
    "# Variable to decide Boundary condition\n",
    "#  1> Neumann, 0> Dirichlet\n",
    "BC_east = 0 # Boundary at right(x = L) \n",
    "BC_west  = 0 # Boundary at Left (x = 0)\n",
    "Pb_east = 0 # Pressure Value at x = L\n",
    "Pb_west  = 0 # Pressure Value at x = 0\n",
    "\n",
    "# Aquifer Geometory & coordinate\n",
    "L   = 3000     # Length of theReservoir [m]\n",
    "W   = 1000          # Width of the Reservoir [m]\n",
    "h   = 10         # Tickness of the Reservoir [m]\n",
    "N   = 100         # Number of Control Volume [-]\n",
    "dx  = L/N         # Length of Control Volume[m]\n",
    "A   = W*h           # cross-sectional area of reservoir [m^2]\n",
    "x   = np.zeros(N) # x coordinate[m]\n",
    "# Coordinate points of CV-center\n",
    "x[0]= dx/2\n",
    "for i in range(1, N):\n",
    "    x[i] = x[i-1] + dx\n",
    "    \n",
    "# Aquifer Properties\n",
    "perm   = 1e-1*np.ones(N)    # Absolute Permiability Field [m^2]\n",
    "phi    = 0.3*np.ones(N)  # Porosity Field [-]\n",
    "#P_init = np.abs(np.sin(x))     # Initial Condition of Pressure [Pa]\n",
    "P_init = 1e6*np.ones(N)\n",
    "\n",
    "# Fluid Properties\n",
    "c    = 1     # Compressibility[Pa^-1]\n",
    "mu   = 1     # Viscosity of Fluid[Pa*s]\n",
    "\n",
    "# Well Parameters\n",
    "Q   = np.zeros(N) # Source vector[m^/s]\n",
    "# Q[3] = 0.05 # > 0, Injection wells\n",
    "# Q[5] = -0.05 # < 0, Pumping wells"
   ]
  },
  {
   "cell_type": "code",
   "execution_count": 10,
   "id": "29463543-21b2-4776-9d1c-9f2e92c4ef7b",
   "metadata": {},
   "outputs": [],
   "source": [
    "## definition of Matrix for Linear simultaneous Eq.\n",
    "T  = np.zeros([N,N]) # transmissibility Matrix\n",
    "B   = np.zeros([N,N]) # Volume accumulation Matrix\n",
    "\n",
    "# T\n",
    "for i in range(0, N):\n",
    "    if i == 0:\n",
    "        Tw = 0\n",
    "        Te = A/(mu*dx)*(2*( perm[i] * perm[i+1] )/( perm[i] + perm[i+1]) )\n",
    "        T[i,i] = Tw + Te;\n",
    "        T[i,i+1] = -Te\n",
    "    elif i == N-1:\n",
    "        Tw = A/(mu*dx)*(2*( perm[i-1] * perm[i] )/( perm[i-1] + perm[i]) )\n",
    "        Te = 0\n",
    "        T[i,i]    = Tw + Te;\n",
    "        T[i, i-1] = -Tw\n",
    "    else:\n",
    "        Tw = A/(mu*dx)*(2*( perm[i-1] * perm[i] )/( perm[i-1] + perm[i]) )\n",
    "        Te = A/(mu*dx)*(2*( perm[i] * perm[i+1] )/( perm[i] + perm[i+1]) )\n",
    "        T[i,i] = Tw + Te;\n",
    "        T[i,i-1] = -Tw\n",
    "        T[i,i+1] = -Te\n",
    "\n",
    "# B\n",
    "for i in range(0, N):\n",
    "    B[i,i] = A*dx*phi[i]*c\n",
    "    \n",
    "# Boundary Condition and Q\n",
    "if BC_east == 0:\n",
    "    Q[0] = 2*T[0,0]*Pb_east\n",
    "    T[0,0] = T[0,0] + T[0,0];\n",
    "if BC_west == 0:\n",
    "    Q[N-1] = 2*T[N-1, N-1]*Pb_west\n",
    "    T[N-1,N-1] = T[N-1,N-1] + T[N-1,N-1]\n"
   ]
  },
  {
   "cell_type": "code",
   "execution_count": 11,
   "id": "01d78b63-73b8-4c0d-adcc-5e9601b01b13",
   "metadata": {},
   "outputs": [
    {
     "name": "stdout",
     "output_type": "stream",
     "text": [
      "6th Time step , day03.00\n",
      "12th Time step , day06.00\n",
      "18th Time step , day09.00\n",
      "24th Time step , day12.00\n",
      "30th Time step , day15.00\n",
      "36th Time step , day18.00\n",
      "42th Time step , day21.00\n",
      "48th Time step , day24.00\n",
      "54th Time step , day27.00\n",
      "60th Time step , day30.00\n",
      "66th Time step , day33.00\n",
      "72th Time step , day36.00\n",
      "78th Time step , day39.00\n",
      "84th Time step , day42.00\n",
      "90th Time step , day45.00\n",
      "96th Time step , day48.00\n",
      "102th Time step , day51.00\n",
      "108th Time step , day54.00\n",
      "114th Time step , day57.00\n",
      "120th Time step , day60.00\n",
      "126th Time step , day63.00\n",
      "132th Time step , day66.00\n",
      "138th Time step , day69.00\n",
      "144th Time step , day72.00\n",
      "150th Time step , day75.00\n",
      "156th Time step , day78.00\n",
      "162th Time step , day81.00\n",
      "168th Time step , day84.00\n",
      "174th Time step , day87.00\n",
      "180th Time step , day90.00\n",
      "186th Time step , day93.00\n",
      "192th Time step , day96.00\n",
      "198th Time step , day99.00\n",
      "204th Time step , day102.00\n",
      "210th Time step , day105.00\n",
      "216th Time step , day108.00\n",
      "222th Time step , day111.00\n",
      "228th Time step , day114.00\n",
      "234th Time step , day117.00\n",
      "240th Time step , day120.00\n",
      "246th Time step , day123.00\n",
      "252th Time step , day126.00\n",
      "258th Time step , day129.00\n",
      "264th Time step , day132.00\n",
      "270th Time step , day135.00\n",
      "276th Time step , day138.00\n",
      "282th Time step , day141.00\n",
      "288th Time step , day144.00\n",
      "294th Time step , day147.00\n",
      "300th Time step , day150.00\n",
      "306th Time step , day153.00\n",
      "312th Time step , day156.00\n",
      "318th Time step , day159.00\n",
      "324th Time step , day162.00\n",
      "330th Time step , day165.00\n",
      "336th Time step , day168.00\n",
      "342th Time step , day171.00\n",
      "348th Time step , day174.00\n",
      "354th Time step , day177.00\n",
      "360th Time step , day180.00\n"
     ]
    },
    {
     "data": {
      "image/png": "[encoded data removed]",
      "text/plain": [
       "<Figure size 576x432 with 1 Axes>"
      ]
     },
     "metadata": {
      "needs_background": "light"
     },
     "output_type": "display_data"
    }
   ],
   "source": [
    "## Simulation\n",
    "P_old  = np.copy(P_init) # Pressure at n-th step\n",
    "P_new  = np.copy(P_init) # Pressure at n+1-th step\n",
    "t = 0\n",
    "n = 0\n",
    "fig = plt.figure(figsize=(8.0, 6.0))\n",
    "Pmax = np.max([np.max(P_init), Pb_east, Pb_west])\n",
    "Pmin = np.min([np.min(P_init), Pb_east, Pb_west])\n",
    "\n",
    "# Plot Initial Condition\n",
    "#SavePlot(x, P_new, t, L)\n",
    "SaveCountourOf1Ddata(P_init, t, L, W, Pmin, Pmax, n, saveflag)\n",
    "while True:\n",
    "    # solve Simultaneous equations\n",
    "    P_new = np.linalg.solve((T + B/dt), (np.dot(B/dt,P_old)+Q)) \n",
    "    \n",
    "    # Update Values, time step and Add plot\n",
    "    P_old = np.copy(P_new)\n",
    "    t = t + dt\n",
    "    n = n + 1\n",
    "    \n",
    "    if t >= tmax:\n",
    "        break\n",
    "    \n",
    "    if n%nout == 0:\n",
    "        print('{0}th Time step , day{1:05.2f}'.format(n, t/(86400)))\n",
    " #       SavePlot(x, P_new, t, L)\n",
    "        SaveCountourOf1Ddata(P_new, t, L, W, Pmin, Pmax, n, saveflag)\n",
    "\n",
    "            \n",
    "SavePlot(x, P_new, t, L)\n",
    "# plt.legend()\n",
    "plt.show()"
   ]
  },
  {
   "cell_type": "code",
   "execution_count": 12,
   "id": "1537e5cd-5f0a-465c-ba0f-79571c7a8773",
   "metadata": {},
   "outputs": [
    {
     "data": {
      "text/plain": [
       "<matplotlib.colorbar.Colorbar at 0x25f76ed3b50>"
      ]
     },
     "execution_count": 12,
     "metadata": {},
     "output_type": "execute_result"
    },
    {
     "data": {
      "image/png": "[encoded data removed]",
      "text/plain": [
       "<Figure size 576x432 with 2 Axes>"
      ]
     },
     "metadata": {
      "needs_background": "light"
     },
     "output_type": "display_data"
    }
   ],
   "source": [
    "fig = plt.figure(figsize=(8.0, 6.0))\n",
    "plt.imshow([P_new, P_new], extent = [0, L, 0, W], cmap = 'jet', vmin=0, vmax=1e6)\n",
    "plt.xlabel('L[m]')\n",
    "plt.ylabel('W[m]')\n",
    "plt.title(\"Aquifer Pressure [Pa]@ {:d}days\".format(int(t/86400)))\n",
    "plt.colorbar(aspect = 20, orientation= 'horizontal', shrink=1)"
   ]
  },
  {
   "cell_type": "code",
   "execution_count": null,
   "id": "9882e7db-610e-4566-80e4-1b28fe2ee15d",
   "metadata": {},
   "outputs": [],
   "source": []
  }
 ],
 "metadata": {
  "kernelspec": {
   "display_name": "Python 3 (ipykernel)",
   "language": "python",
   "name": "python3"
  },
  "language_info": {
   "codemirror_mode": {
    "name": "ipython",
    "version": 3
   },
   "file_extension": ".py",
   "mimetype": "text/x-python",
   "name": "python",
   "nbconvert_exporter": "python",
   "pygments_lexer": "ipython3",
   "version": "3.9.12"
  }
 },
 "nbformat": 4,
 "nbformat_minor": 5
}
